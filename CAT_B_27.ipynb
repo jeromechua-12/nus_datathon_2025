{
 "cells": [
  {
   "cell_type": "code",
   "execution_count": 1,
   "id": "98aa3e5f",
   "metadata": {},
   "outputs": [
    {
     "name": "stdout",
     "output_type": "stream",
     "text": [
      "Requirement already satisfied: numpy==2.3.0 in ./.venv/lib/python3.13/site-packages (from -r requirements.txt (line 1)) (2.3.0)\n",
      "Requirement already satisfied: pandas==2.3.0 in ./.venv/lib/python3.13/site-packages (from -r requirements.txt (line 2)) (2.3.0)\n",
      "Requirement already satisfied: matplotlib==3.10.3 in ./.venv/lib/python3.13/site-packages (from -r requirements.txt (line 3)) (3.10.3)\n",
      "Requirement already satisfied: plotly==6.1.2 in ./.venv/lib/python3.13/site-packages (from -r requirements.txt (line 4)) (6.1.2)\n",
      "Requirement already satisfied: nbformat==5.10.4 in ./.venv/lib/python3.13/site-packages (from -r requirements.txt (line 5)) (5.10.4)\n",
      "Requirement already satisfied: scipy==1.15.3 in ./.venv/lib/python3.13/site-packages (from -r requirements.txt (line 6)) (1.15.3)\n",
      "Requirement already satisfied: scikit-learn==1.6.1 in ./.venv/lib/python3.13/site-packages (from -r requirements.txt (line 7)) (1.6.1)\n",
      "Requirement already satisfied: imbalanced-learn==0.13.0 in ./.venv/lib/python3.13/site-packages (from -r requirements.txt (line 8)) (0.13.0)\n",
      "Requirement already satisfied: lightgbm==4.6.0 in ./.venv/lib/python3.13/site-packages (from -r requirements.txt (line 9)) (4.6.0)\n",
      "Requirement already satisfied: xgboost==3.0.2 in ./.venv/lib/python3.13/site-packages (from -r requirements.txt (line 10)) (3.0.2)\n",
      "Requirement already satisfied: optuna==4.3.0 in ./.venv/lib/python3.13/site-packages (from -r requirements.txt (line 11)) (4.3.0)\n",
      "Requirement already satisfied: ipywidgets==8.1.7 in ./.venv/lib/python3.13/site-packages (from -r requirements.txt (line 12)) (8.1.7)\n",
      "Requirement already satisfied: python-dateutil>=2.8.2 in ./.venv/lib/python3.13/site-packages (from pandas==2.3.0->-r requirements.txt (line 2)) (2.9.0.post0)\n",
      "Requirement already satisfied: pytz>=2020.1 in ./.venv/lib/python3.13/site-packages (from pandas==2.3.0->-r requirements.txt (line 2)) (2025.2)\n",
      "Requirement already satisfied: tzdata>=2022.7 in ./.venv/lib/python3.13/site-packages (from pandas==2.3.0->-r requirements.txt (line 2)) (2025.2)\n",
      "Requirement already satisfied: contourpy>=1.0.1 in ./.venv/lib/python3.13/site-packages (from matplotlib==3.10.3->-r requirements.txt (line 3)) (1.3.2)\n",
      "Requirement already satisfied: cycler>=0.10 in ./.venv/lib/python3.13/site-packages (from matplotlib==3.10.3->-r requirements.txt (line 3)) (0.12.1)\n",
      "Requirement already satisfied: fonttools>=4.22.0 in ./.venv/lib/python3.13/site-packages (from matplotlib==3.10.3->-r requirements.txt (line 3)) (4.58.4)\n",
      "Requirement already satisfied: kiwisolver>=1.3.1 in ./.venv/lib/python3.13/site-packages (from matplotlib==3.10.3->-r requirements.txt (line 3)) (1.4.8)\n",
      "Requirement already satisfied: packaging>=20.0 in ./.venv/lib/python3.13/site-packages (from matplotlib==3.10.3->-r requirements.txt (line 3)) (25.0)\n",
      "Requirement already satisfied: pillow>=8 in ./.venv/lib/python3.13/site-packages (from matplotlib==3.10.3->-r requirements.txt (line 3)) (11.2.1)\n",
      "Requirement already satisfied: pyparsing>=2.3.1 in ./.venv/lib/python3.13/site-packages (from matplotlib==3.10.3->-r requirements.txt (line 3)) (3.2.3)\n",
      "Requirement already satisfied: narwhals>=1.15.1 in ./.venv/lib/python3.13/site-packages (from plotly==6.1.2->-r requirements.txt (line 4)) (1.43.1)\n",
      "Requirement already satisfied: fastjsonschema>=2.15 in ./.venv/lib/python3.13/site-packages (from nbformat==5.10.4->-r requirements.txt (line 5)) (2.21.1)\n",
      "Requirement already satisfied: jsonschema>=2.6 in ./.venv/lib/python3.13/site-packages (from nbformat==5.10.4->-r requirements.txt (line 5)) (4.24.0)\n",
      "Requirement already satisfied: jupyter-core!=5.0.*,>=4.12 in ./.venv/lib/python3.13/site-packages (from nbformat==5.10.4->-r requirements.txt (line 5)) (5.8.1)\n",
      "Requirement already satisfied: traitlets>=5.1 in ./.venv/lib/python3.13/site-packages (from nbformat==5.10.4->-r requirements.txt (line 5)) (5.14.3)\n",
      "Requirement already satisfied: joblib>=1.2.0 in ./.venv/lib/python3.13/site-packages (from scikit-learn==1.6.1->-r requirements.txt (line 7)) (1.5.1)\n",
      "Requirement already satisfied: threadpoolctl>=3.1.0 in ./.venv/lib/python3.13/site-packages (from scikit-learn==1.6.1->-r requirements.txt (line 7)) (3.6.0)\n",
      "Requirement already satisfied: sklearn-compat<1,>=0.1 in ./.venv/lib/python3.13/site-packages (from imbalanced-learn==0.13.0->-r requirements.txt (line 8)) (0.1.3)\n",
      "Requirement already satisfied: alembic>=1.5.0 in ./.venv/lib/python3.13/site-packages (from optuna==4.3.0->-r requirements.txt (line 11)) (1.16.2)\n",
      "Requirement already satisfied: colorlog in ./.venv/lib/python3.13/site-packages (from optuna==4.3.0->-r requirements.txt (line 11)) (6.9.0)\n",
      "Requirement already satisfied: sqlalchemy>=1.4.2 in ./.venv/lib/python3.13/site-packages (from optuna==4.3.0->-r requirements.txt (line 11)) (2.0.41)\n",
      "Requirement already satisfied: tqdm in ./.venv/lib/python3.13/site-packages (from optuna==4.3.0->-r requirements.txt (line 11)) (4.67.1)\n",
      "Requirement already satisfied: PyYAML in ./.venv/lib/python3.13/site-packages (from optuna==4.3.0->-r requirements.txt (line 11)) (6.0.2)\n",
      "Requirement already satisfied: comm>=0.1.3 in ./.venv/lib/python3.13/site-packages (from ipywidgets==8.1.7->-r requirements.txt (line 12)) (0.2.2)\n",
      "Requirement already satisfied: ipython>=6.1.0 in ./.venv/lib/python3.13/site-packages (from ipywidgets==8.1.7->-r requirements.txt (line 12)) (9.3.0)\n",
      "Requirement already satisfied: widgetsnbextension~=4.0.14 in ./.venv/lib/python3.13/site-packages (from ipywidgets==8.1.7->-r requirements.txt (line 12)) (4.0.14)\n",
      "Requirement already satisfied: jupyterlab_widgets~=3.0.15 in ./.venv/lib/python3.13/site-packages (from ipywidgets==8.1.7->-r requirements.txt (line 12)) (3.0.15)\n",
      "Requirement already satisfied: Mako in ./.venv/lib/python3.13/site-packages (from alembic>=1.5.0->optuna==4.3.0->-r requirements.txt (line 11)) (1.3.10)\n",
      "Requirement already satisfied: typing-extensions>=4.12 in ./.venv/lib/python3.13/site-packages (from alembic>=1.5.0->optuna==4.3.0->-r requirements.txt (line 11)) (4.14.0)\n",
      "Requirement already satisfied: decorator in ./.venv/lib/python3.13/site-packages (from ipython>=6.1.0->ipywidgets==8.1.7->-r requirements.txt (line 12)) (5.2.1)\n",
      "Requirement already satisfied: ipython-pygments-lexers in ./.venv/lib/python3.13/site-packages (from ipython>=6.1.0->ipywidgets==8.1.7->-r requirements.txt (line 12)) (1.1.1)\n",
      "Requirement already satisfied: jedi>=0.16 in ./.venv/lib/python3.13/site-packages (from ipython>=6.1.0->ipywidgets==8.1.7->-r requirements.txt (line 12)) (0.19.2)\n",
      "Requirement already satisfied: matplotlib-inline in ./.venv/lib/python3.13/site-packages (from ipython>=6.1.0->ipywidgets==8.1.7->-r requirements.txt (line 12)) (0.1.7)\n",
      "Requirement already satisfied: pexpect>4.3 in ./.venv/lib/python3.13/site-packages (from ipython>=6.1.0->ipywidgets==8.1.7->-r requirements.txt (line 12)) (4.9.0)\n",
      "Requirement already satisfied: prompt_toolkit<3.1.0,>=3.0.41 in ./.venv/lib/python3.13/site-packages (from ipython>=6.1.0->ipywidgets==8.1.7->-r requirements.txt (line 12)) (3.0.51)\n",
      "Requirement already satisfied: pygments>=2.4.0 in ./.venv/lib/python3.13/site-packages (from ipython>=6.1.0->ipywidgets==8.1.7->-r requirements.txt (line 12)) (2.19.1)\n",
      "Requirement already satisfied: stack_data in ./.venv/lib/python3.13/site-packages (from ipython>=6.1.0->ipywidgets==8.1.7->-r requirements.txt (line 12)) (0.6.3)\n",
      "Requirement already satisfied: wcwidth in ./.venv/lib/python3.13/site-packages (from prompt_toolkit<3.1.0,>=3.0.41->ipython>=6.1.0->ipywidgets==8.1.7->-r requirements.txt (line 12)) (0.2.13)\n",
      "Requirement already satisfied: parso<0.9.0,>=0.8.4 in ./.venv/lib/python3.13/site-packages (from jedi>=0.16->ipython>=6.1.0->ipywidgets==8.1.7->-r requirements.txt (line 12)) (0.8.4)\n",
      "Requirement already satisfied: attrs>=22.2.0 in ./.venv/lib/python3.13/site-packages (from jsonschema>=2.6->nbformat==5.10.4->-r requirements.txt (line 5)) (25.3.0)\n",
      "Requirement already satisfied: jsonschema-specifications>=2023.03.6 in ./.venv/lib/python3.13/site-packages (from jsonschema>=2.6->nbformat==5.10.4->-r requirements.txt (line 5)) (2025.4.1)\n",
      "Requirement already satisfied: referencing>=0.28.4 in ./.venv/lib/python3.13/site-packages (from jsonschema>=2.6->nbformat==5.10.4->-r requirements.txt (line 5)) (0.36.2)\n",
      "Requirement already satisfied: rpds-py>=0.7.1 in ./.venv/lib/python3.13/site-packages (from jsonschema>=2.6->nbformat==5.10.4->-r requirements.txt (line 5)) (0.25.1)\n",
      "Requirement already satisfied: platformdirs>=2.5 in ./.venv/lib/python3.13/site-packages (from jupyter-core!=5.0.*,>=4.12->nbformat==5.10.4->-r requirements.txt (line 5)) (4.3.8)\n",
      "Requirement already satisfied: ptyprocess>=0.5 in ./.venv/lib/python3.13/site-packages (from pexpect>4.3->ipython>=6.1.0->ipywidgets==8.1.7->-r requirements.txt (line 12)) (0.7.0)\n",
      "Requirement already satisfied: six>=1.5 in ./.venv/lib/python3.13/site-packages (from python-dateutil>=2.8.2->pandas==2.3.0->-r requirements.txt (line 2)) (1.17.0)\n",
      "Requirement already satisfied: MarkupSafe>=0.9.2 in ./.venv/lib/python3.13/site-packages (from Mako->alembic>=1.5.0->optuna==4.3.0->-r requirements.txt (line 11)) (3.0.2)\n",
      "Requirement already satisfied: executing>=1.2.0 in ./.venv/lib/python3.13/site-packages (from stack_data->ipython>=6.1.0->ipywidgets==8.1.7->-r requirements.txt (line 12)) (2.2.0)\n",
      "Requirement already satisfied: asttokens>=2.1.0 in ./.venv/lib/python3.13/site-packages (from stack_data->ipython>=6.1.0->ipywidgets==8.1.7->-r requirements.txt (line 12)) (3.0.0)\n",
      "Requirement already satisfied: pure-eval in ./.venv/lib/python3.13/site-packages (from stack_data->ipython>=6.1.0->ipywidgets==8.1.7->-r requirements.txt (line 12)) (0.2.3)\n",
      "Note: you may need to restart the kernel to use updated packages.\n"
     ]
    }
   ],
   "source": [
    "%pip install -r requirements.txt"
   ]
  },
  {
   "cell_type": "code",
   "execution_count": 2,
   "id": "a7d8a9e1",
   "metadata": {},
   "outputs": [],
   "source": [
    "import numpy as np\n",
    "import pandas as pd\n",
    "\n",
    "import plotly.express as px"
   ]
  },
  {
   "cell_type": "code",
   "execution_count": 3,
   "id": "d1779808",
   "metadata": {},
   "outputs": [],
   "source": [
    "df = pd.read_csv(\"data/champions_group_2025.csv\")\n",
    "\n",
    "# Drop overlooked columns instructed by organising committee\n",
    "df = df.drop(columns=['Parent Company', 'Parent Country'])"
   ]
  },
  {
   "cell_type": "markdown",
   "id": "074add7c",
   "metadata": {},
   "source": [
    "# Data Cleaning\n",
    "1. Handling duplicates\n",
    "1. Dropping unnecessary columns that do not provide insights\n",
    "1. Handling null values"
   ]
  },
  {
   "cell_type": "markdown",
   "id": "2f6fb1f9",
   "metadata": {},
   "source": [
    "## Checking for duplicates"
   ]
  },
  {
   "cell_type": "code",
   "execution_count": 4,
   "id": "58e2d2dd",
   "metadata": {},
   "outputs": [
    {
     "name": "stdout",
     "output_type": "stream",
     "text": [
      "Number of duplicated AccountID: 0\n",
      "Number of duplicated Company: 0\n",
      "Number of duplicated rows: 0\n"
     ]
    }
   ],
   "source": [
    "# Check for duplicated AccountID\n",
    "print(f\"Number of duplicated AccountID: {df['AccountID'].duplicated().sum()}\")\n",
    "# Check for duplicated Company\n",
    "print(f\"Number of duplicated Company: {df['Company'].duplicated().sum()}\")\n",
    "# Check if there are duplicate rows\n",
    "print(f\"Number of duplicated rows: {df.duplicated().sum()}\")"
   ]
  },
  {
   "cell_type": "markdown",
   "id": "f025f591",
   "metadata": {},
   "source": [
    "Since there are no duplicates, no need to drop any columns."
   ]
  },
  {
   "cell_type": "markdown",
   "id": "2abde732",
   "metadata": {},
   "source": [
    "## Dropping unnecessary columns\n",
    "- Drop 'AccountID' and 'Company' as they are identifiers that do not provide\n",
    "  meaningful analysis. Drop 'Company Description' as well.\n",
    "- Drop 'Industry' and '8-Digit SIC Description'\n",
    "  as they are descriptions for numerical codes that are already in the data.\n",
    "- Drop 'Company Status (Active/Inactive)' as all rows are \"active\"."
   ]
  },
  {
   "cell_type": "code",
   "execution_count": 5,
   "id": "99880421",
   "metadata": {},
   "outputs": [],
   "source": [
    "cols_to_drop = ['AccountID', 'Company', 'Company Description',\n",
    "                'Industry', '8-Digit SIC Description',\n",
    "                'Company Status (Active/Inactive)']\n",
    "df_cleaned_1 = df.drop(columns=cols_to_drop)"
   ]
  },
  {
   "cell_type": "markdown",
   "id": "d82e0227",
   "metadata": {},
   "source": [
    "## Handling null values\n",
    "1. Calculate absolute count and percentage of null values per columns \n",
    "1. Drop columns with 100% null value"
   ]
  },
  {
   "cell_type": "code",
   "execution_count": 6,
   "id": "488bb095",
   "metadata": {},
   "outputs": [
    {
     "data": {
      "text/html": [
       "<div>\n",
       "<style scoped>\n",
       "    .dataframe tbody tr th:only-of-type {\n",
       "        vertical-align: middle;\n",
       "    }\n",
       "\n",
       "    .dataframe tbody tr th {\n",
       "        vertical-align: top;\n",
       "    }\n",
       "\n",
       "    .dataframe thead th {\n",
       "        text-align: right;\n",
       "    }\n",
       "</style>\n",
       "<table border=\"1\" class=\"dataframe\">\n",
       "  <thead>\n",
       "    <tr style=\"text-align: right;\">\n",
       "      <th></th>\n",
       "      <th>null_count</th>\n",
       "      <th>null_percentage</th>\n",
       "    </tr>\n",
       "  </thead>\n",
       "  <tbody>\n",
       "    <tr>\n",
       "      <th>Square Footage</th>\n",
       "      <td>29182</td>\n",
       "      <td>100.00</td>\n",
       "    </tr>\n",
       "    <tr>\n",
       "      <th>Import/Export Status</th>\n",
       "      <td>22569</td>\n",
       "      <td>77.34</td>\n",
       "    </tr>\n",
       "    <tr>\n",
       "      <th>Fiscal Year End</th>\n",
       "      <td>22445</td>\n",
       "      <td>76.91</td>\n",
       "    </tr>\n",
       "    <tr>\n",
       "      <th>Employees (Single Site)</th>\n",
       "      <td>12403</td>\n",
       "      <td>42.50</td>\n",
       "    </tr>\n",
       "    <tr>\n",
       "      <th>Employees (Global Ultimate Total)</th>\n",
       "      <td>2774</td>\n",
       "      <td>9.51</td>\n",
       "    </tr>\n",
       "    <tr>\n",
       "      <th>Year Found</th>\n",
       "      <td>434</td>\n",
       "      <td>1.49</td>\n",
       "    </tr>\n",
       "    <tr>\n",
       "      <th>LATITUDE</th>\n",
       "      <td>120</td>\n",
       "      <td>0.41</td>\n",
       "    </tr>\n",
       "    <tr>\n",
       "      <th>LONGITUDE</th>\n",
       "      <td>120</td>\n",
       "      <td>0.41</td>\n",
       "    </tr>\n",
       "    <tr>\n",
       "      <th>Employees (Domestic Ultimate Total)</th>\n",
       "      <td>79</td>\n",
       "      <td>0.27</td>\n",
       "    </tr>\n",
       "    <tr>\n",
       "      <th>SIC Code</th>\n",
       "      <td>0</td>\n",
       "      <td>0.00</td>\n",
       "    </tr>\n",
       "    <tr>\n",
       "      <th>8-Digit SIC Code</th>\n",
       "      <td>0</td>\n",
       "      <td>0.00</td>\n",
       "    </tr>\n",
       "    <tr>\n",
       "      <th>Ownership Type</th>\n",
       "      <td>0</td>\n",
       "      <td>0.00</td>\n",
       "    </tr>\n",
       "    <tr>\n",
       "      <th>Sales (Domestic Ultimate Total USD)</th>\n",
       "      <td>0</td>\n",
       "      <td>0.00</td>\n",
       "    </tr>\n",
       "    <tr>\n",
       "      <th>Sales (Global Ultimate Total USD)</th>\n",
       "      <td>0</td>\n",
       "      <td>0.00</td>\n",
       "    </tr>\n",
       "    <tr>\n",
       "      <th>Is Domestic Ultimate</th>\n",
       "      <td>0</td>\n",
       "      <td>0.00</td>\n",
       "    </tr>\n",
       "    <tr>\n",
       "      <th>Is Global Ultimate</th>\n",
       "      <td>0</td>\n",
       "      <td>0.00</td>\n",
       "    </tr>\n",
       "  </tbody>\n",
       "</table>\n",
       "</div>"
      ],
      "text/plain": [
       "                                     null_count  null_percentage\n",
       "Square Footage                            29182           100.00\n",
       "Import/Export Status                      22569            77.34\n",
       "Fiscal Year End                           22445            76.91\n",
       "Employees (Single Site)                   12403            42.50\n",
       "Employees (Global Ultimate Total)          2774             9.51\n",
       "Year Found                                  434             1.49\n",
       "LATITUDE                                    120             0.41\n",
       "LONGITUDE                                   120             0.41\n",
       "Employees (Domestic Ultimate Total)          79             0.27\n",
       "SIC Code                                      0             0.00\n",
       "8-Digit SIC Code                              0             0.00\n",
       "Ownership Type                                0             0.00\n",
       "Sales (Domestic Ultimate Total USD)           0             0.00\n",
       "Sales (Global Ultimate Total USD)             0             0.00\n",
       "Is Domestic Ultimate                          0             0.00\n",
       "Is Global Ultimate                            0             0.00"
      ]
     },
     "execution_count": 6,
     "metadata": {},
     "output_type": "execute_result"
    }
   ],
   "source": [
    "# Get count of null values\n",
    "null_stats = pd.DataFrame(df_cleaned_1.isnull().sum(), columns=['null_count'])\n",
    "# Get percentage\n",
    "null_stats['null_percentage'] = null_stats['null_count'].apply(lambda x: round(x / len(df) * 100, 2))\n",
    "null_stats.sort_values('null_percentage', ascending=False)"
   ]
  },
  {
   "cell_type": "code",
   "execution_count": 7,
   "id": "e4418b2f",
   "metadata": {},
   "outputs": [],
   "source": [
    "# drop columns with 100% null value\n",
    "null_cols = null_stats[null_stats['null_percentage'] == 100].index\n",
    "df_cleaned_2 = df_cleaned_1.drop(columns=null_cols)"
   ]
  },
  {
   "cell_type": "markdown",
   "id": "59054fd4",
   "metadata": {},
   "source": [
    "# Data Preparation"
   ]
  },
  {
   "cell_type": "markdown",
   "id": "2d6983ff",
   "metadata": {},
   "source": [
    "## Data Imputation\n",
    "- For categorical data, impute missing data with \"missing\".\n",
    "- For numerical data, perform median imputation."
   ]
  },
  {
   "cell_type": "code",
   "execution_count": 8,
   "id": "3d77bc13",
   "metadata": {},
   "outputs": [],
   "source": [
    "def impute_data(col: pd.Series) -> pd.Series:\n",
    "    '''\n",
    "    Perform data imputation on Series.  \n",
    "    For categorical data, impute missing data with \"Missing\".  \n",
    "    For numerical data, perform median imputation.\n",
    "\n",
    "    Parameters:\n",
    "        col (pandas.Series): Series to apply data imputation.\n",
    "\n",
    "    Returns:\n",
    "        pandas.Series: Series with data imputed.\n",
    "    '''\n",
    "    if not col.isna().any():\n",
    "        return col\n",
    "    res = None\n",
    "    if col.dtype == object:\n",
    "        res = col.apply(lambda x: \"missing\" if pd.isna(x) else x)\n",
    "    else:\n",
    "        median_val = col.median(skipna=True)\n",
    "        res = col.apply(lambda x: median_val if pd.isna(x) else x)\n",
    "    return res"
   ]
  },
  {
   "cell_type": "code",
   "execution_count": 9,
   "id": "ea8f7d43",
   "metadata": {},
   "outputs": [],
   "source": [
    "df_cleaned_3 = df_cleaned_2.apply(lambda x: impute_data(x))"
   ]
  },
  {
   "cell_type": "markdown",
   "id": "0c3e4a13",
   "metadata": {},
   "source": [
    "## Mapping columns\n",
    "1. Map 'Year Found' column to the age of company as of 2025, which\n",
    "is a more direct and intuitive way of comparison.\n",
    "1. Shortening 'Fiscal Year End' column for ease of understanding."
   ]
  },
  {
   "cell_type": "markdown",
   "id": "f30a8551",
   "metadata": {},
   "source": [
    "### Mapping 'Year Found' column"
   ]
  },
  {
   "cell_type": "code",
   "execution_count": 10,
   "id": "8d2c1ff1",
   "metadata": {},
   "outputs": [],
   "source": [
    "cur_year = 2025\n",
    "df_cleaned_3['Year Found'] = df_cleaned_3['Year Found'].apply(lambda x: cur_year - x)\n",
    "df_cleaned_4 = df_cleaned_3.rename(columns={'Year Found': 'Age'})"
   ]
  },
  {
   "cell_type": "markdown",
   "id": "330d596e",
   "metadata": {},
   "source": [
    "### Mapping 'Fiscal Year End' column\n",
    "- Since majority of the non-NA values are at the year end, we decided to map\n",
    "'Fiscal Year End' to indicate they are at the year end or not.\n",
    "- If data is missing, it will remain as 'missing'.\n",
    "- Then, label encode the values:\n",
    "  - 0: \"missing\"\n",
    "  - 1: \"no\"\n",
    "  - 2: \"yes\""
   ]
  },
  {
   "cell_type": "code",
   "execution_count": 11,
   "id": "f9d99f7e",
   "metadata": {},
   "outputs": [],
   "source": [
    "from datetime import datetime\n",
    "\n",
    "def map_fiscal_year(date_str: str) -> str:\n",
    "    '''\n",
    "    Map 'Fiscal Year End' column to indicate whether\n",
    "    reporting of fiscal year is at the calender year end (i.e. 31 Dec).\n",
    "\n",
    "    Parameters:\n",
    "        date_str (str): string containing datetime in \"yyyy-mm-ddThh-mm-ssZ format.\n",
    "\n",
    "    Returns:\n",
    "        str: One of [\"missing\", \"yes\", no\"]\n",
    "    '''\n",
    "    if date_str == \"missing\":\n",
    "        return \"missing\"\n",
    "    else:\n",
    "        timestamp = datetime.strptime(date_str, \"%Y-%m-%dT%H:%M:%SZ\")\n",
    "        month = timestamp.month\n",
    "        day = timestamp.day\n",
    "        is_year_end = (month == 12) & (day == 31)\n",
    "        if is_year_end:\n",
    "            return \"yes\"\n",
    "        else:\n",
    "            return \"no\""
   ]
  },
  {
   "cell_type": "code",
   "execution_count": 12,
   "id": "8c5c6759",
   "metadata": {},
   "outputs": [],
   "source": [
    "df_cleaned_4['Fiscal Year End'] = df_cleaned_4['Fiscal Year End'].apply(lambda x: map_fiscal_year(x))"
   ]
  },
  {
   "cell_type": "markdown",
   "id": "404a0c3d",
   "metadata": {},
   "source": [
    "## Encoding for Categorical Data\n",
    "- One Hot Encoding for Categorical data with less than 5 categories.\n",
    "- Frequency Encoding for SIC codes that has many categories.\n"
   ]
  },
  {
   "cell_type": "markdown",
   "id": "8011f624",
   "metadata": {},
   "source": [
    "### One Hot Encoding"
   ]
  },
  {
   "cell_type": "code",
   "execution_count": 13,
   "id": "c60840a4",
   "metadata": {},
   "outputs": [],
   "source": [
    "from sklearn.preprocessing import OneHotEncoder\n",
    "from sklearn.compose import ColumnTransformer\n",
    "\n",
    "\n",
    "ohe_cols = ['Import/Export Status', 'Ownership Type', 'Fiscal Year End']\n",
    "one_hot_encoder = ColumnTransformer(\n",
    "    transformers=[(\"onehot\", OneHotEncoder(sparse_output=False), ohe_cols)],\n",
    "    remainder=\"passthrough\"\n",
    ")\n",
    "one_hot_encoder.set_output(transform=\"pandas\")\n",
    "df_encoded: pd.DataFrame = one_hot_encoder.fit_transform(df_cleaned_4)  # type: ignore\n",
    "df_encoded.columns = df_encoded.columns.str.replace('onehot__', '')\n",
    "df_encoded.columns = df_encoded.columns.str.replace('remainder__', '')"
   ]
  },
  {
   "cell_type": "markdown",
   "id": "76d58b8e",
   "metadata": {},
   "source": [
    "### Frequency Encoding"
   ]
  },
  {
   "cell_type": "code",
   "execution_count": 14,
   "id": "4330c476",
   "metadata": {},
   "outputs": [],
   "source": [
    "freq_encoding_cols = ['SIC Code', '8-Digit SIC Code']\n",
    "for col in freq_encoding_cols:\n",
    "    counts = df_encoded[col].value_counts()\n",
    "    df_encoded[col] = df_encoded[col].map(counts)"
   ]
  },
  {
   "cell_type": "markdown",
   "id": "0049dcb4",
   "metadata": {},
   "source": [
    "## Type Casting\n",
    "- Convert all float64 columns to float32 for optimisation with ML models"
   ]
  },
  {
   "cell_type": "code",
   "execution_count": 15,
   "id": "5cecddf9",
   "metadata": {},
   "outputs": [],
   "source": [
    "# Convert float64 columns to float32\n",
    "df_final = df_encoded.apply(lambda x: x.astype('float32') if x.dtype  == 'float64' else x)"
   ]
  },
  {
   "cell_type": "code",
   "execution_count": 16,
   "id": "e9767145",
   "metadata": {},
   "outputs": [
    {
     "name": "stdout",
     "output_type": "stream",
     "text": [
      "<class 'pandas.core.frame.DataFrame'>\n",
      "RangeIndex: 29182 entries, 0 to 29181\n",
      "Data columns (total 25 columns):\n",
      " #   Column                                       Non-Null Count  Dtype  \n",
      "---  ------                                       --------------  -----  \n",
      " 0   Import/Export Status_Both Imports & Exports  29182 non-null  float32\n",
      " 1   Import/Export Status_Exports                 29182 non-null  float32\n",
      " 2   Import/Export Status_Imports                 29182 non-null  float32\n",
      " 3   Import/Export Status_missing                 29182 non-null  float32\n",
      " 4   Ownership Type_Non-Corporates                29182 non-null  float32\n",
      " 5   Ownership Type_Nonprofit                     29182 non-null  float32\n",
      " 6   Ownership Type_Partnership                   29182 non-null  float32\n",
      " 7   Ownership Type_Private                       29182 non-null  float32\n",
      " 8   Ownership Type_Public                        29182 non-null  float32\n",
      " 9   Ownership Type_Public Sector                 29182 non-null  float32\n",
      " 10  Fiscal Year End_missing                      29182 non-null  float32\n",
      " 11  Fiscal Year End_no                           29182 non-null  float32\n",
      " 12  Fiscal Year End_yes                          29182 non-null  float32\n",
      " 13  LATITUDE                                     29182 non-null  float32\n",
      " 14  LONGITUDE                                    29182 non-null  float32\n",
      " 15  SIC Code                                     29182 non-null  int64  \n",
      " 16  8-Digit SIC Code                             29182 non-null  int64  \n",
      " 17  Age                                          29182 non-null  float32\n",
      " 18  Employees (Single Site)                      29182 non-null  float32\n",
      " 19  Employees (Domestic Ultimate Total)          29182 non-null  float32\n",
      " 20  Employees (Global Ultimate Total)            29182 non-null  float32\n",
      " 21  Sales (Domestic Ultimate Total USD)          29182 non-null  int64  \n",
      " 22  Sales (Global Ultimate Total USD)            29182 non-null  int64  \n",
      " 23  Is Domestic Ultimate                         29182 non-null  int64  \n",
      " 24  Is Global Ultimate                           29182 non-null  int64  \n",
      "dtypes: float32(19), int64(6)\n",
      "memory usage: 3.5 MB\n"
     ]
    }
   ],
   "source": [
    "df_final.info()"
   ]
  },
  {
   "cell_type": "markdown",
   "id": "d682236d",
   "metadata": {},
   "source": [
    "# Split training and test data\n",
    "- Since there are 2 dependent variables ('Is Domestic Ultimate' and 'Is Global Ultimate'),\n",
    "2 different set of train-test data is needed\n",
    "- Train-test will be 80-20 ratio"
   ]
  },
  {
   "cell_type": "code",
   "execution_count": 17,
   "id": "1ea46305",
   "metadata": {},
   "outputs": [],
   "source": [
    "from sklearn.model_selection import train_test_split\n",
    "\n",
    "# Get X and y columns\n",
    "X = df_final.drop(columns=['Is Domestic Ultimate', 'Is Global Ultimate'])\n",
    "y_dom = df_final['Is Domestic Ultimate']\n",
    "y_global = df_final['Is Global Ultimate']\n",
    "\n",
    "# Get train-test for domestic ultimate\n",
    "X_dom_train, X_dom_test, y_dom_train, y_dom_test = train_test_split(X, y_dom,\n",
    "                                                                    test_size=0.2,\n",
    "                                                                    random_state=42)\n",
    "\n",
    "# Get train-test for global ultimate\n",
    "X_global_train, X_global_test, y_global_train, y_global_test = train_test_split(X, y_global,\n",
    "                                                                                test_size=0.2,\n",
    "                                                                                random_state=42)"
   ]
  },
  {
   "cell_type": "markdown",
   "id": "543d2273",
   "metadata": {},
   "source": [
    "# Model testing\n",
    "- Initial testing of different models using default parameters.\n",
    "- Evaluate different models using accuracy, F1 Score, AUC"
   ]
  },
  {
   "cell_type": "code",
   "execution_count": 18,
   "id": "1425e51d",
   "metadata": {},
   "outputs": [],
   "source": [
    "from sklearn.preprocessing import StandardScaler\n",
    "from sklearn.model_selection import StratifiedKFold, cross_validate\n",
    "from imblearn.over_sampling import SMOTE\n",
    "from imblearn.pipeline import Pipeline\n",
    "\n",
    "def evaluate_model(model,\n",
    "                   X_train: pd.DataFrame,\n",
    "                   y_train: pd.Series,\n",
    "                   scale: bool=False,\n",
    "                   oversample: bool=False) -> tuple[float, float, float]:\n",
    "    '''\n",
    "    Perform 5 fold cross validation on model get its accuracy, F1 and AUC.\n",
    "    Apply necessary transformation is needed.\n",
    "\n",
    "    Parameters:\n",
    "        model (Estimator-like object): An estimator with fit method.\n",
    "        X_train (pandas.DataFrame): Independent variables of training dataset.\n",
    "        y_train (pandas.Series): Dependent variable of training dataset.\n",
    "        scale (bool): To apply scale function or not.\n",
    "        oversample (bool): To apply SMOTE or not.\n",
    "\n",
    "    Returns:\n",
    "        tuple(float, float, float): accuracy, f1 score, ROC AUC score\n",
    "    '''\n",
    "    # Pipeline of transformations for model\n",
    "    if scale and oversample:\n",
    "        model_pipeline = Pipeline(\n",
    "            [\n",
    "                ('scaler', StandardScaler()),\n",
    "                ('smote', SMOTE(sampling_strategy='auto', random_state=42)),\n",
    "                ('clf', model)\n",
    "            ]\n",
    "        )\n",
    "    elif oversample:\n",
    "        model_pipeline = Pipeline(\n",
    "            [\n",
    "                ('smote', SMOTE(sampling_strategy='auto', random_state=42)),\n",
    "                ('clf', model)\n",
    "            ]\n",
    "        )\n",
    "    elif scale:\n",
    "        model_pipeline = Pipeline(\n",
    "            [\n",
    "                ('scaler', StandardScaler()),\n",
    "                ('clf', model)\n",
    "            ]\n",
    "        )\n",
    "    else:\n",
    "        model_pipeline = model\n",
    "\n",
    "    cv = StratifiedKFold(n_splits=5, shuffle=True, random_state=42)\n",
    "    scoring = [\"accuracy\", \"f1\", \"roc_auc\"]\n",
    "    cv_results = cross_validate(model_pipeline, X_train, y_train, cv=cv, scoring=scoring)\n",
    "\n",
    "    accuracy = cv_results['test_accuracy'].mean()\n",
    "    f1_score = cv_results['test_f1'].mean()\n",
    "    roc_auc_score = cv_results['test_roc_auc'].mean()\n",
    "\n",
    "    return accuracy, f1_score, roc_auc_score"
   ]
  },
  {
   "cell_type": "markdown",
   "id": "9c9c431b",
   "metadata": {},
   "source": [
    "## Test for 'Is Domestic Ultimate'"
   ]
  },
  {
   "cell_type": "code",
   "execution_count": 19,
   "id": "1ff964f3",
   "metadata": {},
   "outputs": [
    {
     "data": {
      "text/plain": [
       "Is Domestic Ultimate\n",
       "1    14593\n",
       "0    14589\n",
       "Name: count, dtype: int64"
      ]
     },
     "execution_count": 19,
     "metadata": {},
     "output_type": "execute_result"
    }
   ],
   "source": [
    "df_final['Is Domestic Ultimate'].value_counts()"
   ]
  },
  {
   "cell_type": "markdown",
   "id": "302c9b08",
   "metadata": {},
   "source": [
    "Observation:\n",
    "- Sample is balanced, no need for sampling techniques."
   ]
  },
  {
   "cell_type": "code",
   "execution_count": 20,
   "id": "260fd711",
   "metadata": {},
   "outputs": [],
   "source": [
    "from xgboost import XGBClassifier\n",
    "from lightgbm import LGBMClassifier\n",
    "from sklearn.ensemble import RandomForestClassifier\n",
    "from sklearn.linear_model import LogisticRegression\n",
    "from sklearn.svm import SVC\n",
    "\n",
    "models = {\n",
    "    \"XGBoost\": XGBClassifier(random_state=42),\n",
    "    \"LightGBM\": LGBMClassifier(random_state=42, verbose=-1),\n",
    "    \"Random Forest Classifier\": RandomForestClassifier(random_state=42),\n",
    "    \"SVC\": SVC(random_state=42),\n",
    "    \"Logistic Regression\": LogisticRegression(random_state=42)\n",
    "}"
   ]
  },
  {
   "cell_type": "code",
   "execution_count": 21,
   "id": "d184e64f",
   "metadata": {},
   "outputs": [
    {
     "name": "stdout",
     "output_type": "stream",
     "text": [
      "                      model  accuracy  f1 score  roc auc score\n",
      "0                   XGBoost  0.916428  0.919306       0.962604\n",
      "1                  LightGBM  0.914114  0.917759       0.962473\n",
      "2  Random Forest Classifier  0.902549  0.905676       0.950686\n",
      "3                       SVC  0.650589  0.661126       0.700282\n",
      "4       Logistic Regression  0.631741  0.622109       0.676703\n"
     ]
    }
   ],
   "source": [
    "data_dom = []  # Nested list to store model evaluation scores\n",
    "for name, model in models.items():\n",
    "    if name == \"Logistic Regression\" or name == \"SVC\":\n",
    "        score = evaluate_model(model, X_dom_train, y_dom_train, scale=True)\n",
    "    else:\n",
    "        score = evaluate_model(model, X_dom_train, y_dom_train)\n",
    "    data_dom.append([name, *score])\n",
    "\n",
    "eval_dom = pd.DataFrame(data_dom, columns=[\"model\", \"accuracy\", \"f1 score\", \"roc auc score\"])\n",
    "print(eval_dom)"
   ]
  },
  {
   "cell_type": "markdown",
   "id": "d75fa5fa",
   "metadata": {},
   "source": [
    "## Test for 'Is Global Ultimate'"
   ]
  },
  {
   "cell_type": "code",
   "execution_count": 22,
   "id": "b120ae41",
   "metadata": {},
   "outputs": [
    {
     "data": {
      "text/plain": [
       "Is Global Ultimate\n",
       "0    21675\n",
       "1     7507\n",
       "Name: count, dtype: int64"
      ]
     },
     "execution_count": 22,
     "metadata": {},
     "output_type": "execute_result"
    }
   ],
   "source": [
    "df_final['Is Global Ultimate'].value_counts()"
   ]
  },
  {
   "cell_type": "markdown",
   "id": "ecd34381",
   "metadata": {},
   "source": [
    "Observation:\n",
    "- 'Is Global Ultimate' is imbalanced.\n",
    "\n",
    "Solution:\n",
    "- Apply SMOTE, which generates synthetic data to increase number of minority class.\n",
    "- During Cross Validation, apply within each fold."
   ]
  },
  {
   "cell_type": "code",
   "execution_count": 23,
   "id": "486346b0",
   "metadata": {},
   "outputs": [
    {
     "name": "stdout",
     "output_type": "stream",
     "text": [
      "                      model  accuracy  f1 score  roc auc score\n",
      "0                   XGBoost  0.937974  0.884419       0.973923\n",
      "1                  LightGBM  0.937331  0.884557       0.974445\n",
      "2  Random Forest Classifier  0.936946  0.879611       0.973987\n",
      "3                       SVC  0.672607  0.539626       0.779854\n",
      "4       Logistic Regression  0.664339  0.540093       0.744232\n"
     ]
    }
   ],
   "source": [
    "data_global = []  # Nested list to store model evaluation scores\n",
    "for name, model in models.items():\n",
    "    if name == \"Logistic Regression\" or name == \"SVC\": \n",
    "        score = evaluate_model(model,\n",
    "                               X_global_train, y_global_train,\n",
    "                               scale=True,\n",
    "                               oversample=True)\n",
    "    else:\n",
    "        score = evaluate_model(model,\n",
    "                               X_global_train, y_global_train,\n",
    "                               scale=False, oversample=True)\n",
    "    data_global.append([name, *score])\n",
    "\n",
    "eval_global = pd.DataFrame(data_global, columns=[\"model\", \"accuracy\", \"f1 score\", \"roc auc score\"])\n",
    "print(eval_global)"
   ]
  },
  {
   "cell_type": "markdown",
   "id": "25230604",
   "metadata": {},
   "source": [
    "## Conclusion from initial model testing:\n",
    "Observation:\n",
    "- From the evaluation scores, we can see that XGBoost performs the best across all metrics,\n",
    "with LightGBM and Random Forest being slightly worse.\n",
    "- Linear models like Logistic Regression and SVC performs significantly worse than the other models."
   ]
  },
  {
   "cell_type": "markdown",
   "id": "f8305196",
   "metadata": {},
   "source": [
    "# Feature selection using XGBoost Classifier"
   ]
  },
  {
   "cell_type": "markdown",
   "id": "50901141",
   "metadata": {},
   "source": [
    "## Domestic Ultimate"
   ]
  },
  {
   "cell_type": "code",
   "execution_count": 24,
   "id": "d5fd65f1",
   "metadata": {},
   "outputs": [
    {
     "data": {
      "application/vnd.plotly.v1+json": {
       "config": {
        "plotlyServerURL": "https://plot.ly"
       },
       "data": [
        {
         "hovertemplate": "importance=%{x}<br>feature=%{y}<extra></extra>",
         "legendgroup": "",
         "marker": {
          "color": "#636efa",
          "pattern": {
           "shape": ""
          }
         },
         "name": "",
         "orientation": "h",
         "showlegend": false,
         "textposition": "auto",
         "texttemplate": "%{x}",
         "type": "bar",
         "x": {
          "bdata": "jAxlPqAjIT71OQk+w4b+Pf+GLj36zR09Og0WPXJzEj26GQI9unDePHCa0zzfcZo8vgyKPPc9hTxwtIQ8vhxlPMF0STzetjs8nfQzPHVptDsAAAAAAAAAAAAAAAA=",
          "dtype": "f4"
         },
         "xaxis": "x",
         "y": [
          "Employees (Single Site)",
          "Employees (Global Ultimate Total)",
          "Fiscal Year End_missing",
          "Employees (Domestic Ultimate Total)",
          "Sales (Domestic Ultimate Total USD)",
          "Ownership Type_Private",
          "Sales (Global Ultimate Total USD)",
          "Ownership Type_Public",
          "8-Digit SIC Code",
          "Import/Export Status_missing",
          "Import/Export Status_Both Imports & Exports",
          "SIC Code",
          "Age",
          "Fiscal Year End_no",
          "Fiscal Year End_yes",
          "Import/Export Status_Imports",
          "LATITUDE",
          "LONGITUDE",
          "Import/Export Status_Exports",
          "Ownership Type_Partnership",
          "Ownership Type_Public Sector",
          "Ownership Type_Nonprofit",
          "Ownership Type_Non-Corporates"
         ],
         "yaxis": "y"
        }
       ],
       "layout": {
        "barmode": "relative",
        "height": 600,
        "legend": {
         "tracegroupgap": 0
        },
        "template": {
         "data": {
          "bar": [
           {
            "error_x": {
             "color": "#2a3f5f"
            },
            "error_y": {
             "color": "#2a3f5f"
            },
            "marker": {
             "line": {
              "color": "#E5ECF6",
              "width": 0.5
             },
             "pattern": {
              "fillmode": "overlay",
              "size": 10,
              "solidity": 0.2
             }
            },
            "type": "bar"
           }
          ],
          "barpolar": [
           {
            "marker": {
             "line": {
              "color": "#E5ECF6",
              "width": 0.5
             },
             "pattern": {
              "fillmode": "overlay",
              "size": 10,
              "solidity": 0.2
             }
            },
            "type": "barpolar"
           }
          ],
          "carpet": [
           {
            "aaxis": {
             "endlinecolor": "#2a3f5f",
             "gridcolor": "white",
             "linecolor": "white",
             "minorgridcolor": "white",
             "startlinecolor": "#2a3f5f"
            },
            "baxis": {
             "endlinecolor": "#2a3f5f",
             "gridcolor": "white",
             "linecolor": "white",
             "minorgridcolor": "white",
             "startlinecolor": "#2a3f5f"
            },
            "type": "carpet"
           }
          ],
          "choropleth": [
           {
            "colorbar": {
             "outlinewidth": 0,
             "ticks": ""
            },
            "type": "choropleth"
           }
          ],
          "contour": [
           {
            "colorbar": {
             "outlinewidth": 0,
             "ticks": ""
            },
            "colorscale": [
             [
              0,
              "#0d0887"
             ],
             [
              0.1111111111111111,
              "#46039f"
             ],
             [
              0.2222222222222222,
              "#7201a8"
             ],
             [
              0.3333333333333333,
              "#9c179e"
             ],
             [
              0.4444444444444444,
              "#bd3786"
             ],
             [
              0.5555555555555556,
              "#d8576b"
             ],
             [
              0.6666666666666666,
              "#ed7953"
             ],
             [
              0.7777777777777778,
              "#fb9f3a"
             ],
             [
              0.8888888888888888,
              "#fdca26"
             ],
             [
              1,
              "#f0f921"
             ]
            ],
            "type": "contour"
           }
          ],
          "contourcarpet": [
           {
            "colorbar": {
             "outlinewidth": 0,
             "ticks": ""
            },
            "type": "contourcarpet"
           }
          ],
          "heatmap": [
           {
            "colorbar": {
             "outlinewidth": 0,
             "ticks": ""
            },
            "colorscale": [
             [
              0,
              "#0d0887"
             ],
             [
              0.1111111111111111,
              "#46039f"
             ],
             [
              0.2222222222222222,
              "#7201a8"
             ],
             [
              0.3333333333333333,
              "#9c179e"
             ],
             [
              0.4444444444444444,
              "#bd3786"
             ],
             [
              0.5555555555555556,
              "#d8576b"
             ],
             [
              0.6666666666666666,
              "#ed7953"
             ],
             [
              0.7777777777777778,
              "#fb9f3a"
             ],
             [
              0.8888888888888888,
              "#fdca26"
             ],
             [
              1,
              "#f0f921"
             ]
            ],
            "type": "heatmap"
           }
          ],
          "histogram": [
           {
            "marker": {
             "pattern": {
              "fillmode": "overlay",
              "size": 10,
              "solidity": 0.2
             }
            },
            "type": "histogram"
           }
          ],
          "histogram2d": [
           {
            "colorbar": {
             "outlinewidth": 0,
             "ticks": ""
            },
            "colorscale": [
             [
              0,
              "#0d0887"
             ],
             [
              0.1111111111111111,
              "#46039f"
             ],
             [
              0.2222222222222222,
              "#7201a8"
             ],
             [
              0.3333333333333333,
              "#9c179e"
             ],
             [
              0.4444444444444444,
              "#bd3786"
             ],
             [
              0.5555555555555556,
              "#d8576b"
             ],
             [
              0.6666666666666666,
              "#ed7953"
             ],
             [
              0.7777777777777778,
              "#fb9f3a"
             ],
             [
              0.8888888888888888,
              "#fdca26"
             ],
             [
              1,
              "#f0f921"
             ]
            ],
            "type": "histogram2d"
           }
          ],
          "histogram2dcontour": [
           {
            "colorbar": {
             "outlinewidth": 0,
             "ticks": ""
            },
            "colorscale": [
             [
              0,
              "#0d0887"
             ],
             [
              0.1111111111111111,
              "#46039f"
             ],
             [
              0.2222222222222222,
              "#7201a8"
             ],
             [
              0.3333333333333333,
              "#9c179e"
             ],
             [
              0.4444444444444444,
              "#bd3786"
             ],
             [
              0.5555555555555556,
              "#d8576b"
             ],
             [
              0.6666666666666666,
              "#ed7953"
             ],
             [
              0.7777777777777778,
              "#fb9f3a"
             ],
             [
              0.8888888888888888,
              "#fdca26"
             ],
             [
              1,
              "#f0f921"
             ]
            ],
            "type": "histogram2dcontour"
           }
          ],
          "mesh3d": [
           {
            "colorbar": {
             "outlinewidth": 0,
             "ticks": ""
            },
            "type": "mesh3d"
           }
          ],
          "parcoords": [
           {
            "line": {
             "colorbar": {
              "outlinewidth": 0,
              "ticks": ""
             }
            },
            "type": "parcoords"
           }
          ],
          "pie": [
           {
            "automargin": true,
            "type": "pie"
           }
          ],
          "scatter": [
           {
            "fillpattern": {
             "fillmode": "overlay",
             "size": 10,
             "solidity": 0.2
            },
            "type": "scatter"
           }
          ],
          "scatter3d": [
           {
            "line": {
             "colorbar": {
              "outlinewidth": 0,
              "ticks": ""
             }
            },
            "marker": {
             "colorbar": {
              "outlinewidth": 0,
              "ticks": ""
             }
            },
            "type": "scatter3d"
           }
          ],
          "scattercarpet": [
           {
            "marker": {
             "colorbar": {
              "outlinewidth": 0,
              "ticks": ""
             }
            },
            "type": "scattercarpet"
           }
          ],
          "scattergeo": [
           {
            "marker": {
             "colorbar": {
              "outlinewidth": 0,
              "ticks": ""
             }
            },
            "type": "scattergeo"
           }
          ],
          "scattergl": [
           {
            "marker": {
             "colorbar": {
              "outlinewidth": 0,
              "ticks": ""
             }
            },
            "type": "scattergl"
           }
          ],
          "scattermap": [
           {
            "marker": {
             "colorbar": {
              "outlinewidth": 0,
              "ticks": ""
             }
            },
            "type": "scattermap"
           }
          ],
          "scattermapbox": [
           {
            "marker": {
             "colorbar": {
              "outlinewidth": 0,
              "ticks": ""
             }
            },
            "type": "scattermapbox"
           }
          ],
          "scatterpolar": [
           {
            "marker": {
             "colorbar": {
              "outlinewidth": 0,
              "ticks": ""
             }
            },
            "type": "scatterpolar"
           }
          ],
          "scatterpolargl": [
           {
            "marker": {
             "colorbar": {
              "outlinewidth": 0,
              "ticks": ""
             }
            },
            "type": "scatterpolargl"
           }
          ],
          "scatterternary": [
           {
            "marker": {
             "colorbar": {
              "outlinewidth": 0,
              "ticks": ""
             }
            },
            "type": "scatterternary"
           }
          ],
          "surface": [
           {
            "colorbar": {
             "outlinewidth": 0,
             "ticks": ""
            },
            "colorscale": [
             [
              0,
              "#0d0887"
             ],
             [
              0.1111111111111111,
              "#46039f"
             ],
             [
              0.2222222222222222,
              "#7201a8"
             ],
             [
              0.3333333333333333,
              "#9c179e"
             ],
             [
              0.4444444444444444,
              "#bd3786"
             ],
             [
              0.5555555555555556,
              "#d8576b"
             ],
             [
              0.6666666666666666,
              "#ed7953"
             ],
             [
              0.7777777777777778,
              "#fb9f3a"
             ],
             [
              0.8888888888888888,
              "#fdca26"
             ],
             [
              1,
              "#f0f921"
             ]
            ],
            "type": "surface"
           }
          ],
          "table": [
           {
            "cells": {
             "fill": {
              "color": "#EBF0F8"
             },
             "line": {
              "color": "white"
             }
            },
            "header": {
             "fill": {
              "color": "#C8D4E3"
             },
             "line": {
              "color": "white"
             }
            },
            "type": "table"
           }
          ]
         },
         "layout": {
          "annotationdefaults": {
           "arrowcolor": "#2a3f5f",
           "arrowhead": 0,
           "arrowwidth": 1
          },
          "autotypenumbers": "strict",
          "coloraxis": {
           "colorbar": {
            "outlinewidth": 0,
            "ticks": ""
           }
          },
          "colorscale": {
           "diverging": [
            [
             0,
             "#8e0152"
            ],
            [
             0.1,
             "#c51b7d"
            ],
            [
             0.2,
             "#de77ae"
            ],
            [
             0.3,
             "#f1b6da"
            ],
            [
             0.4,
             "#fde0ef"
            ],
            [
             0.5,
             "#f7f7f7"
            ],
            [
             0.6,
             "#e6f5d0"
            ],
            [
             0.7,
             "#b8e186"
            ],
            [
             0.8,
             "#7fbc41"
            ],
            [
             0.9,
             "#4d9221"
            ],
            [
             1,
             "#276419"
            ]
           ],
           "sequential": [
            [
             0,
             "#0d0887"
            ],
            [
             0.1111111111111111,
             "#46039f"
            ],
            [
             0.2222222222222222,
             "#7201a8"
            ],
            [
             0.3333333333333333,
             "#9c179e"
            ],
            [
             0.4444444444444444,
             "#bd3786"
            ],
            [
             0.5555555555555556,
             "#d8576b"
            ],
            [
             0.6666666666666666,
             "#ed7953"
            ],
            [
             0.7777777777777778,
             "#fb9f3a"
            ],
            [
             0.8888888888888888,
             "#fdca26"
            ],
            [
             1,
             "#f0f921"
            ]
           ],
           "sequentialminus": [
            [
             0,
             "#0d0887"
            ],
            [
             0.1111111111111111,
             "#46039f"
            ],
            [
             0.2222222222222222,
             "#7201a8"
            ],
            [
             0.3333333333333333,
             "#9c179e"
            ],
            [
             0.4444444444444444,
             "#bd3786"
            ],
            [
             0.5555555555555556,
             "#d8576b"
            ],
            [
             0.6666666666666666,
             "#ed7953"
            ],
            [
             0.7777777777777778,
             "#fb9f3a"
            ],
            [
             0.8888888888888888,
             "#fdca26"
            ],
            [
             1,
             "#f0f921"
            ]
           ]
          },
          "colorway": [
           "#636efa",
           "#EF553B",
           "#00cc96",
           "#ab63fa",
           "#FFA15A",
           "#19d3f3",
           "#FF6692",
           "#B6E880",
           "#FF97FF",
           "#FECB52"
          ],
          "font": {
           "color": "#2a3f5f"
          },
          "geo": {
           "bgcolor": "white",
           "lakecolor": "white",
           "landcolor": "#E5ECF6",
           "showlakes": true,
           "showland": true,
           "subunitcolor": "white"
          },
          "hoverlabel": {
           "align": "left"
          },
          "hovermode": "closest",
          "mapbox": {
           "style": "light"
          },
          "paper_bgcolor": "white",
          "plot_bgcolor": "#E5ECF6",
          "polar": {
           "angularaxis": {
            "gridcolor": "white",
            "linecolor": "white",
            "ticks": ""
           },
           "bgcolor": "#E5ECF6",
           "radialaxis": {
            "gridcolor": "white",
            "linecolor": "white",
            "ticks": ""
           }
          },
          "scene": {
           "xaxis": {
            "backgroundcolor": "#E5ECF6",
            "gridcolor": "white",
            "gridwidth": 2,
            "linecolor": "white",
            "showbackground": true,
            "ticks": "",
            "zerolinecolor": "white"
           },
           "yaxis": {
            "backgroundcolor": "#E5ECF6",
            "gridcolor": "white",
            "gridwidth": 2,
            "linecolor": "white",
            "showbackground": true,
            "ticks": "",
            "zerolinecolor": "white"
           },
           "zaxis": {
            "backgroundcolor": "#E5ECF6",
            "gridcolor": "white",
            "gridwidth": 2,
            "linecolor": "white",
            "showbackground": true,
            "ticks": "",
            "zerolinecolor": "white"
           }
          },
          "shapedefaults": {
           "line": {
            "color": "#2a3f5f"
           }
          },
          "ternary": {
           "aaxis": {
            "gridcolor": "white",
            "linecolor": "white",
            "ticks": ""
           },
           "baxis": {
            "gridcolor": "white",
            "linecolor": "white",
            "ticks": ""
           },
           "bgcolor": "#E5ECF6",
           "caxis": {
            "gridcolor": "white",
            "linecolor": "white",
            "ticks": ""
           }
          },
          "title": {
           "x": 0.05
          },
          "xaxis": {
           "automargin": true,
           "gridcolor": "white",
           "linecolor": "white",
           "ticks": "",
           "title": {
            "standoff": 15
           },
           "zerolinecolor": "white",
           "zerolinewidth": 2
          },
          "yaxis": {
           "automargin": true,
           "gridcolor": "white",
           "linecolor": "white",
           "ticks": "",
           "title": {
            "standoff": 15
           },
           "zerolinecolor": "white",
           "zerolinewidth": 2
          }
         }
        },
        "title": {
         "text": "Feature importance for 'Is Domestic Ultimate'"
        },
        "width": 2000,
        "xaxis": {
         "anchor": "y",
         "domain": [
          0,
          1
         ],
         "title": {
          "text": "importance"
         }
        },
        "yaxis": {
         "anchor": "x",
         "domain": [
          0,
          1
         ],
         "title": {
          "text": "feature"
         }
        }
       }
      }
     },
     "metadata": {},
     "output_type": "display_data"
    }
   ],
   "source": [
    "# Fit model\n",
    "clf_dom = XGBClassifier(random_state=42)\n",
    "clf_dom.fit(X_dom_train, y_dom_train)\n",
    "\n",
    "# Get feature importance\n",
    "feature_importance = clf_dom.feature_importances_\n",
    "\n",
    "# Plot feature importance\n",
    "feature_importance_df = pd.DataFrame(\n",
    "    {\n",
    "        'feature': clf_dom.feature_names_in_,\n",
    "        'importance': clf_dom.feature_importances_\n",
    "    }\n",
    ")\n",
    "feature_importance_df.sort_values('importance', ascending=False, inplace=True)\n",
    "px.bar(feature_importance_df,\n",
    "       x='importance',\n",
    "       y='feature',\n",
    "       title=\"Feature importance for 'Is Domestic Ultimate'\",\n",
    "       text_auto=True,\n",
    "       height=600,\n",
    "       width=2000)"
   ]
  },
  {
   "cell_type": "markdown",
   "id": "8bd294d3",
   "metadata": {},
   "source": [
    "## Global Ultimate"
   ]
  },
  {
   "cell_type": "code",
   "execution_count": 25,
   "id": "2f9b0041",
   "metadata": {},
   "outputs": [
    {
     "data": {
      "application/vnd.plotly.v1+json": {
       "config": {
        "plotlyServerURL": "https://plot.ly"
       },
       "data": [
        {
         "hovertemplate": "importance=%{x}<br>feature=%{y}<extra></extra>",
         "legendgroup": "",
         "marker": {
          "color": "#636efa",
          "pattern": {
           "shape": ""
          }
         },
         "name": "",
         "orientation": "h",
         "showlegend": false,
         "textposition": "auto",
         "texttemplate": "%{x}",
         "type": "bar",
         "x": {
          "bdata": "7vcdP4pDkD3Luo89RcNaPQrl4jwUHtc8d52hPLeJkzxCbUg8a0pIPG5QIjwrFiI8Aa4VPCBu/DtgyuM7lZDbOyFRzDsijMc73QHGO8oehjsAAAAAAAAAAAAAAAA=",
          "dtype": "f4"
         },
         "xaxis": "x",
         "y": [
          "Employees (Single Site)",
          "Sales (Global Ultimate Total USD)",
          "Fiscal Year End_missing",
          "Ownership Type_Public",
          "Sales (Domestic Ultimate Total USD)",
          "Employees (Global Ultimate Total)",
          "Employees (Domestic Ultimate Total)",
          "Ownership Type_Private",
          "8-Digit SIC Code",
          "SIC Code",
          "Age",
          "Import/Export Status_Both Imports & Exports",
          "Fiscal Year End_yes",
          "Fiscal Year End_no",
          "LATITUDE",
          "LONGITUDE",
          "Import/Export Status_Exports",
          "Import/Export Status_Imports",
          "Import/Export Status_missing",
          "Ownership Type_Partnership",
          "Ownership Type_Public Sector",
          "Ownership Type_Nonprofit",
          "Ownership Type_Non-Corporates"
         ],
         "yaxis": "y"
        }
       ],
       "layout": {
        "barmode": "relative",
        "height": 600,
        "legend": {
         "tracegroupgap": 0
        },
        "template": {
         "data": {
          "bar": [
           {
            "error_x": {
             "color": "#2a3f5f"
            },
            "error_y": {
             "color": "#2a3f5f"
            },
            "marker": {
             "line": {
              "color": "#E5ECF6",
              "width": 0.5
             },
             "pattern": {
              "fillmode": "overlay",
              "size": 10,
              "solidity": 0.2
             }
            },
            "type": "bar"
           }
          ],
          "barpolar": [
           {
            "marker": {
             "line": {
              "color": "#E5ECF6",
              "width": 0.5
             },
             "pattern": {
              "fillmode": "overlay",
              "size": 10,
              "solidity": 0.2
             }
            },
            "type": "barpolar"
           }
          ],
          "carpet": [
           {
            "aaxis": {
             "endlinecolor": "#2a3f5f",
             "gridcolor": "white",
             "linecolor": "white",
             "minorgridcolor": "white",
             "startlinecolor": "#2a3f5f"
            },
            "baxis": {
             "endlinecolor": "#2a3f5f",
             "gridcolor": "white",
             "linecolor": "white",
             "minorgridcolor": "white",
             "startlinecolor": "#2a3f5f"
            },
            "type": "carpet"
           }
          ],
          "choropleth": [
           {
            "colorbar": {
             "outlinewidth": 0,
             "ticks": ""
            },
            "type": "choropleth"
           }
          ],
          "contour": [
           {
            "colorbar": {
             "outlinewidth": 0,
             "ticks": ""
            },
            "colorscale": [
             [
              0,
              "#0d0887"
             ],
             [
              0.1111111111111111,
              "#46039f"
             ],
             [
              0.2222222222222222,
              "#7201a8"
             ],
             [
              0.3333333333333333,
              "#9c179e"
             ],
             [
              0.4444444444444444,
              "#bd3786"
             ],
             [
              0.5555555555555556,
              "#d8576b"
             ],
             [
              0.6666666666666666,
              "#ed7953"
             ],
             [
              0.7777777777777778,
              "#fb9f3a"
             ],
             [
              0.8888888888888888,
              "#fdca26"
             ],
             [
              1,
              "#f0f921"
             ]
            ],
            "type": "contour"
           }
          ],
          "contourcarpet": [
           {
            "colorbar": {
             "outlinewidth": 0,
             "ticks": ""
            },
            "type": "contourcarpet"
           }
          ],
          "heatmap": [
           {
            "colorbar": {
             "outlinewidth": 0,
             "ticks": ""
            },
            "colorscale": [
             [
              0,
              "#0d0887"
             ],
             [
              0.1111111111111111,
              "#46039f"
             ],
             [
              0.2222222222222222,
              "#7201a8"
             ],
             [
              0.3333333333333333,
              "#9c179e"
             ],
             [
              0.4444444444444444,
              "#bd3786"
             ],
             [
              0.5555555555555556,
              "#d8576b"
             ],
             [
              0.6666666666666666,
              "#ed7953"
             ],
             [
              0.7777777777777778,
              "#fb9f3a"
             ],
             [
              0.8888888888888888,
              "#fdca26"
             ],
             [
              1,
              "#f0f921"
             ]
            ],
            "type": "heatmap"
           }
          ],
          "histogram": [
           {
            "marker": {
             "pattern": {
              "fillmode": "overlay",
              "size": 10,
              "solidity": 0.2
             }
            },
            "type": "histogram"
           }
          ],
          "histogram2d": [
           {
            "colorbar": {
             "outlinewidth": 0,
             "ticks": ""
            },
            "colorscale": [
             [
              0,
              "#0d0887"
             ],
             [
              0.1111111111111111,
              "#46039f"
             ],
             [
              0.2222222222222222,
              "#7201a8"
             ],
             [
              0.3333333333333333,
              "#9c179e"
             ],
             [
              0.4444444444444444,
              "#bd3786"
             ],
             [
              0.5555555555555556,
              "#d8576b"
             ],
             [
              0.6666666666666666,
              "#ed7953"
             ],
             [
              0.7777777777777778,
              "#fb9f3a"
             ],
             [
              0.8888888888888888,
              "#fdca26"
             ],
             [
              1,
              "#f0f921"
             ]
            ],
            "type": "histogram2d"
           }
          ],
          "histogram2dcontour": [
           {
            "colorbar": {
             "outlinewidth": 0,
             "ticks": ""
            },
            "colorscale": [
             [
              0,
              "#0d0887"
             ],
             [
              0.1111111111111111,
              "#46039f"
             ],
             [
              0.2222222222222222,
              "#7201a8"
             ],
             [
              0.3333333333333333,
              "#9c179e"
             ],
             [
              0.4444444444444444,
              "#bd3786"
             ],
             [
              0.5555555555555556,
              "#d8576b"
             ],
             [
              0.6666666666666666,
              "#ed7953"
             ],
             [
              0.7777777777777778,
              "#fb9f3a"
             ],
             [
              0.8888888888888888,
              "#fdca26"
             ],
             [
              1,
              "#f0f921"
             ]
            ],
            "type": "histogram2dcontour"
           }
          ],
          "mesh3d": [
           {
            "colorbar": {
             "outlinewidth": 0,
             "ticks": ""
            },
            "type": "mesh3d"
           }
          ],
          "parcoords": [
           {
            "line": {
             "colorbar": {
              "outlinewidth": 0,
              "ticks": ""
             }
            },
            "type": "parcoords"
           }
          ],
          "pie": [
           {
            "automargin": true,
            "type": "pie"
           }
          ],
          "scatter": [
           {
            "fillpattern": {
             "fillmode": "overlay",
             "size": 10,
             "solidity": 0.2
            },
            "type": "scatter"
           }
          ],
          "scatter3d": [
           {
            "line": {
             "colorbar": {
              "outlinewidth": 0,
              "ticks": ""
             }
            },
            "marker": {
             "colorbar": {
              "outlinewidth": 0,
              "ticks": ""
             }
            },
            "type": "scatter3d"
           }
          ],
          "scattercarpet": [
           {
            "marker": {
             "colorbar": {
              "outlinewidth": 0,
              "ticks": ""
             }
            },
            "type": "scattercarpet"
           }
          ],
          "scattergeo": [
           {
            "marker": {
             "colorbar": {
              "outlinewidth": 0,
              "ticks": ""
             }
            },
            "type": "scattergeo"
           }
          ],
          "scattergl": [
           {
            "marker": {
             "colorbar": {
              "outlinewidth": 0,
              "ticks": ""
             }
            },
            "type": "scattergl"
           }
          ],
          "scattermap": [
           {
            "marker": {
             "colorbar": {
              "outlinewidth": 0,
              "ticks": ""
             }
            },
            "type": "scattermap"
           }
          ],
          "scattermapbox": [
           {
            "marker": {
             "colorbar": {
              "outlinewidth": 0,
              "ticks": ""
             }
            },
            "type": "scattermapbox"
           }
          ],
          "scatterpolar": [
           {
            "marker": {
             "colorbar": {
              "outlinewidth": 0,
              "ticks": ""
             }
            },
            "type": "scatterpolar"
           }
          ],
          "scatterpolargl": [
           {
            "marker": {
             "colorbar": {
              "outlinewidth": 0,
              "ticks": ""
             }
            },
            "type": "scatterpolargl"
           }
          ],
          "scatterternary": [
           {
            "marker": {
             "colorbar": {
              "outlinewidth": 0,
              "ticks": ""
             }
            },
            "type": "scatterternary"
           }
          ],
          "surface": [
           {
            "colorbar": {
             "outlinewidth": 0,
             "ticks": ""
            },
            "colorscale": [
             [
              0,
              "#0d0887"
             ],
             [
              0.1111111111111111,
              "#46039f"
             ],
             [
              0.2222222222222222,
              "#7201a8"
             ],
             [
              0.3333333333333333,
              "#9c179e"
             ],
             [
              0.4444444444444444,
              "#bd3786"
             ],
             [
              0.5555555555555556,
              "#d8576b"
             ],
             [
              0.6666666666666666,
              "#ed7953"
             ],
             [
              0.7777777777777778,
              "#fb9f3a"
             ],
             [
              0.8888888888888888,
              "#fdca26"
             ],
             [
              1,
              "#f0f921"
             ]
            ],
            "type": "surface"
           }
          ],
          "table": [
           {
            "cells": {
             "fill": {
              "color": "#EBF0F8"
             },
             "line": {
              "color": "white"
             }
            },
            "header": {
             "fill": {
              "color": "#C8D4E3"
             },
             "line": {
              "color": "white"
             }
            },
            "type": "table"
           }
          ]
         },
         "layout": {
          "annotationdefaults": {
           "arrowcolor": "#2a3f5f",
           "arrowhead": 0,
           "arrowwidth": 1
          },
          "autotypenumbers": "strict",
          "coloraxis": {
           "colorbar": {
            "outlinewidth": 0,
            "ticks": ""
           }
          },
          "colorscale": {
           "diverging": [
            [
             0,
             "#8e0152"
            ],
            [
             0.1,
             "#c51b7d"
            ],
            [
             0.2,
             "#de77ae"
            ],
            [
             0.3,
             "#f1b6da"
            ],
            [
             0.4,
             "#fde0ef"
            ],
            [
             0.5,
             "#f7f7f7"
            ],
            [
             0.6,
             "#e6f5d0"
            ],
            [
             0.7,
             "#b8e186"
            ],
            [
             0.8,
             "#7fbc41"
            ],
            [
             0.9,
             "#4d9221"
            ],
            [
             1,
             "#276419"
            ]
           ],
           "sequential": [
            [
             0,
             "#0d0887"
            ],
            [
             0.1111111111111111,
             "#46039f"
            ],
            [
             0.2222222222222222,
             "#7201a8"
            ],
            [
             0.3333333333333333,
             "#9c179e"
            ],
            [
             0.4444444444444444,
             "#bd3786"
            ],
            [
             0.5555555555555556,
             "#d8576b"
            ],
            [
             0.6666666666666666,
             "#ed7953"
            ],
            [
             0.7777777777777778,
             "#fb9f3a"
            ],
            [
             0.8888888888888888,
             "#fdca26"
            ],
            [
             1,
             "#f0f921"
            ]
           ],
           "sequentialminus": [
            [
             0,
             "#0d0887"
            ],
            [
             0.1111111111111111,
             "#46039f"
            ],
            [
             0.2222222222222222,
             "#7201a8"
            ],
            [
             0.3333333333333333,
             "#9c179e"
            ],
            [
             0.4444444444444444,
             "#bd3786"
            ],
            [
             0.5555555555555556,
             "#d8576b"
            ],
            [
             0.6666666666666666,
             "#ed7953"
            ],
            [
             0.7777777777777778,
             "#fb9f3a"
            ],
            [
             0.8888888888888888,
             "#fdca26"
            ],
            [
             1,
             "#f0f921"
            ]
           ]
          },
          "colorway": [
           "#636efa",
           "#EF553B",
           "#00cc96",
           "#ab63fa",
           "#FFA15A",
           "#19d3f3",
           "#FF6692",
           "#B6E880",
           "#FF97FF",
           "#FECB52"
          ],
          "font": {
           "color": "#2a3f5f"
          },
          "geo": {
           "bgcolor": "white",
           "lakecolor": "white",
           "landcolor": "#E5ECF6",
           "showlakes": true,
           "showland": true,
           "subunitcolor": "white"
          },
          "hoverlabel": {
           "align": "left"
          },
          "hovermode": "closest",
          "mapbox": {
           "style": "light"
          },
          "paper_bgcolor": "white",
          "plot_bgcolor": "#E5ECF6",
          "polar": {
           "angularaxis": {
            "gridcolor": "white",
            "linecolor": "white",
            "ticks": ""
           },
           "bgcolor": "#E5ECF6",
           "radialaxis": {
            "gridcolor": "white",
            "linecolor": "white",
            "ticks": ""
           }
          },
          "scene": {
           "xaxis": {
            "backgroundcolor": "#E5ECF6",
            "gridcolor": "white",
            "gridwidth": 2,
            "linecolor": "white",
            "showbackground": true,
            "ticks": "",
            "zerolinecolor": "white"
           },
           "yaxis": {
            "backgroundcolor": "#E5ECF6",
            "gridcolor": "white",
            "gridwidth": 2,
            "linecolor": "white",
            "showbackground": true,
            "ticks": "",
            "zerolinecolor": "white"
           },
           "zaxis": {
            "backgroundcolor": "#E5ECF6",
            "gridcolor": "white",
            "gridwidth": 2,
            "linecolor": "white",
            "showbackground": true,
            "ticks": "",
            "zerolinecolor": "white"
           }
          },
          "shapedefaults": {
           "line": {
            "color": "#2a3f5f"
           }
          },
          "ternary": {
           "aaxis": {
            "gridcolor": "white",
            "linecolor": "white",
            "ticks": ""
           },
           "baxis": {
            "gridcolor": "white",
            "linecolor": "white",
            "ticks": ""
           },
           "bgcolor": "#E5ECF6",
           "caxis": {
            "gridcolor": "white",
            "linecolor": "white",
            "ticks": ""
           }
          },
          "title": {
           "x": 0.05
          },
          "xaxis": {
           "automargin": true,
           "gridcolor": "white",
           "linecolor": "white",
           "ticks": "",
           "title": {
            "standoff": 15
           },
           "zerolinecolor": "white",
           "zerolinewidth": 2
          },
          "yaxis": {
           "automargin": true,
           "gridcolor": "white",
           "linecolor": "white",
           "ticks": "",
           "title": {
            "standoff": 15
           },
           "zerolinecolor": "white",
           "zerolinewidth": 2
          }
         }
        },
        "title": {
         "text": "Feature importance for 'Is Global Ultimate'"
        },
        "width": 2000,
        "xaxis": {
         "anchor": "y",
         "domain": [
          0,
          1
         ],
         "title": {
          "text": "importance"
         }
        },
        "yaxis": {
         "anchor": "x",
         "domain": [
          0,
          1
         ],
         "title": {
          "text": "feature"
         }
        }
       }
      }
     },
     "metadata": {},
     "output_type": "display_data"
    }
   ],
   "source": [
    "# Fit model\n",
    "clf_global = XGBClassifier(random_state=42)\n",
    "clf_global.fit(X_global_train, y_global_train)\n",
    "\n",
    "# Get feature importance\n",
    "feature_importance = clf_global.feature_importances_\n",
    "\n",
    "# Plot feature importance\n",
    "feature_importance_df = pd.DataFrame(\n",
    "    {\n",
    "        'feature': clf_global.feature_names_in_,\n",
    "        'importance': clf_global.feature_importances_\n",
    "    }\n",
    ")\n",
    "feature_importance_df.sort_values('importance', ascending=False, inplace=True)\n",
    "px.bar(feature_importance_df,\n",
    "       x='importance',\n",
    "       y='feature',\n",
    "       title=\"Feature importance for 'Is Global Ultimate'\",\n",
    "       text_auto=True,\n",
    "       height=600,\n",
    "       width=2000)"
   ]
  },
  {
   "cell_type": "markdown",
   "id": "fdcac7a3",
   "metadata": {},
   "source": [
    "# Hypertuning parameters\n",
    "Using Optuna to hypertune parameters"
   ]
  },
  {
   "cell_type": "markdown",
   "id": "cc6a0bda",
   "metadata": {},
   "source": [
    "## XGBoost"
   ]
  },
  {
   "cell_type": "code",
   "execution_count": 26,
   "id": "26cea00e",
   "metadata": {},
   "outputs": [],
   "source": [
    "import optuna\n",
    "from sklearn.model_selection import cross_val_score\n",
    "\n",
    "\n",
    "def hypertune_xgb(X_train: pd.DataFrame, y_train: pd.Series,\n",
    "                  oversample: bool=False) -> dict:\n",
    "  '''\n",
    "  Get the best parameters for XGBoost model.  \n",
    "  \n",
    "  Parameters:\n",
    "    X_train (pandas.DataFrame): Independent variables of training dataset.\n",
    "    y_train (pandas.Series): Dependent variable of training dataset.\n",
    "    oversample (bool): To apply SMOTE or not.\n",
    "\n",
    "  Returns:\n",
    "    dict: Dictionary containing the best value for each hyperparameter.\n",
    "  '''\n",
    "  def objective(trial):\n",
    "    # Define hyperparameter search space\n",
    "    params = {\n",
    "      'objective': \"binary:logistic\",\n",
    "      'max_depth': trial.suggest_int('max_depth', 3, 10),\n",
    "      'learning_rate': trial.suggest_float('learning_rate', 0.01, 0.3),\n",
    "      'min_child_weight': trial.suggest_int('min_child_weight', 1, 10),\n",
    "      'subsample': trial.suggest_float('subsample', 0.5, 1.0),\n",
    "      'colsample_bytree': trial.suggest_float('colsample_bytree', 0.5, 1.0),\n",
    "      'gamma': trial.suggest_float('gamma', 0, 10),\n",
    "      'reg_lambda': trial.suggest_float('reg_lambda', 0, 5),\n",
    "      'reg_alpha': trial.suggest_float('reg_alpha', 0, 10),\n",
    "      'random_state': 42\n",
    "    }\n",
    "\n",
    "    # Train XGBoost model\n",
    "    model = XGBClassifier(**params)\n",
    "\n",
    "    # Get model pipeline\n",
    "    if oversample:\n",
    "      model_pipeline = Pipeline(\n",
    "              [\n",
    "                  ('smote', SMOTE(sampling_strategy='auto', random_state=42)),\n",
    "                  ('clf', model)\n",
    "              ]\n",
    "      )\n",
    "    else:\n",
    "      model_pipeline = model\n",
    "\n",
    "    # Get cross validation score\n",
    "    score = cross_val_score(model_pipeline, X_train, y_train, cv=5, scoring='f1').mean()\n",
    "    return score\n",
    "\n",
    "  sampler = optuna.samplers.TPESampler(seed=42)\n",
    "  study = optuna.create_study(sampler=sampler, direction=\"maximize\")\n",
    "  study.optimize(objective, n_trials= 50)  # type: ignore\n",
    "\n",
    "  return study.best_params\n"
   ]
  },
  {
   "cell_type": "markdown",
   "id": "35a41465",
   "metadata": {},
   "source": [
    "### Hypertuning for 'Is Domestic Ultimate'"
   ]
  },
  {
   "cell_type": "code",
   "execution_count": 27,
   "id": "5c8568b2",
   "metadata": {},
   "outputs": [
    {
     "name": "stderr",
     "output_type": "stream",
     "text": [
      "[I 2025-06-20 15:40:04,623] A new study created in memory with name: no-name-604d76f9-d60f-4ece-a043-0e45d42b0854\n",
      "[I 2025-06-20 15:40:04,977] Trial 0 finished with value: 0.9093676622479532 and parameters: {'max_depth': 5, 'learning_rate': 0.28570714885887566, 'min_child_weight': 8, 'subsample': 0.7993292420985183, 'colsample_bytree': 0.5780093202212182, 'gamma': 1.5599452033620265, 'reg_lambda': 0.2904180608409973, 'reg_alpha': 8.661761457749352}. Best is trial 0 with value: 0.9093676622479532.\n",
      "[I 2025-06-20 15:40:05,331] Trial 1 finished with value: 0.9157389227438472 and parameters: {'max_depth': 7, 'learning_rate': 0.21534104756085318, 'min_child_weight': 1, 'subsample': 0.9849549260809971, 'colsample_bytree': 0.9162213204002109, 'gamma': 2.1233911067827616, 'reg_lambda': 0.9091248360355031, 'reg_alpha': 1.8340450985343382}. Best is trial 1 with value: 0.9157389227438472.\n",
      "[I 2025-06-20 15:40:05,836] Trial 2 finished with value: 0.912910836212502 and parameters: {'max_depth': 5, 'learning_rate': 0.16217936517334897, 'min_child_weight': 5, 'subsample': 0.645614570099021, 'colsample_bytree': 0.8059264473611898, 'gamma': 1.3949386065204183, 'reg_lambda': 1.4607232426760908, 'reg_alpha': 3.663618432936917}. Best is trial 1 with value: 0.9157389227438472.\n",
      "[I 2025-06-20 15:40:06,448] Trial 3 finished with value: 0.9173898532947655 and parameters: {'max_depth': 6, 'learning_rate': 0.23770102880397392, 'min_child_weight': 2, 'subsample': 0.7571172192068059, 'colsample_bytree': 0.7962072844310213, 'gamma': 0.46450412719997725, 'reg_lambda': 3.0377242595071916, 'reg_alpha': 1.7052412368729153}. Best is trial 3 with value: 0.9173898532947655.\n",
      "[I 2025-06-20 15:40:06,802] Trial 4 finished with value: 0.9078555776684192 and parameters: {'max_depth': 3, 'learning_rate': 0.2851768058034666, 'min_child_weight': 10, 'subsample': 0.9041986740582306, 'colsample_bytree': 0.6523068845866853, 'gamma': 0.9767211400638387, 'reg_lambda': 3.4211651325607844, 'reg_alpha': 4.4015249373960135}. Best is trial 3 with value: 0.9173898532947655.\n",
      "[I 2025-06-20 15:40:07,112] Trial 5 finished with value: 0.8925898521816465 and parameters: {'max_depth': 3, 'learning_rate': 0.15360130393226834, 'min_child_weight': 1, 'subsample': 0.954660201039391, 'colsample_bytree': 0.6293899908000085, 'gamma': 6.62522284353982, 'reg_lambda': 1.5585553804470549, 'reg_alpha': 5.200680211778108}. Best is trial 3 with value: 0.9173898532947655.\n",
      "[I 2025-06-20 15:40:07,618] Trial 6 finished with value: 0.903769106307155 and parameters: {'max_depth': 7, 'learning_rate': 0.06360779210240283, 'min_child_weight': 10, 'subsample': 0.8875664116805573, 'colsample_bytree': 0.9697494707820946, 'gamma': 8.948273504276488, 'reg_lambda': 2.9894998940554256, 'reg_alpha': 9.218742350231167}. Best is trial 3 with value: 0.9173898532947655.\n",
      "[I 2025-06-20 15:40:07,981] Trial 7 finished with value: 0.88538276307952 and parameters: {'max_depth': 3, 'learning_rate': 0.0668350301015521, 'min_child_weight': 1, 'subsample': 0.6626651653816322, 'colsample_bytree': 0.6943386448447411, 'gamma': 2.713490317738959, 'reg_lambda': 4.143687545759647, 'reg_alpha': 3.567533266935893}. Best is trial 3 with value: 0.9173898532947655.\n",
      "[I 2025-06-20 15:40:08,293] Trial 8 finished with value: 0.90405182246962 and parameters: {'max_depth': 5, 'learning_rate': 0.16738186411589204, 'min_child_weight': 2, 'subsample': 0.9010984903770198, 'colsample_bytree': 0.5372753218398854, 'gamma': 9.868869366005173, 'reg_lambda': 3.861223846483287, 'reg_alpha': 1.987156815341724}. Best is trial 3 with value: 0.9173898532947655.\n",
      "[I 2025-06-20 15:40:08,652] Trial 9 finished with value: 0.9071422751456186 and parameters: {'max_depth': 3, 'learning_rate': 0.24648381425190188, 'min_child_weight': 8, 'subsample': 0.8645035840204937, 'colsample_bytree': 0.8856351733429728, 'gamma': 0.7404465173409036, 'reg_lambda': 1.7923286427213632, 'reg_alpha': 1.1586905952512971}. Best is trial 3 with value: 0.9173898532947655.\n",
      "[I 2025-06-20 15:40:09,558] Trial 10 finished with value: 0.9070989419584986 and parameters: {'max_depth': 10, 'learning_rate': 0.011739183057186964, 'min_child_weight': 4, 'subsample': 0.5089809378074099, 'colsample_bytree': 0.7828065453407016, 'gamma': 4.26812895383314, 'reg_lambda': 4.7988537297270994, 'reg_alpha': 0.11852595611645333}. Best is trial 3 with value: 0.9173898532947655.\n",
      "[I 2025-06-20 15:40:09,933] Trial 11 finished with value: 0.9127154564421593 and parameters: {'max_depth': 8, 'learning_rate': 0.21779022520592756, 'min_child_weight': 3, 'subsample': 0.7230725746541047, 'colsample_bytree': 0.8991358530198219, 'gamma': 3.587862975096967, 'reg_lambda': 0.339101338813105, 'reg_alpha': 6.355171476922921}. Best is trial 3 with value: 0.9173898532947655.\n",
      "[I 2025-06-20 15:40:10,751] Trial 12 finished with value: 0.9158772928367075 and parameters: {'max_depth': 8, 'learning_rate': 0.2127407714413106, 'min_child_weight': 3, 'subsample': 0.5339884036663103, 'colsample_bytree': 0.8606412847038332, 'gamma': 0.07757683332151433, 'reg_lambda': 2.343526094439212, 'reg_alpha': 2.3968278799454557}. Best is trial 3 with value: 0.9173898532947655.\n",
      "[I 2025-06-20 15:40:11,647] Trial 13 finished with value: 0.9162841133757688 and parameters: {'max_depth': 9, 'learning_rate': 0.2039014789735783, 'min_child_weight': 3, 'subsample': 0.5091642237134321, 'colsample_bytree': 0.8255079015857973, 'gamma': 0.029518948879441897, 'reg_lambda': 2.6481854353072203, 'reg_alpha': 2.7999097527030488}. Best is trial 3 with value: 0.9173898532947655.\n",
      "[I 2025-06-20 15:40:12,149] Trial 14 finished with value: 0.9129371420368612 and parameters: {'max_depth': 10, 'learning_rate': 0.1178840676461329, 'min_child_weight': 5, 'subsample': 0.6119868629523426, 'colsample_bytree': 0.7311105792132586, 'gamma': 5.454273262562598, 'reg_lambda': 2.3105737920056404, 'reg_alpha': 0.052556133133836}. Best is trial 3 with value: 0.9173898532947655.\n",
      "[I 2025-06-20 15:40:12,487] Trial 15 finished with value: 0.9101592115019519 and parameters: {'max_depth': 9, 'learning_rate': 0.24311381428304152, 'min_child_weight': 3, 'subsample': 0.763129444650121, 'colsample_bytree': 0.825165230190724, 'gamma': 6.646179710147848, 'reg_lambda': 2.9479925092287966, 'reg_alpha': 3.1085317655666773}. Best is trial 3 with value: 0.9173898532947655.\n",
      "[I 2025-06-20 15:40:12,902] Trial 16 finished with value: 0.9080973664310479 and parameters: {'max_depth': 6, 'learning_rate': 0.18418599446665979, 'min_child_weight': 7, 'subsample': 0.5834714698014687, 'colsample_bytree': 0.9976140943110179, 'gamma': 2.953250849262419, 'reg_lambda': 2.9401158744374447, 'reg_alpha': 6.394684662708778}. Best is trial 3 with value: 0.9173898532947655.\n",
      "[I 2025-06-20 15:40:13,525] Trial 17 finished with value: 0.9155730872150812 and parameters: {'max_depth': 6, 'learning_rate': 0.12053408540740748, 'min_child_weight': 4, 'subsample': 0.6889980305461116, 'colsample_bytree': 0.7505409072564342, 'gamma': 0.272190263911968, 'reg_lambda': 3.8791244302481265, 'reg_alpha': 0.9786484880675221}. Best is trial 3 with value: 0.9173898532947655.\n",
      "[I 2025-06-20 15:40:13,859] Trial 18 finished with value: 0.9106932856305278 and parameters: {'max_depth': 9, 'learning_rate': 0.2683964693059537, 'min_child_weight': 2, 'subsample': 0.8132394567758081, 'colsample_bytree': 0.8303975556621364, 'gamma': 5.067762568716672, 'reg_lambda': 4.988962574653092, 'reg_alpha': 5.895374498936984}. Best is trial 3 with value: 0.9173898532947655.\n",
      "[I 2025-06-20 15:40:14,380] Trial 19 finished with value: 0.9113640949294245 and parameters: {'max_depth': 8, 'learning_rate': 0.19465703385125277, 'min_child_weight': 6, 'subsample': 0.571778935507954, 'colsample_bytree': 0.9442814921194773, 'gamma': 1.70461278532113, 'reg_lambda': 2.0930885835385764, 'reg_alpha': 8.157298373095427}. Best is trial 3 with value: 0.9173898532947655.\n",
      "[I 2025-06-20 15:40:14,726] Trial 20 finished with value: 0.906801614935388 and parameters: {'max_depth': 4, 'learning_rate': 0.24437208685192138, 'min_child_weight': 2, 'subsample': 0.727425924347735, 'colsample_bytree': 0.7159288929998385, 'gamma': 3.681644226027468, 'reg_lambda': 2.7484297073934196, 'reg_alpha': 2.7002049194053397}. Best is trial 3 with value: 0.9173898532947655.\n",
      "[I 2025-06-20 15:40:15,545] Trial 21 finished with value: 0.9159530718824869 and parameters: {'max_depth': 8, 'learning_rate': 0.21365815619367437, 'min_child_weight': 3, 'subsample': 0.5192010291271826, 'colsample_bytree': 0.8616006383248971, 'gamma': 0.01639552364121558, 'reg_lambda': 2.446230166947815, 'reg_alpha': 2.2224894546439202}. Best is trial 3 with value: 0.9173898532947655.\n",
      "[I 2025-06-20 15:40:16,422] Trial 22 finished with value: 0.9147384824699442 and parameters: {'max_depth': 9, 'learning_rate': 0.23106180974937396, 'min_child_weight': 4, 'subsample': 0.5001786010552239, 'colsample_bytree': 0.7631473067887004, 'gamma': 0.06429054917902706, 'reg_lambda': 3.2673473949062615, 'reg_alpha': 1.2407434635445573}. Best is trial 3 with value: 0.9173898532947655.\n",
      "[I 2025-06-20 15:40:16,913] Trial 23 finished with value: 0.9126995277052188 and parameters: {'max_depth': 7, 'learning_rate': 0.18954470378379812, 'min_child_weight': 3, 'subsample': 0.5623767259900936, 'colsample_bytree': 0.8441200273952952, 'gamma': 2.353665230803721, 'reg_lambda': 1.9672780502868445, 'reg_alpha': 3.9842910614900546}. Best is trial 3 with value: 0.9173898532947655.\n",
      "[I 2025-06-20 15:40:17,648] Trial 24 finished with value: 0.9181693754633535 and parameters: {'max_depth': 8, 'learning_rate': 0.2628607507043165, 'min_child_weight': 2, 'subsample': 0.6486413325246513, 'colsample_bytree': 0.7928711624332259, 'gamma': 0.8476987107790058, 'reg_lambda': 2.6091991052334174, 'reg_alpha': 2.8585077643070282}. Best is trial 24 with value: 0.9181693754633535.\n",
      "[I 2025-06-20 15:40:18,199] Trial 25 finished with value: 0.917876027840412 and parameters: {'max_depth': 9, 'learning_rate': 0.2652076080695796, 'min_child_weight': 2, 'subsample': 0.7855182983696016, 'colsample_bytree': 0.6885749124269054, 'gamma': 1.0696991787772956, 'reg_lambda': 3.539268199052905, 'reg_alpha': 4.814768512535699}. Best is trial 24 with value: 0.9181693754633535.\n",
      "[I 2025-06-20 15:40:18,621] Trial 26 finished with value: 0.9141800128724735 and parameters: {'max_depth': 6, 'learning_rate': 0.29823930281165006, 'min_child_weight': 2, 'subsample': 0.7931677780760045, 'colsample_bytree': 0.6721148329848076, 'gamma': 1.4480009462921575, 'reg_lambda': 3.4759964232004723, 'reg_alpha': 4.864937031496559}. Best is trial 24 with value: 0.9181693754633535.\n",
      "[I 2025-06-20 15:40:19,153] Trial 27 finished with value: 0.9167385684084707 and parameters: {'max_depth': 10, 'learning_rate': 0.2681219199802681, 'min_child_weight': 1, 'subsample': 0.8374399655997206, 'colsample_bytree': 0.620071494794409, 'gamma': 0.9366982098756093, 'reg_lambda': 4.368753776852875, 'reg_alpha': 7.710012170071045}. Best is trial 24 with value: 0.9181693754633535.\n",
      "[I 2025-06-20 15:40:19,531] Trial 28 finished with value: 0.911976650542744 and parameters: {'max_depth': 7, 'learning_rate': 0.2574666382551082, 'min_child_weight': 2, 'subsample': 0.7013195445817981, 'colsample_bytree': 0.7841756428730077, 'gamma': 3.1544546173122425, 'reg_lambda': 3.6723409196912336, 'reg_alpha': 5.354108131420043}. Best is trial 24 with value: 0.9181693754633535.\n",
      "[I 2025-06-20 15:40:19,958] Trial 29 finished with value: 0.9138425232964897 and parameters: {'max_depth': 8, 'learning_rate': 0.287703306290924, 'min_child_weight': 4, 'subsample': 0.759959030841758, 'colsample_bytree': 0.5597049780411142, 'gamma': 1.873626315214834, 'reg_lambda': 4.47623597343028, 'reg_alpha': 4.227445042241613}. Best is trial 24 with value: 0.9181693754633535.\n",
      "[I 2025-06-20 15:40:20,276] Trial 30 finished with value: 0.9008593834848575 and parameters: {'max_depth': 4, 'learning_rate': 0.26837837273313775, 'min_child_weight': 1, 'subsample': 0.6390378176073311, 'colsample_bytree': 0.5874836266256394, 'gamma': 4.2595068830070595, 'reg_lambda': 3.175652287807479, 'reg_alpha': 7.01295709601335}. Best is trial 24 with value: 0.9181693754633535.\n",
      "[I 2025-06-20 15:40:20,757] Trial 31 finished with value: 0.9167159064352856 and parameters: {'max_depth': 10, 'learning_rate': 0.2686854036924613, 'min_child_weight': 1, 'subsample': 0.8308300133848556, 'colsample_bytree': 0.6165345869460012, 'gamma': 1.223183973757775, 'reg_lambda': 4.315515964055778, 'reg_alpha': 7.8772689730993966}. Best is trial 24 with value: 0.9181693754633535.\n",
      "[I 2025-06-20 15:40:21,369] Trial 32 finished with value: 0.9154568321297875 and parameters: {'max_depth': 10, 'learning_rate': 0.2792894486857992, 'min_child_weight': 1, 'subsample': 0.7855542627246103, 'colsample_bytree': 0.7020022613585702, 'gamma': 0.6578192855657736, 'reg_lambda': 4.129018011545866, 'reg_alpha': 9.286258485851004}. Best is trial 24 with value: 0.9181693754633535.\n",
      "[I 2025-06-20 15:40:21,783] Trial 33 finished with value: 0.9141597977140894 and parameters: {'max_depth': 9, 'learning_rate': 0.23304190463844787, 'min_child_weight': 2, 'subsample': 0.8399369949359753, 'colsample_bytree': 0.650315427011819, 'gamma': 2.267614759441075, 'reg_lambda': 4.586277159894997, 'reg_alpha': 7.491674838000508}. Best is trial 24 with value: 0.9181693754633535.\n",
      "[I 2025-06-20 15:40:22,272] Trial 34 finished with value: 0.9197063117729914 and parameters: {'max_depth': 10, 'learning_rate': 0.2938955140164786, 'min_child_weight': 1, 'subsample': 0.9348658639034386, 'colsample_bytree': 0.5023435120494075, 'gamma': 1.0582301350288228, 'reg_lambda': 3.853852239774496, 'reg_alpha': 3.3232879666935737}. Best is trial 34 with value: 0.9197063117729914.\n",
      "[I 2025-06-20 15:40:22,666] Trial 35 finished with value: 0.9181158173199462 and parameters: {'max_depth': 9, 'learning_rate': 0.29371992637528077, 'min_child_weight': 5, 'subsample': 0.9986736193273456, 'colsample_bytree': 0.5080976720599699, 'gamma': 1.559975678142913, 'reg_lambda': 3.6389363836801807, 'reg_alpha': 3.5008598031824834}. Best is trial 34 with value: 0.9197063117729914.\n",
      "[I 2025-06-20 15:40:23,064] Trial 36 finished with value: 0.9177551709883064 and parameters: {'max_depth': 9, 'learning_rate': 0.29855735781910103, 'min_child_weight': 6, 'subsample': 0.9578168400870858, 'colsample_bytree': 0.5066286522076258, 'gamma': 1.62191004203796, 'reg_lambda': 1.1281876747405861, 'reg_alpha': 3.2726960509427307}. Best is trial 34 with value: 0.9197063117729914.\n",
      "[I 2025-06-20 15:40:23,472] Trial 37 finished with value: 0.9176850123665128 and parameters: {'max_depth': 9, 'learning_rate': 0.2851987635580474, 'min_child_weight': 5, 'subsample': 0.9922057863742131, 'colsample_bytree': 0.5275032892952086, 'gamma': 1.1883698534934706, 'reg_lambda': 3.647714384794498, 'reg_alpha': 4.682644420998158}. Best is trial 34 with value: 0.9197063117729914.\n",
      "[I 2025-06-20 15:40:23,874] Trial 38 finished with value: 0.9177296513328057 and parameters: {'max_depth': 10, 'learning_rate': 0.2556946468317153, 'min_child_weight': 6, 'subsample': 0.9356219038752687, 'colsample_bytree': 0.5861998391696908, 'gamma': 2.4557733167554865, 'reg_lambda': 4.0325465029756895, 'reg_alpha': 3.798909159029021}. Best is trial 34 with value: 0.9197063117729914.\n",
      "[I 2025-06-20 15:40:24,182] Trial 39 finished with value: 0.907699899636504 and parameters: {'max_depth': 8, 'learning_rate': 0.2961583288563504, 'min_child_weight': 9, 'subsample': 0.9372042554331004, 'colsample_bytree': 0.558509036338938, 'gamma': 7.002920642830554, 'reg_lambda': 3.37110587143275, 'reg_alpha': 5.514525230200859}. Best is trial 34 with value: 0.9197063117729914.\n",
      "[I 2025-06-20 15:40:24,579] Trial 40 finished with value: 0.9161060481791063 and parameters: {'max_depth': 9, 'learning_rate': 0.2777914976472479, 'min_child_weight': 7, 'subsample': 0.9756096033592004, 'colsample_bytree': 0.5005975589303819, 'gamma': 1.889610572731266, 'reg_lambda': 3.6777116155462584, 'reg_alpha': 3.428663371923008}. Best is trial 34 with value: 0.9197063117729914.\n",
      "[I 2025-06-20 15:40:24,991] Trial 41 finished with value: 0.9177995666348526 and parameters: {'max_depth': 9, 'learning_rate': 0.2968941944021387, 'min_child_weight': 6, 'subsample': 0.9649401122217559, 'colsample_bytree': 0.516886239570879, 'gamma': 1.5044634011817832, 'reg_lambda': 1.272413749664438, 'reg_alpha': 3.292959931048215}. Best is trial 34 with value: 0.9197063117729914.\n",
      "[I 2025-06-20 15:40:25,607] Trial 42 finished with value: 0.9196610816386356 and parameters: {'max_depth': 10, 'learning_rate': 0.25667527416506963, 'min_child_weight': 7, 'subsample': 0.9184635660350624, 'colsample_bytree': 0.5302128697321976, 'gamma': 0.6740089405866394, 'reg_lambda': 0.14720045821276107, 'reg_alpha': 1.5861263285326397}. Best is trial 34 with value: 0.9197063117729914.\n",
      "[I 2025-06-20 15:40:26,196] Trial 43 finished with value: 0.9203989355666412 and parameters: {'max_depth': 10, 'learning_rate': 0.25624932749301044, 'min_child_weight': 8, 'subsample': 0.9219266982546284, 'colsample_bytree': 0.5483573270237766, 'gamma': 0.7375750635431397, 'reg_lambda': 0.1288918001682957, 'reg_alpha': 1.8489879755531091}. Best is trial 43 with value: 0.9203989355666412.\n",
      "[I 2025-06-20 15:40:26,886] Trial 44 finished with value: 0.9199125519088318 and parameters: {'max_depth': 10, 'learning_rate': 0.2274357957658889, 'min_child_weight': 8, 'subsample': 0.88239325243848, 'colsample_bytree': 0.5560444803028676, 'gamma': 0.7808140891156476, 'reg_lambda': 0.5196433618456149, 'reg_alpha': 1.3802074694358226}. Best is trial 43 with value: 0.9203989355666412.\n",
      "[I 2025-06-20 15:40:27,613] Trial 45 finished with value: 0.9183986866517632 and parameters: {'max_depth': 10, 'learning_rate': 0.22605812069732742, 'min_child_weight': 8, 'subsample': 0.8853871942566631, 'colsample_bytree': 0.5488312281249308, 'gamma': 0.6160219169839964, 'reg_lambda': 0.07400315321265571, 'reg_alpha': 1.6011061504774675}. Best is trial 43 with value: 0.9203989355666412.\n",
      "[I 2025-06-20 15:40:28,358] Trial 46 finished with value: 0.9206391587042955 and parameters: {'max_depth': 10, 'learning_rate': 0.2242870489933784, 'min_child_weight': 8, 'subsample': 0.8768484233886438, 'colsample_bytree': 0.5461067879069781, 'gamma': 0.6326725512094852, 'reg_lambda': 0.016360263270449205, 'reg_alpha': 1.5769877651687527}. Best is trial 46 with value: 0.9206391587042955.\n",
      "[I 2025-06-20 15:40:29,215] Trial 47 finished with value: 0.9194094449296889 and parameters: {'max_depth': 10, 'learning_rate': 0.14577077715683487, 'min_child_weight': 9, 'subsample': 0.9205736255717114, 'colsample_bytree': 0.6008771116975529, 'gamma': 0.562448806280212, 'reg_lambda': 0.6574107556289221, 'reg_alpha': 0.64652517013813}. Best is trial 46 with value: 0.9206391587042955.\n",
      "[I 2025-06-20 15:40:29,556] Trial 48 finished with value: 0.912620433172006 and parameters: {'max_depth': 10, 'learning_rate': 0.25291674532693637, 'min_child_weight': 7, 'subsample': 0.8647847341677537, 'colsample_bytree': 0.5724364593617011, 'gamma': 7.663209273081536, 'reg_lambda': 0.5758704796947609, 'reg_alpha': 1.6614210280618222}. Best is trial 46 with value: 0.9206391587042955.\n",
      "[I 2025-06-20 15:40:30,415] Trial 49 finished with value: 0.9194142292705131 and parameters: {'max_depth': 10, 'learning_rate': 0.1733905936112541, 'min_child_weight': 9, 'subsample': 0.9076829965211908, 'colsample_bytree': 0.5359949543870222, 'gamma': 0.48144525008234207, 'reg_lambda': 0.06172196322212328, 'reg_alpha': 0.65979040135946}. Best is trial 46 with value: 0.9206391587042955.\n"
     ]
    }
   ],
   "source": [
    "best_xgb_params_dom = hypertune_xgb(X_dom_train, y_dom_train)"
   ]
  },
  {
   "cell_type": "code",
   "execution_count": 28,
   "id": "43f3a346",
   "metadata": {},
   "outputs": [],
   "source": [
    "# Fit XGBoost model\n",
    "xgb_model_dom = XGBClassifier(**best_xgb_params_dom)"
   ]
  },
  {
   "cell_type": "markdown",
   "id": "39ff5708",
   "metadata": {},
   "source": [
    "### Hypertuning for 'Is Global Ultimate'"
   ]
  },
  {
   "cell_type": "code",
   "execution_count": 29,
   "id": "b6f1b085",
   "metadata": {},
   "outputs": [
    {
     "name": "stderr",
     "output_type": "stream",
     "text": [
      "[I 2025-06-20 15:40:30,423] A new study created in memory with name: no-name-459eca6b-e523-44a2-820c-477b74e50712\n",
      "[I 2025-06-20 15:40:31,241] Trial 0 finished with value: 0.876938715964056 and parameters: {'max_depth': 5, 'learning_rate': 0.28570714885887566, 'min_child_weight': 8, 'subsample': 0.7993292420985183, 'colsample_bytree': 0.5780093202212182, 'gamma': 1.5599452033620265, 'reg_lambda': 0.2904180608409973, 'reg_alpha': 8.661761457749352}. Best is trial 0 with value: 0.876938715964056.\n",
      "[I 2025-06-20 15:40:32,096] Trial 1 finished with value: 0.8802799863820227 and parameters: {'max_depth': 7, 'learning_rate': 0.21534104756085318, 'min_child_weight': 1, 'subsample': 0.9849549260809971, 'colsample_bytree': 0.9162213204002109, 'gamma': 2.1233911067827616, 'reg_lambda': 0.9091248360355031, 'reg_alpha': 1.8340450985343382}. Best is trial 1 with value: 0.8802799863820227.\n",
      "[I 2025-06-20 15:40:33,190] Trial 2 finished with value: 0.8795957064895328 and parameters: {'max_depth': 5, 'learning_rate': 0.16217936517334897, 'min_child_weight': 5, 'subsample': 0.645614570099021, 'colsample_bytree': 0.8059264473611898, 'gamma': 1.3949386065204183, 'reg_lambda': 1.4607232426760908, 'reg_alpha': 3.663618432936917}. Best is trial 1 with value: 0.8802799863820227.\n",
      "[I 2025-06-20 15:40:34,422] Trial 3 finished with value: 0.8866404119669553 and parameters: {'max_depth': 6, 'learning_rate': 0.23770102880397392, 'min_child_weight': 2, 'subsample': 0.7571172192068059, 'colsample_bytree': 0.7962072844310213, 'gamma': 0.46450412719997725, 'reg_lambda': 3.0377242595071916, 'reg_alpha': 1.7052412368729153}. Best is trial 3 with value: 0.8866404119669553.\n",
      "[I 2025-06-20 15:40:35,205] Trial 4 finished with value: 0.8727920288438611 and parameters: {'max_depth': 3, 'learning_rate': 0.2851768058034666, 'min_child_weight': 10, 'subsample': 0.9041986740582306, 'colsample_bytree': 0.6523068845866853, 'gamma': 0.9767211400638387, 'reg_lambda': 3.4211651325607844, 'reg_alpha': 4.4015249373960135}. Best is trial 3 with value: 0.8866404119669553.\n",
      "[I 2025-06-20 15:40:35,933] Trial 5 finished with value: 0.8573424485283823 and parameters: {'max_depth': 3, 'learning_rate': 0.15360130393226834, 'min_child_weight': 1, 'subsample': 0.954660201039391, 'colsample_bytree': 0.6293899908000085, 'gamma': 6.62522284353982, 'reg_lambda': 1.5585553804470549, 'reg_alpha': 5.200680211778108}. Best is trial 3 with value: 0.8866404119669553.\n",
      "[I 2025-06-20 15:40:37,118] Trial 6 finished with value: 0.8693978164799351 and parameters: {'max_depth': 7, 'learning_rate': 0.06360779210240283, 'min_child_weight': 10, 'subsample': 0.8875664116805573, 'colsample_bytree': 0.9697494707820946, 'gamma': 8.948273504276488, 'reg_lambda': 2.9894998940554256, 'reg_alpha': 9.218742350231167}. Best is trial 3 with value: 0.8866404119669553.\n",
      "[I 2025-06-20 15:40:37,918] Trial 7 finished with value: 0.834446821696442 and parameters: {'max_depth': 3, 'learning_rate': 0.0668350301015521, 'min_child_weight': 1, 'subsample': 0.6626651653816322, 'colsample_bytree': 0.6943386448447411, 'gamma': 2.713490317738959, 'reg_lambda': 4.143687545759647, 'reg_alpha': 3.567533266935893}. Best is trial 3 with value: 0.8866404119669553.\n",
      "[I 2025-06-20 15:40:38,677] Trial 8 finished with value: 0.869324871811504 and parameters: {'max_depth': 5, 'learning_rate': 0.16738186411589204, 'min_child_weight': 2, 'subsample': 0.9010984903770198, 'colsample_bytree': 0.5372753218398854, 'gamma': 9.868869366005173, 'reg_lambda': 3.861223846483287, 'reg_alpha': 1.987156815341724}. Best is trial 3 with value: 0.8866404119669553.\n",
      "[I 2025-06-20 15:40:39,507] Trial 9 finished with value: 0.8730964063051205 and parameters: {'max_depth': 3, 'learning_rate': 0.24648381425190188, 'min_child_weight': 8, 'subsample': 0.8645035840204937, 'colsample_bytree': 0.8856351733429728, 'gamma': 0.7404465173409036, 'reg_lambda': 1.7923286427213632, 'reg_alpha': 1.1586905952512971}. Best is trial 3 with value: 0.8866404119669553.\n",
      "[I 2025-06-20 15:40:41,061] Trial 10 finished with value: 0.8619451997231634 and parameters: {'max_depth': 10, 'learning_rate': 0.011739183057186964, 'min_child_weight': 4, 'subsample': 0.5089809378074099, 'colsample_bytree': 0.7828065453407016, 'gamma': 4.26812895383314, 'reg_lambda': 4.7988537297270994, 'reg_alpha': 0.11852595611645333}. Best is trial 3 with value: 0.8866404119669553.\n",
      "[I 2025-06-20 15:40:41,933] Trial 11 finished with value: 0.8784857049346245 and parameters: {'max_depth': 8, 'learning_rate': 0.21779022520592756, 'min_child_weight': 3, 'subsample': 0.7230725746541047, 'colsample_bytree': 0.8991358530198219, 'gamma': 3.587862975096967, 'reg_lambda': 0.339101338813105, 'reg_alpha': 6.355171476922921}. Best is trial 3 with value: 0.8866404119669553.\n",
      "[I 2025-06-20 15:40:43,371] Trial 12 finished with value: 0.8832389115710673 and parameters: {'max_depth': 8, 'learning_rate': 0.2127407714413106, 'min_child_weight': 3, 'subsample': 0.5339884036663103, 'colsample_bytree': 0.8606412847038332, 'gamma': 0.07757683332151433, 'reg_lambda': 2.343526094439212, 'reg_alpha': 2.3968278799454557}. Best is trial 3 with value: 0.8866404119669553.\n",
      "[I 2025-06-20 15:40:44,902] Trial 13 finished with value: 0.8828816571255318 and parameters: {'max_depth': 9, 'learning_rate': 0.2039014789735783, 'min_child_weight': 3, 'subsample': 0.5091642237134321, 'colsample_bytree': 0.8255079015857973, 'gamma': 0.029518948879441897, 'reg_lambda': 2.6481854353072203, 'reg_alpha': 2.7999097527030488}. Best is trial 3 with value: 0.8866404119669553.\n",
      "[I 2025-06-20 15:40:45,714] Trial 14 finished with value: 0.8778693172727395 and parameters: {'max_depth': 6, 'learning_rate': 0.24784810226970305, 'min_child_weight': 5, 'subsample': 0.6119868629523426, 'colsample_bytree': 0.7325384604808126, 'gamma': 5.454273262562598, 'reg_lambda': 2.2892020334169407, 'reg_alpha': 0.04241698155417417}. Best is trial 3 with value: 0.8866404119669553.\n",
      "[I 2025-06-20 15:40:46,759] Trial 15 finished with value: 0.8787608715760576 and parameters: {'max_depth': 8, 'learning_rate': 0.12077810665335881, 'min_child_weight': 3, 'subsample': 0.763129444650121, 'colsample_bytree': 0.8512521142062647, 'gamma': 6.646179710147848, 'reg_lambda': 2.428958904760339, 'reg_alpha': 2.357288484281}. Best is trial 3 with value: 0.8866404119669553.\n",
      "[I 2025-06-20 15:40:47,652] Trial 16 finished with value: 0.875589440801126 and parameters: {'max_depth': 6, 'learning_rate': 0.24761207516117612, 'min_child_weight': 7, 'subsample': 0.5822176477381726, 'colsample_bytree': 0.9976140943110179, 'gamma': 2.953250849262419, 'reg_lambda': 3.3500146915972815, 'reg_alpha': 6.394684662708778}. Best is trial 3 with value: 0.8866404119669553.\n",
      "[I 2025-06-20 15:40:49,069] Trial 17 finished with value: 0.8837866905662237 and parameters: {'max_depth': 8, 'learning_rate': 0.1915393981996758, 'min_child_weight': 4, 'subsample': 0.6877150792213269, 'colsample_bytree': 0.7505409072564342, 'gamma': 0.272190263911968, 'reg_lambda': 2.077856566724746, 'reg_alpha': 0.9786484880675221}. Best is trial 3 with value: 0.8866404119669553.\n",
      "[I 2025-06-20 15:40:50,191] Trial 18 finished with value: 0.8810520425653747 and parameters: {'max_depth': 10, 'learning_rate': 0.13483110404204712, 'min_child_weight': 6, 'subsample': 0.7296108538304322, 'colsample_bytree': 0.7440502324021133, 'gamma': 5.067762568716672, 'reg_lambda': 4.988962574653092, 'reg_alpha': 1.28099810063133}. Best is trial 3 with value: 0.8866404119669553.\n",
      "[I 2025-06-20 15:40:51,214] Trial 19 finished with value: 0.8825027521806961 and parameters: {'max_depth': 9, 'learning_rate': 0.1868590120260472, 'min_child_weight': 4, 'subsample': 0.7947812319214439, 'colsample_bytree': 0.6816520539086857, 'gamma': 3.6893717685068497, 'reg_lambda': 1.800482624198839, 'reg_alpha': 0.9017405294742762}. Best is trial 3 with value: 0.8866404119669553.\n",
      "[I 2025-06-20 15:40:52,205] Trial 20 finished with value: 0.8693597167564462 and parameters: {'max_depth': 4, 'learning_rate': 0.10550742139340807, 'min_child_weight': 2, 'subsample': 0.6796673827128785, 'colsample_bytree': 0.7861983638172064, 'gamma': 1.792531857132871, 'reg_lambda': 4.199684887091185, 'reg_alpha': 5.425773205460364}. Best is trial 3 with value: 0.8866404119669553.\n",
      "[I 2025-06-20 15:40:53,636] Trial 21 finished with value: 0.8839153333023114 and parameters: {'max_depth': 8, 'learning_rate': 0.23242551256502933, 'min_child_weight': 4, 'subsample': 0.5765233062467041, 'colsample_bytree': 0.8593747658098843, 'gamma': 0.018114000526617713, 'reg_lambda': 2.2299506759640773, 'reg_alpha': 2.9695043083308565}. Best is trial 3 with value: 0.8866404119669553.\n",
      "[I 2025-06-20 15:40:54,961] Trial 22 finished with value: 0.8840961977432634 and parameters: {'max_depth': 7, 'learning_rate': 0.26321130427134304, 'min_child_weight': 4, 'subsample': 0.5781776341225059, 'colsample_bytree': 0.7235101188463094, 'gamma': 0.07091654807219372, 'reg_lambda': 2.922442043015471, 'reg_alpha': 3.393896799232015}. Best is trial 3 with value: 0.8866404119669553.\n",
      "[I 2025-06-20 15:40:56,033] Trial 23 finished with value: 0.8819252289453189 and parameters: {'max_depth': 7, 'learning_rate': 0.2699007538973352, 'min_child_weight': 2, 'subsample': 0.5687015336457729, 'colsample_bytree': 0.9312404495902854, 'gamma': 2.353665230803721, 'reg_lambda': 2.9517576240338945, 'reg_alpha': 3.4293824806308417}. Best is trial 3 with value: 0.8866404119669553.\n",
      "[I 2025-06-20 15:40:57,228] Trial 24 finished with value: 0.8818879630217357 and parameters: {'max_depth': 6, 'learning_rate': 0.2969645836967144, 'min_child_weight': 6, 'subsample': 0.628071386202824, 'colsample_bytree': 0.71251839481639, 'gamma': 0.8623744810029635, 'reg_lambda': 3.39791157975321, 'reg_alpha': 4.416983913883419}. Best is trial 3 with value: 0.8866404119669553.\n",
      "[I 2025-06-20 15:40:58,629] Trial 25 finished with value: 0.8835160564277016 and parameters: {'max_depth': 9, 'learning_rate': 0.26130955558401564, 'min_child_weight': 5, 'subsample': 0.5714154273039411, 'colsample_bytree': 0.8403908383188569, 'gamma': 0.9582923156883909, 'reg_lambda': 2.883310807178129, 'reg_alpha': 3.069009624725319}. Best is trial 3 with value: 0.8866404119669553.\n",
      "[I 2025-06-20 15:40:59,651] Trial 26 finished with value: 0.8812807160020645 and parameters: {'max_depth': 7, 'learning_rate': 0.23411945258990863, 'min_child_weight': 4, 'subsample': 0.83230655973243, 'colsample_bytree': 0.7825571871553142, 'gamma': 1.6448804475298395, 'reg_lambda': 1.09455347174936, 'reg_alpha': 4.08702566986741}. Best is trial 3 with value: 0.8866404119669553.\n",
      "[I 2025-06-20 15:41:00,887] Trial 27 finished with value: 0.8823444586220003 and parameters: {'max_depth': 6, 'learning_rate': 0.23201841633665166, 'min_child_weight': 2, 'subsample': 0.7032571098711069, 'colsample_bytree': 0.620071494794409, 'gamma': 0.13897558179016656, 'reg_lambda': 3.5588596179498615, 'reg_alpha': 6.386310779518569}. Best is trial 3 with value: 0.8866404119669553.\n",
      "[I 2025-06-20 15:41:01,621] Trial 28 finished with value: 0.8707138612471871 and parameters: {'max_depth': 7, 'learning_rate': 0.26136600543972766, 'min_child_weight': 6, 'subsample': 0.5908377105666208, 'colsample_bytree': 0.9427112633606908, 'gamma': 7.791978443001929, 'reg_lambda': 2.7106435019324815, 'reg_alpha': 2.8246200722786607}. Best is trial 3 with value: 0.8866404119669553.\n",
      "[I 2025-06-20 15:41:02,398] Trial 29 finished with value: 0.8733360292277125 and parameters: {'max_depth': 4, 'learning_rate': 0.2795642053105208, 'min_child_weight': 7, 'subsample': 0.7727299092524242, 'colsample_bytree': 0.5597049780411142, 'gamma': 3.119941451128235, 'reg_lambda': 3.156487850061604, 'reg_alpha': 5.430065347753512}. Best is trial 3 with value: 0.8866404119669553.\n",
      "[I 2025-06-20 15:41:03,504] Trial 30 finished with value: 0.8785919553141568 and parameters: {'max_depth': 5, 'learning_rate': 0.18675310636017356, 'min_child_weight': 4, 'subsample': 0.5446790894750491, 'colsample_bytree': 0.8757253844508192, 'gamma': 1.2577423808736237, 'reg_lambda': 3.7226665421612553, 'reg_alpha': 7.115488337209175}. Best is trial 3 with value: 0.8866404119669553.\n",
      "[I 2025-06-20 15:41:04,912] Trial 31 finished with value: 0.8852162482218402 and parameters: {'max_depth': 8, 'learning_rate': 0.19941095991657698, 'min_child_weight': 4, 'subsample': 0.6917917157326434, 'colsample_bytree': 0.7299981430053939, 'gamma': 0.5291168760280556, 'reg_lambda': 2.115215999992444, 'reg_alpha': 0.8244976956402117}. Best is trial 3 with value: 0.8866404119669553.\n",
      "[I 2025-06-20 15:41:06,112] Trial 32 finished with value: 0.8819202441674683 and parameters: {'max_depth': 8, 'learning_rate': 0.22422195178638077, 'min_child_weight': 5, 'subsample': 0.6148096230630924, 'colsample_bytree': 0.7557112153882262, 'gamma': 1.9692850274093732, 'reg_lambda': 2.080376315842083, 'reg_alpha': 1.602332758428101}. Best is trial 3 with value: 0.8866404119669553.\n",
      "[I 2025-06-20 15:41:07,639] Trial 33 finished with value: 0.8823277960381202 and parameters: {'max_depth': 9, 'learning_rate': 0.19603970531595463, 'min_child_weight': 3, 'subsample': 0.6522089553954239, 'colsample_bytree': 0.8052607043520731, 'gamma': 0.634619122917605, 'reg_lambda': 1.1803664276363428, 'reg_alpha': 0.6881511667973488}. Best is trial 3 with value: 0.8866404119669553.\n",
      "[I 2025-06-20 15:41:08,856] Trial 34 finished with value: 0.8836253140138423 and parameters: {'max_depth': 7, 'learning_rate': 0.1683074858506607, 'min_child_weight': 5, 'subsample': 0.731070111284105, 'colsample_bytree': 0.6647349103636333, 'gamma': 1.581003735291651, 'reg_lambda': 0.6115771361104549, 'reg_alpha': 1.9494326948840663}. Best is trial 3 with value: 0.8866404119669553.\n",
      "[I 2025-06-20 15:41:10,186] Trial 35 finished with value: 0.8826646507126281 and parameters: {'max_depth': 8, 'learning_rate': 0.2925428720882848, 'min_child_weight': 1, 'subsample': 0.8179402124816554, 'colsample_bytree': 0.6031763464480447, 'gamma': 0.588770361790683, 'reg_lambda': 2.019819045524016, 'reg_alpha': 2.2671370802138373}. Best is trial 3 with value: 0.8866404119669553.\n",
      "[I 2025-06-20 15:41:11,235] Trial 36 finished with value: 0.8803925829268999 and parameters: {'max_depth': 7, 'learning_rate': 0.24372687622783268, 'min_child_weight': 4, 'subsample': 0.5437025083448048, 'colsample_bytree': 0.821245238777745, 'gamma': 2.2906293100568016, 'reg_lambda': 1.4933450937495696, 'reg_alpha': 4.276233821089602}. Best is trial 3 with value: 0.8866404119669553.\n",
      "[I 2025-06-20 15:41:12,441] Trial 37 finished with value: 0.8825974599722504 and parameters: {'max_depth': 6, 'learning_rate': 0.27069042268437543, 'min_child_weight': 2, 'subsample': 0.6402668877780799, 'colsample_bytree': 0.7063403944226982, 'gamma': 1.2439777258947355, 'reg_lambda': 2.589130499517932, 'reg_alpha': 1.546528529055131}. Best is trial 3 with value: 0.8866404119669553.\n",
      "[I 2025-06-20 15:41:13,904] Trial 38 finished with value: 0.883748453135833 and parameters: {'max_depth': 9, 'learning_rate': 0.216570743500337, 'min_child_weight': 3, 'subsample': 0.6761872628744386, 'colsample_bytree': 0.6582044785745732, 'gamma': 0.545144803959907, 'reg_lambda': 3.0925957316745016, 'reg_alpha': 3.1638771054077868}. Best is trial 3 with value: 0.8866404119669553.\n",
      "[I 2025-06-20 15:41:14,878] Trial 39 finished with value: 0.8813555128120049 and parameters: {'max_depth': 5, 'learning_rate': 0.23691176173467135, 'min_child_weight': 1, 'subsample': 0.975419047477103, 'colsample_bytree': 0.7178586448322042, 'gamma': 1.2324304562375268, 'reg_lambda': 1.7714399921694213, 'reg_alpha': 0.5722105355787761}. Best is trial 3 with value: 0.8866404119669553.\n",
      "[I 2025-06-20 15:41:15,980] Trial 40 finished with value: 0.8797194189674583 and parameters: {'max_depth': 7, 'learning_rate': 0.17566865333601894, 'min_child_weight': 9, 'subsample': 0.7839778391003962, 'colsample_bytree': 0.7572627724764688, 'gamma': 2.5664940289454514, 'reg_lambda': 3.9867041336640066, 'reg_alpha': 2.698949872129038}. Best is trial 3 with value: 0.8866404119669553.\n",
      "[I 2025-06-20 15:41:17,404] Trial 41 finished with value: 0.8836387805642747 and parameters: {'max_depth': 8, 'learning_rate': 0.15273290518582291, 'min_child_weight': 4, 'subsample': 0.700678323815026, 'colsample_bytree': 0.7614884413997596, 'gamma': 0.08915975076505922, 'reg_lambda': 2.0906299178141006, 'reg_alpha': 0.4242576746114959}. Best is trial 3 with value: 0.8866404119669553.\n",
      "[I 2025-06-20 15:41:18,813] Trial 42 finished with value: 0.8843223228127066 and parameters: {'max_depth': 8, 'learning_rate': 0.2066697412589052, 'min_child_weight': 5, 'subsample': 0.7001767368496037, 'colsample_bytree': 0.8000301847875508, 'gamma': 0.5473984110450727, 'reg_lambda': 2.771578442626454, 'reg_alpha': 1.2186247529986312}. Best is trial 3 with value: 0.8866404119669553.\n",
      "[I 2025-06-20 15:41:20,152] Trial 43 finished with value: 0.8837436542094874 and parameters: {'max_depth': 8, 'learning_rate': 0.2073710647250894, 'min_child_weight': 5, 'subsample': 0.7480807072463372, 'colsample_bytree': 0.7870743483447937, 'gamma': 0.8664463875711906, 'reg_lambda': 2.8037521688486824, 'reg_alpha': 3.7754494030813066}. Best is trial 3 with value: 0.8866404119669553.\n",
      "[I 2025-06-20 15:41:21,157] Trial 44 finished with value: 0.8816689852183377 and parameters: {'max_depth': 7, 'learning_rate': 0.25690846318539334, 'min_child_weight': 7, 'subsample': 0.843471842514546, 'colsample_bytree': 0.5007250058963767, 'gamma': 1.9837659334945585, 'reg_lambda': 2.4617329834729498, 'reg_alpha': 1.5694035798987844}. Best is trial 3 with value: 0.8866404119669553.\n",
      "[I 2025-06-20 15:41:22,516] Trial 45 finished with value: 0.8820275126031174 and parameters: {'max_depth': 9, 'learning_rate': 0.22648310468816285, 'min_child_weight': 6, 'subsample': 0.6130991690221124, 'colsample_bytree': 0.8076745865202477, 'gamma': 0.4833219055218909, 'reg_lambda': 3.293614329472949, 'reg_alpha': 9.716452764893937}. Best is trial 3 with value: 0.8866404119669553.\n",
      "[I 2025-06-20 15:41:23,827] Trial 46 finished with value: 0.881965570889274 and parameters: {'max_depth': 8, 'learning_rate': 0.20332156830217712, 'min_child_weight': 5, 'subsample': 0.6610295576539478, 'colsample_bytree': 0.9079172765073267, 'gamma': 1.217143798946704, 'reg_lambda': 2.3526319324683405, 'reg_alpha': 4.843110643839603}. Best is trial 3 with value: 0.8866404119669553.\n",
      "[I 2025-06-20 15:41:25,086] Trial 47 finished with value: 0.8849883669611647 and parameters: {'max_depth': 6, 'learning_rate': 0.27525050725478356, 'min_child_weight': 3, 'subsample': 0.7519556747409999, 'colsample_bytree': 0.8347754349030236, 'gamma': 0.07223327892511267, 'reg_lambda': 4.399345624700153, 'reg_alpha': 2.223915502580681}. Best is trial 3 with value: 0.8866404119669553.\n",
      "[I 2025-06-20 15:41:25,907] Trial 48 finished with value: 0.8780104582059705 and parameters: {'max_depth': 6, 'learning_rate': 0.28093462499912786, 'min_child_weight': 3, 'subsample': 0.7521003959647659, 'colsample_bytree': 0.8318169412214278, 'gamma': 4.188608369734572, 'reg_lambda': 4.467627391198846, 'reg_alpha': 2.1047467093728254}. Best is trial 3 with value: 0.8866404119669553.\n",
      "[I 2025-06-20 15:41:26,701] Trial 49 finished with value: 0.869480311081553 and parameters: {'max_depth': 5, 'learning_rate': 0.2532203036696516, 'min_child_weight': 3, 'subsample': 0.7142227257124343, 'colsample_bytree': 0.6877688650340048, 'gamma': 6.101637407289633, 'reg_lambda': 3.764741886984234, 'reg_alpha': 1.2787606274914787}. Best is trial 3 with value: 0.8866404119669553.\n"
     ]
    }
   ],
   "source": [
    "best_xgb_params_global = hypertune_xgb(X_global_train, y_global_train, oversample=True)"
   ]
  },
  {
   "cell_type": "code",
   "execution_count": 30,
   "id": "8bcea3ff",
   "metadata": {},
   "outputs": [],
   "source": [
    "# Fit XGBoost model\n",
    "xgb_model_global = XGBClassifier(**best_xgb_params_global)"
   ]
  },
  {
   "cell_type": "markdown",
   "id": "e22d9856",
   "metadata": {},
   "source": [
    "## Random Forest"
   ]
  },
  {
   "cell_type": "code",
   "execution_count": null,
   "id": "b9d501dd",
   "metadata": {},
   "outputs": [],
   "source": [
    "def hypertune_rf(X_train: pd.DataFrame, y_train: pd.Series,\n",
    "                 oversample: bool=False) -> dict:\n",
    "  '''\n",
    "  Get the best parameters for random forest model.\n",
    "  \n",
    "  Parameters:\n",
    "    x_train (pandas.DataFrame): Independent variables of training dataset\n",
    "    y_train (pandas.Series): Dependent variable of test dataset\n",
    "    oversample (bool): To apply SMOTE or not.\n",
    "\n",
    "  Returns:\n",
    "    dict: Dictionary containing the best value for each hyperparameter.\n",
    "  '''\n",
    "  def objective(trial):\n",
    "    # Define hyperparameter search space\n",
    "    params = {\n",
    "      'n_estimators': trial.suggest_int('n_estimators', 100, 300),\n",
    "      'max_depth': trial.suggest_int('max_depth', 5, 20),\n",
    "      'min_samples_split': trial.suggest_int('min_samples_split', 2, 10),\n",
    "      'min_samples_leaf': trial.suggest_int('min_samples_leaf', 1, 10),\n",
    "      'max_features': trial.suggest_categorical('max_features', ['sqrt', 'log2']),\n",
    "      'bootstrap': trial.suggest_categorical('bootstrap', [True, False]),\n",
    "      'random_state': 42\n",
    "}\n",
    "\n",
    "    # Train Random Forest model\n",
    "    model = RandomForestClassifier(**params)\n",
    "\n",
    "    # Get model pipeline\n",
    "    if oversample:\n",
    "      model_pipeline = Pipeline(\n",
    "              [\n",
    "                  ('smote', SMOTE(sampling_strategy='auto', random_state=42)),\n",
    "                  ('clf', model)\n",
    "              ]\n",
    "      )\n",
    "    else:\n",
    "      model_pipeline = model\n",
    "\n",
    "    # Get cross validation score\n",
    "    score = cross_val_score(model_pipeline, X_train, y_train, cv=5, scoring='f1').mean()\n",
    "    return score\n",
    "\n",
    "  sampler = optuna.samplers.TPESampler(seed=42)\n",
    "  study = optuna.create_study(sampler=sampler, direction=\"maximize\")\n",
    "  study.optimize(objective, n_trials= 20)  # type: ignore\n",
    "\n",
    "  return study.best_params"
   ]
  },
  {
   "cell_type": "markdown",
   "id": "104e13bb",
   "metadata": {},
   "source": [
    "### Hypertuning for 'Is Domestic Ultimate'"
   ]
  },
  {
   "cell_type": "code",
   "execution_count": 32,
   "id": "ab885bea",
   "metadata": {},
   "outputs": [
    {
     "name": "stderr",
     "output_type": "stream",
     "text": [
      "[I 2025-06-20 15:41:26,715] A new study created in memory with name: no-name-853cb3ed-1556-45cf-a087-854749267661\n",
      "[I 2025-06-20 15:41:41,355] Trial 0 finished with value: 0.9080490323932459 and parameters: {'n_estimators': 175, 'max_depth': 20, 'min_samples_split': 8, 'min_samples_leaf': 6, 'max_features': 'sqrt', 'bootstrap': False}. Best is trial 0 with value: 0.9080490323932459.\n",
      "[I 2025-06-20 15:41:58,471] Trial 1 finished with value: 0.9046361121354174 and parameters: {'n_estimators': 220, 'max_depth': 16, 'min_samples_split': 2, 'min_samples_leaf': 10, 'max_features': 'sqrt', 'bootstrap': False}. Best is trial 0 with value: 0.9080490323932459.\n",
      "[I 2025-06-20 15:42:11,172] Trial 2 finished with value: 0.9075516255527039 and parameters: {'n_estimators': 161, 'max_depth': 13, 'min_samples_split': 5, 'min_samples_leaf': 3, 'max_features': 'sqrt', 'bootstrap': False}. Best is trial 0 with value: 0.9080490323932459.\n",
      "[I 2025-06-20 15:42:21,915] Trial 3 finished with value: 0.9045685091273364 and parameters: {'n_estimators': 191, 'max_depth': 17, 'min_samples_split': 3, 'min_samples_leaf': 6, 'max_features': 'sqrt', 'bootstrap': True}. Best is trial 0 with value: 0.9080490323932459.\n",
      "[I 2025-06-20 15:42:28,060] Trial 4 finished with value: 0.9014236142325525 and parameters: {'n_estimators': 113, 'max_depth': 20, 'min_samples_split': 10, 'min_samples_leaf': 9, 'max_features': 'sqrt', 'bootstrap': True}. Best is trial 0 with value: 0.9080490323932459.\n",
      "[I 2025-06-20 15:42:37,045] Trial 5 finished with value: 0.9014807210474768 and parameters: {'n_estimators': 124, 'max_depth': 12, 'min_samples_split': 2, 'min_samples_leaf': 10, 'max_features': 'log2', 'bootstrap': False}. Best is trial 0 with value: 0.9080490323932459.\n",
      "[I 2025-06-20 15:42:47,319] Trial 6 finished with value: 0.8796391117346086 and parameters: {'n_estimators': 209, 'max_depth': 7, 'min_samples_split': 10, 'min_samples_leaf': 8, 'max_features': 'sqrt', 'bootstrap': False}. Best is trial 0 with value: 0.9080490323932459.\n",
      "[I 2025-06-20 15:42:52,086] Trial 7 finished with value: 0.8879783122704673 and parameters: {'n_estimators': 117, 'max_depth': 8, 'min_samples_split': 2, 'min_samples_leaf': 4, 'max_features': 'sqrt', 'bootstrap': True}. Best is trial 0 with value: 0.9080490323932459.\n",
      "[I 2025-06-20 15:43:00,136] Trial 8 finished with value: 0.8998871205611092 and parameters: {'n_estimators': 156, 'max_depth': 13, 'min_samples_split': 3, 'min_samples_leaf': 9, 'max_features': 'log2', 'bootstrap': True}. Best is trial 0 with value: 0.9080490323932459.\n",
      "[I 2025-06-20 15:43:05,711] Trial 9 finished with value: 0.9008222616271511 and parameters: {'n_estimators': 101, 'max_depth': 18, 'min_samples_split': 8, 'min_samples_leaf': 8, 'max_features': 'sqrt', 'bootstrap': True}. Best is trial 0 with value: 0.9080490323932459.\n",
      "[I 2025-06-20 15:43:16,076] Trial 10 finished with value: 0.8466584764156206 and parameters: {'n_estimators': 280, 'max_depth': 5, 'min_samples_split': 7, 'min_samples_leaf': 1, 'max_features': 'log2', 'bootstrap': False}. Best is trial 0 with value: 0.9080490323932459.\n",
      "[I 2025-06-20 15:43:29,236] Trial 11 finished with value: 0.9059723049571998 and parameters: {'n_estimators': 174, 'max_depth': 12, 'min_samples_split': 5, 'min_samples_leaf': 3, 'max_features': 'sqrt', 'bootstrap': False}. Best is trial 0 with value: 0.9080490323932459.\n",
      "[I 2025-06-20 15:43:47,851] Trial 12 finished with value: 0.9070896740567458 and parameters: {'n_estimators': 234, 'max_depth': 14, 'min_samples_split': 5, 'min_samples_leaf': 5, 'max_features': 'sqrt', 'bootstrap': False}. Best is trial 0 with value: 0.9080490323932459.\n",
      "[I 2025-06-20 15:44:02,378] Trial 13 finished with value: 0.9131731499045095 and parameters: {'n_estimators': 153, 'max_depth': 20, 'min_samples_split': 8, 'min_samples_leaf': 1, 'max_features': 'sqrt', 'bootstrap': False}. Best is trial 13 with value: 0.9131731499045095.\n",
      "[I 2025-06-20 15:44:26,103] Trial 14 finished with value: 0.9134500519478234 and parameters: {'n_estimators': 251, 'max_depth': 20, 'min_samples_split': 8, 'min_samples_leaf': 1, 'max_features': 'log2', 'bootstrap': False}. Best is trial 14 with value: 0.9134500519478234.\n",
      "[I 2025-06-20 15:44:49,900] Trial 15 finished with value: 0.9133174418151994 and parameters: {'n_estimators': 258, 'max_depth': 18, 'min_samples_split': 8, 'min_samples_leaf': 1, 'max_features': 'log2', 'bootstrap': False}. Best is trial 14 with value: 0.9134500519478234.\n",
      "[I 2025-06-20 15:45:13,353] Trial 16 finished with value: 0.9106715834031899 and parameters: {'n_estimators': 271, 'max_depth': 16, 'min_samples_split': 9, 'min_samples_leaf': 2, 'max_features': 'log2', 'bootstrap': False}. Best is trial 14 with value: 0.9134500519478234.\n",
      "[I 2025-06-20 15:45:35,906] Trial 17 finished with value: 0.9122518368653143 and parameters: {'n_estimators': 250, 'max_depth': 18, 'min_samples_split': 6, 'min_samples_leaf': 2, 'max_features': 'log2', 'bootstrap': False}. Best is trial 14 with value: 0.9134500519478234.\n",
      "[I 2025-06-20 15:45:52,809] Trial 18 finished with value: 0.8994732578874667 and parameters: {'n_estimators': 252, 'max_depth': 10, 'min_samples_split': 7, 'min_samples_leaf': 1, 'max_features': 'log2', 'bootstrap': False}. Best is trial 14 with value: 0.9134500519478234.\n",
      "[I 2025-06-20 15:46:17,132] Trial 19 finished with value: 0.9087757752181757 and parameters: {'n_estimators': 295, 'max_depth': 15, 'min_samples_split': 9, 'min_samples_leaf': 4, 'max_features': 'log2', 'bootstrap': False}. Best is trial 14 with value: 0.9134500519478234.\n"
     ]
    }
   ],
   "source": [
    "best_rf_params_dom = hypertune_rf(X_dom_train, y_dom_train)"
   ]
  },
  {
   "cell_type": "code",
   "execution_count": 33,
   "id": "e4253cca",
   "metadata": {},
   "outputs": [],
   "source": [
    "# Fit Random Forest model\n",
    "rf_model_dom = RandomForestClassifier(**best_rf_params_dom)"
   ]
  },
  {
   "cell_type": "markdown",
   "id": "28d65ce5",
   "metadata": {},
   "source": [
    "### Hypertuning for 'Is Global Ultimate'"
   ]
  },
  {
   "cell_type": "code",
   "execution_count": 34,
   "id": "e51c77e9",
   "metadata": {},
   "outputs": [
    {
     "name": "stderr",
     "output_type": "stream",
     "text": [
      "[I 2025-06-20 15:46:17,140] A new study created in memory with name: no-name-4ea35a02-ceb1-4bd4-bdf0-cd24639862ca\n",
      "[I 2025-06-20 15:46:40,941] Trial 0 finished with value: 0.8807357106846109 and parameters: {'n_estimators': 175, 'max_depth': 20, 'min_samples_split': 8, 'min_samples_leaf': 6, 'max_features': 'sqrt', 'bootstrap': False}. Best is trial 0 with value: 0.8807357106846109.\n",
      "[I 2025-06-20 15:47:08,306] Trial 1 finished with value: 0.8766992456885976 and parameters: {'n_estimators': 220, 'max_depth': 16, 'min_samples_split': 2, 'min_samples_leaf': 10, 'max_features': 'sqrt', 'bootstrap': False}. Best is trial 0 with value: 0.8807357106846109.\n",
      "[I 2025-06-20 15:47:27,467] Trial 2 finished with value: 0.8778455777376237 and parameters: {'n_estimators': 161, 'max_depth': 13, 'min_samples_split': 5, 'min_samples_leaf': 3, 'max_features': 'sqrt', 'bootstrap': False}. Best is trial 0 with value: 0.8807357106846109.\n",
      "[I 2025-06-20 15:47:44,171] Trial 3 finished with value: 0.8766831853892298 and parameters: {'n_estimators': 191, 'max_depth': 17, 'min_samples_split': 3, 'min_samples_leaf': 6, 'max_features': 'sqrt', 'bootstrap': True}. Best is trial 0 with value: 0.8807357106846109.\n",
      "[I 2025-06-20 15:47:54,167] Trial 4 finished with value: 0.8750528033725768 and parameters: {'n_estimators': 113, 'max_depth': 20, 'min_samples_split': 10, 'min_samples_leaf': 9, 'max_features': 'sqrt', 'bootstrap': True}. Best is trial 0 with value: 0.8807357106846109.\n",
      "[I 2025-06-20 15:48:08,473] Trial 5 finished with value: 0.8745550933061189 and parameters: {'n_estimators': 124, 'max_depth': 12, 'min_samples_split': 2, 'min_samples_leaf': 10, 'max_features': 'log2', 'bootstrap': False}. Best is trial 0 with value: 0.8807357106846109.\n",
      "[I 2025-06-20 15:48:24,993] Trial 6 finished with value: 0.8447085402149928 and parameters: {'n_estimators': 209, 'max_depth': 7, 'min_samples_split': 10, 'min_samples_leaf': 8, 'max_features': 'sqrt', 'bootstrap': False}. Best is trial 0 with value: 0.8807357106846109.\n",
      "[I 2025-06-20 15:48:32,236] Trial 7 finished with value: 0.8560302081375637 and parameters: {'n_estimators': 117, 'max_depth': 8, 'min_samples_split': 2, 'min_samples_leaf': 4, 'max_features': 'sqrt', 'bootstrap': True}. Best is trial 0 with value: 0.8807357106846109.\n",
      "[I 2025-06-20 15:48:44,493] Trial 8 finished with value: 0.8746651078033423 and parameters: {'n_estimators': 156, 'max_depth': 13, 'min_samples_split': 3, 'min_samples_leaf': 9, 'max_features': 'log2', 'bootstrap': True}. Best is trial 0 with value: 0.8807357106846109.\n",
      "[I 2025-06-20 15:48:53,369] Trial 9 finished with value: 0.8748893357840523 and parameters: {'n_estimators': 101, 'max_depth': 18, 'min_samples_split': 8, 'min_samples_leaf': 8, 'max_features': 'sqrt', 'bootstrap': True}. Best is trial 0 with value: 0.8807357106846109.\n",
      "[I 2025-06-20 15:49:10,308] Trial 10 finished with value: 0.8273841827582775 and parameters: {'n_estimators': 280, 'max_depth': 5, 'min_samples_split': 7, 'min_samples_leaf': 1, 'max_features': 'log2', 'bootstrap': False}. Best is trial 0 with value: 0.8807357106846109.\n",
      "[I 2025-06-20 15:49:30,280] Trial 11 finished with value: 0.8773279897536195 and parameters: {'n_estimators': 174, 'max_depth': 12, 'min_samples_split': 5, 'min_samples_leaf': 3, 'max_features': 'sqrt', 'bootstrap': False}. Best is trial 0 with value: 0.8807357106846109.\n",
      "[I 2025-06-20 15:49:58,849] Trial 12 finished with value: 0.8784347239573165 and parameters: {'n_estimators': 234, 'max_depth': 14, 'min_samples_split': 5, 'min_samples_leaf': 5, 'max_features': 'sqrt', 'bootstrap': False}. Best is trial 0 with value: 0.8807357106846109.\n",
      "[I 2025-06-20 15:50:32,777] Trial 13 finished with value: 0.8805879284056426 and parameters: {'n_estimators': 248, 'max_depth': 20, 'min_samples_split': 8, 'min_samples_leaf': 6, 'max_features': 'sqrt', 'bootstrap': False}. Best is trial 0 with value: 0.8807357106846109.\n",
      "[I 2025-06-20 15:51:08,033] Trial 14 finished with value: 0.8805389083542547 and parameters: {'n_estimators': 259, 'max_depth': 20, 'min_samples_split': 8, 'min_samples_leaf': 6, 'max_features': 'log2', 'bootstrap': False}. Best is trial 0 with value: 0.8807357106846109.\n",
      "[I 2025-06-20 15:51:48,200] Trial 15 finished with value: 0.8793261859961319 and parameters: {'n_estimators': 300, 'max_depth': 18, 'min_samples_split': 8, 'min_samples_leaf': 7, 'max_features': 'sqrt', 'bootstrap': False}. Best is trial 0 with value: 0.8807357106846109.\n",
      "[I 2025-06-20 15:52:22,052] Trial 16 finished with value: 0.8811272687085726 and parameters: {'n_estimators': 246, 'max_depth': 20, 'min_samples_split': 9, 'min_samples_leaf': 5, 'max_features': 'sqrt', 'bootstrap': False}. Best is trial 16 with value: 0.8811272687085726.\n",
      "[I 2025-06-20 15:52:46,338] Trial 17 finished with value: 0.8793690766536322 and parameters: {'n_estimators': 192, 'max_depth': 15, 'min_samples_split': 9, 'min_samples_leaf': 4, 'max_features': 'sqrt', 'bootstrap': False}. Best is trial 16 with value: 0.8811272687085726.\n",
      "[I 2025-06-20 15:53:01,604] Trial 18 finished with value: 0.8702753440890237 and parameters: {'n_estimators': 149, 'max_depth': 10, 'min_samples_split': 6, 'min_samples_leaf': 2, 'max_features': 'log2', 'bootstrap': False}. Best is trial 16 with value: 0.8811272687085726.\n",
      "[I 2025-06-20 15:53:37,109] Trial 19 finished with value: 0.8795226965890606 and parameters: {'n_estimators': 264, 'max_depth': 18, 'min_samples_split': 9, 'min_samples_leaf': 5, 'max_features': 'sqrt', 'bootstrap': False}. Best is trial 16 with value: 0.8811272687085726.\n"
     ]
    }
   ],
   "source": [
    "best_rf_params_global = hypertune_rf(X_global_train, y_global_train, oversample=True)"
   ]
  },
  {
   "cell_type": "code",
   "execution_count": 35,
   "id": "c1e90477",
   "metadata": {},
   "outputs": [],
   "source": [
    "# Fit Random Forest model\n",
    "rf_model_global = RandomForestClassifier(**best_rf_params_global)"
   ]
  },
  {
   "cell_type": "markdown",
   "id": "88fad9da",
   "metadata": {},
   "source": [
    "## LightGBM Model"
   ]
  },
  {
   "cell_type": "code",
   "execution_count": null,
   "id": "a5671bef",
   "metadata": {},
   "outputs": [],
   "source": [
    "def hypertune_lgb(X_train: pd.DataFrame, y_train: pd.Series,\n",
    "                  oversample: bool=False) -> dict:\n",
    "  '''\n",
    "  Get the best parameters for lightgbm model.\n",
    "\n",
    "  Parameters:\n",
    "    x_train (pandas.DataFrame): Independent variables of training dataset\n",
    "    y_train (pandas.Series): Dependent variable of test dataset\n",
    "    oversample (bool): To apply SMOTE or not.\n",
    "\n",
    "  Returns:\n",
    "    dict: Dictionary containing the best value for each hyperparameter.\n",
    "  '''\n",
    "  def objective(trial):\n",
    "    # Define hyperparameter search space\n",
    "    params = {\n",
    "      'objective': \"binary\",\n",
    "      'metric': \"binary_logloss\",\n",
    "      'boosting': \"gbdt\",\n",
    "      'verbosity': -1,\n",
    "      'n_estimators': trial.suggest_int('n_estimators', 100, 300),\n",
    "      'max_depth': trial.suggest_int('max_depth', 3, 15),\n",
    "      'num_leaves': trial.suggest_int('num_leaves', 20, 150),\n",
    "      'learning_rate': trial.suggest_float('learning_rate', 0.01, 0.3),\n",
    "      'bagging_fraction': trial.suggest_float('bagging_fraction', 0.5, 1.0),\n",
    "      'bagging_freq': trial.suggest_int('bagging_freq', 1, 10),\n",
    "      'min_child_samples': trial.suggest_int('min_child_samples', 5, 100),\n",
    "      'lambda_l1': trial.suggest_float('lambda_l1', 0, 5),\n",
    "      'lambda_l2': trial.suggest_float('lambda_l2', 0, 5),\n",
    "      'random_state': 42\n",
    "  }\n",
    "\n",
    "    # Train LightGBM model\n",
    "    model = LGBMClassifier(**params)\n",
    "\n",
    "    # Get model pipeline\n",
    "    if oversample:\n",
    "      model_pipeline = Pipeline(\n",
    "              [\n",
    "                  ('smote', SMOTE(sampling_strategy='auto', random_state=42)),\n",
    "                  ('clf', model)\n",
    "              ]\n",
    "      )\n",
    "    else:\n",
    "      model_pipeline = model\n",
    "\n",
    "    # Get cross validation score\n",
    "    score = cross_val_score(model_pipeline, X_train, y_train, cv=5, scoring='f1').mean()  # type: ignore\n",
    "    return score\n",
    "\n",
    "  sampler = optuna.samplers.TPESampler(seed=42)\n",
    "  study = optuna.create_study(sampler=sampler, direction=\"maximize\")\n",
    "  study.optimize(objective, n_trials= 50)  # type: ignore\n",
    "\n",
    "  return study.best_params"
   ]
  },
  {
   "cell_type": "markdown",
   "id": "ebb40d6b",
   "metadata": {},
   "source": [
    "### Hypertuning for 'Is Domestic Ultimate'"
   ]
  },
  {
   "cell_type": "code",
   "execution_count": 37,
   "id": "b1025bc5",
   "metadata": {},
   "outputs": [
    {
     "name": "stderr",
     "output_type": "stream",
     "text": [
      "[I 2025-06-20 15:53:37,120] A new study created in memory with name: no-name-0bdf33ab-942e-48b1-8555-3363b6ef4ce6\n",
      "[I 2025-06-20 15:53:45,078] Trial 0 finished with value: 0.9136948028926014 and parameters: {'n_estimators': 175, 'max_depth': 15, 'num_leaves': 115, 'learning_rate': 0.1836109604171406, 'bagging_fraction': 0.5780093202212182, 'bagging_freq': 2, 'min_child_samples': 10, 'lambda_l1': 4.330880728874676, 'lambda_l2': 3.005575058716044}. Best is trial 0 with value: 0.9136948028926014.\n",
      "[I 2025-06-20 15:53:46,151] Trial 1 finished with value: 0.9116948953241459 and parameters: {'n_estimators': 242, 'max_depth': 3, 'num_leaves': 147, 'learning_rate': 0.2514083658321223, 'bagging_fraction': 0.6061695553391381, 'bagging_freq': 2, 'min_child_samples': 22, 'lambda_l1': 1.5212112147976886, 'lambda_l2': 2.6237821581611893}. Best is trial 0 with value: 0.9136948028926014.\n",
      "[I 2025-06-20 15:53:48,904] Trial 2 finished with value: 0.9134455055435184 and parameters: {'n_estimators': 186, 'max_depth': 6, 'num_leaves': 100, 'learning_rate': 0.05045321958909213, 'bagging_fraction': 0.6460723242676091, 'bagging_freq': 4, 'min_child_samples': 48, 'lambda_l1': 3.925879806965068, 'lambda_l2': 0.9983689107917987}. Best is trial 0 with value: 0.9136948028926014.\n",
      "[I 2025-06-20 15:53:51,614] Trial 3 finished with value: 0.9133195905386795 and parameters: {'n_estimators': 203, 'max_depth': 10, 'num_leaves': 26, 'learning_rate': 0.1861880070514171, 'bagging_fraction': 0.5852620618436457, 'bagging_freq': 1, 'min_child_samples': 96, 'lambda_l1': 4.828160165372797, 'lambda_l2': 4.041986740582305}. Best is trial 0 with value: 0.9136948028926014.\n",
      "[I 2025-06-20 15:53:52,712] Trial 4 finished with value: 0.9104370185503556 and parameters: {'n_estimators': 161, 'max_depth': 4, 'num_leaves': 109, 'learning_rate': 0.13764422318448438, 'bagging_fraction': 0.5610191174223894, 'bagging_freq': 5, 'min_child_samples': 8, 'lambda_l1': 4.546602010393911, 'lambda_l2': 1.2938999080000846}. Best is trial 0 with value: 0.9136948028926014.\n",
      "[I 2025-06-20 15:53:56,551] Trial 5 finished with value: 0.9143143096555573 and parameters: {'n_estimators': 233, 'max_depth': 7, 'num_leaves': 88, 'learning_rate': 0.1685459810095511, 'bagging_fraction': 0.5924272277627636, 'bagging_freq': 10, 'min_child_samples': 79, 'lambda_l1': 4.697494707820946, 'lambda_l2': 4.474136752138244}. Best is trial 5 with value: 0.9143143096555573.\n",
      "[I 2025-06-20 15:54:00,078] Trial 6 finished with value: 0.9146609964777109 and parameters: {'n_estimators': 220, 'max_depth': 14, 'num_leaves': 31, 'learning_rate': 0.0668350301015521, 'bagging_fraction': 0.522613644455269, 'bagging_freq': 4, 'min_child_samples': 42, 'lambda_l1': 1.3567451588694794, 'lambda_l2': 4.143687545759647}. Best is trial 6 with value: 0.9146609964777109.\n",
      "[I 2025-06-20 15:54:02,281] Trial 7 finished with value: 0.9127096679665992 and parameters: {'n_estimators': 171, 'max_depth': 6, 'num_leaves': 91, 'learning_rate': 0.050868025242681164, 'bagging_fraction': 0.9010984903770198, 'bagging_freq': 1, 'min_child_samples': 99, 'lambda_l1': 3.861223846483287, 'lambda_l2': 0.993578407670862}. Best is trial 6 with value: 0.9146609964777109.\n",
      "[I 2025-06-20 15:54:06,996] Trial 8 finished with value: 0.917549921139995 and parameters: {'n_estimators': 101, 'max_depth': 13, 'num_leaves': 112, 'learning_rate': 0.2214120787318863, 'bagging_fraction': 0.8856351733429728, 'bagging_freq': 1, 'min_child_samples': 39, 'lambda_l1': 0.5793452976256486, 'lambda_l2': 4.315517129377968}. Best is trial 8 with value: 0.917549921139995.\n",
      "[I 2025-06-20 15:54:09,983] Trial 9 finished with value: 0.916020979145374 and parameters: {'n_estimators': 225, 'max_depth': 7, 'num_leaves': 28, 'learning_rate': 0.10018487329754203, 'bagging_fraction': 0.6625916610133735, 'bagging_freq': 8, 'min_child_samples': 66, 'lambda_l1': 4.436063712881633, 'lambda_l2': 2.3610746258097466}. Best is trial 8 with value: 0.917549921139995.\n",
      "[I 2025-06-20 15:54:12,930] Trial 10 finished with value: 0.9194429623799593 and parameters: {'n_estimators': 104, 'max_depth': 12, 'num_leaves': 60, 'learning_rate': 0.2816281384446454, 'bagging_fraction': 0.9896117410993797, 'bagging_freq': 7, 'min_child_samples': 29, 'lambda_l1': 0.05557192411355649, 'lambda_l2': 4.846565363770473}. Best is trial 10 with value: 0.9194429623799593.\n",
      "[I 2025-06-20 15:54:15,662] Trial 11 finished with value: 0.9196331342172417 and parameters: {'n_estimators': 101, 'max_depth': 12, 'num_leaves': 57, 'learning_rate': 0.2912060710373591, 'bagging_fraction': 0.994860182233656, 'bagging_freq': 7, 'min_child_samples': 32, 'lambda_l1': 0.05523282377482286, 'lambda_l2': 4.994585968957924}. Best is trial 11 with value: 0.9196331342172417.\n",
      "[I 2025-06-20 15:54:18,377] Trial 12 finished with value: 0.9197777452943712 and parameters: {'n_estimators': 101, 'max_depth': 11, 'num_leaves': 57, 'learning_rate': 0.29964110089448176, 'bagging_fraction': 0.9985702612822334, 'bagging_freq': 7, 'min_child_samples': 26, 'lambda_l1': 0.16792942467235994, 'lambda_l2': 4.960190389535341}. Best is trial 12 with value: 0.9197777452943712.\n",
      "[I 2025-06-20 15:54:25,590] Trial 13 finished with value: 0.9160586694382392 and parameters: {'n_estimators': 300, 'max_depth': 11, 'num_leaves': 59, 'learning_rate': 0.29981510720605, 'bagging_fraction': 0.9929671205015036, 'bagging_freq': 7, 'min_child_samples': 28, 'lambda_l1': 2.4854269680542624, 'lambda_l2': 3.4275230406446715}. Best is trial 12 with value: 0.9197777452943712.\n",
      "[I 2025-06-20 15:54:28,934] Trial 14 finished with value: 0.9164616538778251 and parameters: {'n_estimators': 132, 'max_depth': 9, 'num_leaves': 65, 'learning_rate': 0.23772695203201738, 'bagging_fraction': 0.8155421717694826, 'bagging_freq': 9, 'min_child_samples': 59, 'lambda_l1': 0.9111536964922595, 'lambda_l2': 3.5549879265852358}. Best is trial 12 with value: 0.9197777452943712.\n",
      "[I 2025-06-20 15:54:31,937] Trial 15 finished with value: 0.9183828666654412 and parameters: {'n_estimators': 138, 'max_depth': 9, 'num_leaves': 47, 'learning_rate': 0.26987314186827294, 'bagging_fraction': 0.9072950643400717, 'bagging_freq': 6, 'min_child_samples': 20, 'lambda_l1': 0.014384625242269147, 'lambda_l2': 4.886332327975392}. Best is trial 12 with value: 0.9197777452943712.\n",
      "[I 2025-06-20 15:54:36,316] Trial 16 finished with value: 0.9151588182476239 and parameters: {'n_estimators': 129, 'max_depth': 12, 'num_leaves': 73, 'learning_rate': 0.2148852989334793, 'bagging_fraction': 0.740828185081354, 'bagging_freq': 8, 'min_child_samples': 37, 'lambda_l1': 2.3496535019921634, 'lambda_l2': 0.06589607190461777}. Best is trial 12 with value: 0.9197777452943712.\n",
      "[I 2025-06-20 15:54:39,583] Trial 17 finished with value: 0.9183317671955047 and parameters: {'n_estimators': 148, 'max_depth': 10, 'num_leaves': 45, 'learning_rate': 0.2898168819895054, 'bagging_fraction': 0.9518487077116159, 'bagging_freq': 6, 'min_child_samples': 53, 'lambda_l1': 1.8677888920917596, 'lambda_l2': 4.99313228077424}. Best is trial 12 with value: 0.9197777452943712.\n",
      "[I 2025-06-20 15:54:42,195] Trial 18 finished with value: 0.9052701201729692 and parameters: {'n_estimators': 118, 'max_depth': 15, 'num_leaves': 44, 'learning_rate': 0.0109447002070851, 'bagging_fraction': 0.8076593605954421, 'bagging_freq': 10, 'min_child_samples': 17, 'lambda_l1': 0.6449171304826773, 'lambda_l2': 1.9423591064306587}. Best is trial 12 with value: 0.9197777452943712.\n",
      "[I 2025-06-20 15:54:51,096] Trial 19 finished with value: 0.9166128138379227 and parameters: {'n_estimators': 262, 'max_depth': 13, 'num_leaves': 75, 'learning_rate': 0.13523875793990633, 'bagging_fraction': 0.8502530263406632, 'bagging_freq': 8, 'min_child_samples': 65, 'lambda_l1': 3.213827272429558, 'lambda_l2': 3.7133670915266936}. Best is trial 12 with value: 0.9197777452943712.\n",
      "[I 2025-06-20 15:54:57,013] Trial 20 finished with value: 0.9160913202024435 and parameters: {'n_estimators': 117, 'max_depth': 11, 'num_leaves': 132, 'learning_rate': 0.2580454462716558, 'bagging_fraction': 0.7508778189511673, 'bagging_freq': 5, 'min_child_samples': 30, 'lambda_l1': 1.2042844523823415, 'lambda_l2': 3.146639977007316}. Best is trial 12 with value: 0.9197777452943712.\n",
      "[I 2025-06-20 15:54:59,838] Trial 21 finished with value: 0.9198961403258423 and parameters: {'n_estimators': 100, 'max_depth': 12, 'num_leaves': 60, 'learning_rate': 0.27851954841475907, 'bagging_fraction': 0.9970341550386147, 'bagging_freq': 7, 'min_child_samples': 30, 'lambda_l1': 0.07359960077675376, 'lambda_l2': 4.807368069853103}. Best is trial 21 with value: 0.9198961403258423.\n",
      "[I 2025-06-20 15:55:03,812] Trial 22 finished with value: 0.9174714492407998 and parameters: {'n_estimators': 152, 'max_depth': 13, 'num_leaves': 54, 'learning_rate': 0.2983530695823148, 'bagging_fraction': 0.9355322294484334, 'bagging_freq': 7, 'min_child_samples': 35, 'lambda_l1': 0.36487765172218944, 'lambda_l2': 4.54270852931808}. Best is trial 21 with value: 0.9198961403258423.\n",
      "[I 2025-06-20 15:55:07,802] Trial 23 finished with value: 0.9198816060580443 and parameters: {'n_estimators': 117, 'max_depth': 11, 'num_leaves': 74, 'learning_rate': 0.21902280841263458, 'bagging_fraction': 0.9656248778875524, 'bagging_freq': 9, 'min_child_samples': 16, 'lambda_l1': 0.8305214310710031, 'lambda_l2': 3.8772031795896233}. Best is trial 21 with value: 0.9198961403258423.\n",
      "[I 2025-06-20 15:55:12,039] Trial 24 finished with value: 0.9193289938825266 and parameters: {'n_estimators': 118, 'max_depth': 11, 'num_leaves': 76, 'learning_rate': 0.2130691061737941, 'bagging_fraction': 0.9485645133683314, 'bagging_freq': 9, 'min_child_samples': 14, 'lambda_l1': 0.8224402237649198, 'lambda_l2': 4.25447533732818}. Best is trial 21 with value: 0.9198961403258423.\n",
      "[I 2025-06-20 15:55:16,066] Trial 25 finished with value: 0.9207911561740134 and parameters: {'n_estimators': 140, 'max_depth': 8, 'num_leaves': 69, 'learning_rate': 0.24193573751584044, 'bagging_fraction': 0.9558745470783361, 'bagging_freq': 9, 'min_child_samples': 6, 'lambda_l1': 1.9002080329226443, 'lambda_l2': 3.7777007812887775}. Best is trial 25 with value: 0.9207911561740134.\n",
      "[I 2025-06-20 15:55:20,610] Trial 26 finished with value: 0.9186841828720551 and parameters: {'n_estimators': 139, 'max_depth': 8, 'num_leaves': 82, 'learning_rate': 0.24430020989139545, 'bagging_fraction': 0.8654999282136745, 'bagging_freq': 9, 'min_child_samples': 5, 'lambda_l1': 2.064617024116848, 'lambda_l2': 3.7831535383669777}. Best is trial 25 with value: 0.9207911561740134.\n",
      "[I 2025-06-20 15:55:24,433] Trial 27 finished with value: 0.9207432952703891 and parameters: {'n_estimators': 122, 'max_depth': 10, 'num_leaves': 68, 'learning_rate': 0.1934002641365041, 'bagging_fraction': 0.9314837043476807, 'bagging_freq': 10, 'min_child_samples': 15, 'lambda_l1': 1.7433706472033683, 'lambda_l2': 3.0928991808646353}. Best is trial 25 with value: 0.9207911561740134.\n",
      "[I 2025-06-20 15:55:27,459] Trial 28 finished with value: 0.9193537974380159 and parameters: {'n_estimators': 158, 'max_depth': 8, 'num_leaves': 41, 'learning_rate': 0.19998005105729033, 'bagging_fraction': 0.9277015443683603, 'bagging_freq': 10, 'min_child_samples': 11, 'lambda_l1': 3.1901743804596485, 'lambda_l2': 3.101287935841605}. Best is trial 25 with value: 0.9207911561740134.\n",
      "[I 2025-06-20 15:55:29,601] Trial 29 finished with value: 0.9186311466935146 and parameters: {'n_estimators': 181, 'max_depth': 5, 'num_leaves': 68, 'learning_rate': 0.18397879608393813, 'bagging_fraction': 0.8241909080677586, 'bagging_freq': 10, 'min_child_samples': 5, 'lambda_l1': 3.0503108435652484, 'lambda_l2': 2.7492103350904697}. Best is trial 25 with value: 0.9207911561740134.\n",
      "[I 2025-06-20 15:55:37,322] Trial 30 finished with value: 0.9165586577586311 and parameters: {'n_estimators': 203, 'max_depth': 9, 'num_leaves': 97, 'learning_rate': 0.1522035858279377, 'bagging_fraction': 0.7814834816112007, 'bagging_freq': 8, 'min_child_samples': 22, 'lambda_l1': 1.779126267580857, 'lambda_l2': 2.2379179036107786}. Best is trial 25 with value: 0.9207911561740134.\n",
      "[I 2025-06-20 15:55:41,761] Trial 31 finished with value: 0.9192459774579744 and parameters: {'n_estimators': 121, 'max_depth': 10, 'num_leaves': 84, 'learning_rate': 0.2337837642825872, 'bagging_fraction': 0.9610897018347174, 'bagging_freq': 9, 'min_child_samples': 15, 'lambda_l1': 1.057684371344365, 'lambda_l2': 3.3200981236744616}. Best is trial 25 with value: 0.9207911561740134.\n",
      "[I 2025-06-20 15:55:45,716] Trial 32 finished with value: 0.9190265420363263 and parameters: {'n_estimators': 141, 'max_depth': 8, 'num_leaves': 67, 'learning_rate': 0.2649592496309506, 'bagging_fraction': 0.9662287964352078, 'bagging_freq': 9, 'min_child_samples': 12, 'lambda_l1': 1.592523557171, 'lambda_l2': 3.964692256777098}. Best is trial 25 with value: 0.9207911561740134.\n",
      "[I 2025-06-20 15:55:49,701] Trial 33 finished with value: 0.91918008350181 and parameters: {'n_estimators': 113, 'max_depth': 10, 'num_leaves': 79, 'learning_rate': 0.20074523623317492, 'bagging_fraction': 0.9158770323322563, 'bagging_freq': 10, 'min_child_samples': 18, 'lambda_l1': 2.75425973504092, 'lambda_l2': 2.82263167334692}. Best is trial 25 with value: 0.9207911561740134.\n",
      "[I 2025-06-20 15:55:52,260] Trial 34 finished with value: 0.9197386083923949 and parameters: {'n_estimators': 133, 'max_depth': 14, 'num_leaves': 37, 'learning_rate': 0.22785511375748504, 'bagging_fraction': 0.8790414698812116, 'bagging_freq': 8, 'min_child_samples': 23, 'lambda_l1': 2.134237601595032, 'lambda_l2': 4.6207143589427515}. Best is trial 25 with value: 0.9207911561740134.\n",
      "[I 2025-06-20 15:55:59,372] Trial 35 finished with value: 0.9179921747613953 and parameters: {'n_estimators': 162, 'max_depth': 10, 'num_leaves': 103, 'learning_rate': 0.24778399759121383, 'bagging_fraction': 0.9685728324646616, 'bagging_freq': 9, 'min_child_samples': 10, 'lambda_l1': 1.439549357867576, 'lambda_l2': 3.879396479826595}. Best is trial 25 with value: 0.9207911561740134.\n",
      "[I 2025-06-20 15:56:01,671] Trial 36 finished with value: 0.9160273386391546 and parameters: {'n_estimators': 126, 'max_depth': 7, 'num_leaves': 123, 'learning_rate': 0.1617975942711059, 'bagging_fraction': 0.6676375247790267, 'bagging_freq': 10, 'min_child_samples': 45, 'lambda_l1': 0.43300367565785086, 'lambda_l2': 3.4669581701242738}. Best is trial 25 with value: 0.9207911561740134.\n",
      "[I 2025-06-20 15:56:02,455] Trial 37 finished with value: 0.9103135201418742 and parameters: {'n_estimators': 171, 'max_depth': 3, 'num_leaves': 21, 'learning_rate': 0.1924254831566439, 'bagging_fraction': 0.8503464779364812, 'bagging_freq': 3, 'min_child_samples': 25, 'lambda_l1': 1.1518058156321769, 'lambda_l2': 2.993135558664811}. Best is trial 25 with value: 0.9207911561740134.\n",
      "[I 2025-06-20 15:56:09,390] Trial 38 finished with value: 0.9155377394793774 and parameters: {'n_estimators': 191, 'max_depth': 12, 'num_leaves': 91, 'learning_rate': 0.2773810212158803, 'bagging_fraction': 0.9209426624331486, 'bagging_freq': 6, 'min_child_samples': 80, 'lambda_l1': 1.659564354735995, 'lambda_l2': 1.9023174447612816}. Best is trial 25 with value: 0.9207911561740134.\n",
      "[I 2025-06-20 15:56:11,394] Trial 39 finished with value: 0.9188208536561134 and parameters: {'n_estimators': 108, 'max_depth': 6, 'num_leaves': 70, 'learning_rate': 0.17337753178155563, 'bagging_fraction': 0.8938502596111022, 'bagging_freq': 8, 'min_child_samples': 8, 'lambda_l1': 2.7610218685671253, 'lambda_l2': 4.219170796580771}. Best is trial 25 with value: 0.9207911561740134.\n",
      "[I 2025-06-20 15:56:14,583] Trial 40 finished with value: 0.919812175159237 and parameters: {'n_estimators': 145, 'max_depth': 8, 'num_leaves': 50, 'learning_rate': 0.122093131960403, 'bagging_fraction': 0.973647634352809, 'bagging_freq': 9, 'min_child_samples': 18, 'lambda_l1': 0.8820797449577903, 'lambda_l2': 4.544201424808948}. Best is trial 25 with value: 0.9207911561740134.\n",
      "[I 2025-06-20 15:56:17,723] Trial 41 finished with value: 0.9203112605602962 and parameters: {'n_estimators': 144, 'max_depth': 8, 'num_leaves': 50, 'learning_rate': 0.11525851437251838, 'bagging_fraction': 0.964187606834787, 'bagging_freq': 9, 'min_child_samples': 19, 'lambda_l1': 0.6693416444157938, 'lambda_l2': 4.535797904242413}. Best is trial 25 with value: 0.9207911561740134.\n",
      "[I 2025-06-20 15:56:19,733] Trial 42 finished with value: 0.919118770282598 and parameters: {'n_estimators': 112, 'max_depth': 9, 'num_leaves': 35, 'learning_rate': 0.10499417847734525, 'bagging_fraction': 0.9365527955040742, 'bagging_freq': 10, 'min_child_samples': 14, 'lambda_l1': 0.32735176437714175, 'lambda_l2': 4.4142054819565475}. Best is trial 25 with value: 0.9207911561740134.\n",
      "[I 2025-06-20 15:56:21,839] Trial 43 finished with value: 0.9164724561889213 and parameters: {'n_estimators': 127, 'max_depth': 6, 'num_leaves': 52, 'learning_rate': 0.09660988124604772, 'bagging_fraction': 0.9575488882637873, 'bagging_freq': 9, 'min_child_samples': 22, 'lambda_l1': 0.6330286904087523, 'lambda_l2': 3.6657753443475265}. Best is trial 25 with value: 0.9207911561740134.\n",
      "[I 2025-06-20 15:56:26,601] Trial 44 finished with value: 0.920410965881725 and parameters: {'n_estimators': 162, 'max_depth': 9, 'num_leaves': 66, 'learning_rate': 0.25551047772551694, 'bagging_fraction': 0.9795503996731991, 'bagging_freq': 8, 'min_child_samples': 8, 'lambda_l1': 1.356895924608445, 'lambda_l2': 4.036410247436693}. Best is trial 25 with value: 0.9207911561740134.\n",
      "[I 2025-06-20 15:56:30,612] Trial 45 finished with value: 0.918992642810786 and parameters: {'n_estimators': 164, 'max_depth': 7, 'num_leaves': 62, 'learning_rate': 0.2563625925152164, 'bagging_fraction': 0.9814938163843991, 'bagging_freq': 8, 'min_child_samples': 5, 'lambda_l1': 1.9978259530559983, 'lambda_l2': 4.696543527477635}. Best is trial 25 with value: 0.9207911561740134.\n",
      "[I 2025-06-20 15:56:34,488] Trial 46 finished with value: 0.921379200789622 and parameters: {'n_estimators': 150, 'max_depth': 8, 'num_leaves': 60, 'learning_rate': 0.1457029704625398, 'bagging_fraction': 0.9982409522597624, 'bagging_freq': 7, 'min_child_samples': 10, 'lambda_l1': 1.3517133305667608, 'lambda_l2': 4.147437948397213}. Best is trial 46 with value: 0.921379200789622.\n",
      "[I 2025-06-20 15:56:36,253] Trial 47 finished with value: 0.9135758473279056 and parameters: {'n_estimators': 152, 'max_depth': 5, 'num_leaves': 150, 'learning_rate': 0.08072915922938873, 'bagging_fraction': 0.9019459993732272, 'bagging_freq': 8, 'min_child_samples': 9, 'lambda_l1': 1.185695800712628, 'lambda_l2': 4.0148205604083484}. Best is trial 46 with value: 0.921379200789622.\n",
      "[I 2025-06-20 15:56:40,919] Trial 48 finished with value: 0.9197679452324283 and parameters: {'n_estimators': 193, 'max_depth': 9, 'num_leaves': 66, 'learning_rate': 0.13555798269321212, 'bagging_fraction': 0.9431832646432478, 'bagging_freq': 6, 'min_child_samples': 84, 'lambda_l1': 1.379918209135172, 'lambda_l2': 3.2934355156521034}. Best is trial 46 with value: 0.921379200789622.\n",
      "[I 2025-06-20 15:56:44,971] Trial 49 finished with value: 0.9174700818904608 and parameters: {'n_estimators': 175, 'max_depth': 8, 'num_leaves': 53, 'learning_rate': 0.15040889313661393, 'bagging_fraction': 0.6991561570397228, 'bagging_freq': 7, 'min_child_samples': 11, 'lambda_l1': 2.2082410951331455, 'lambda_l2': 4.137866519324942}. Best is trial 46 with value: 0.921379200789622.\n"
     ]
    }
   ],
   "source": [
    "best_lgb_params_dom = hypertune_lgb(X_dom_train, y_dom_train)"
   ]
  },
  {
   "cell_type": "code",
   "execution_count": 38,
   "id": "a87725b5",
   "metadata": {},
   "outputs": [],
   "source": [
    "# Fit LightGBM model\n",
    "lgb_model_dom = LGBMClassifier(**best_lgb_params_dom)"
   ]
  },
  {
   "cell_type": "markdown",
   "id": "11dd5479",
   "metadata": {},
   "source": [
    "### Hypertuning for 'Is Global Ultimate'"
   ]
  },
  {
   "cell_type": "code",
   "execution_count": 39,
   "id": "0c6380e9",
   "metadata": {},
   "outputs": [
    {
     "name": "stderr",
     "output_type": "stream",
     "text": [
      "[I 2025-06-20 15:56:44,978] A new study created in memory with name: no-name-c127243d-e939-4311-8368-24267c4c5653\n",
      "[I 2025-06-20 15:56:53,017] Trial 0 finished with value: 0.882907722149397 and parameters: {'n_estimators': 175, 'max_depth': 15, 'num_leaves': 115, 'learning_rate': 0.1836109604171406, 'bagging_fraction': 0.5780093202212182, 'bagging_freq': 2, 'min_child_samples': 10, 'lambda_l1': 4.330880728874676, 'lambda_l2': 3.005575058716044}. Best is trial 0 with value: 0.882907722149397.\n",
      "[I 2025-06-20 15:56:54,769] Trial 1 finished with value: 0.8816413133863854 and parameters: {'n_estimators': 242, 'max_depth': 3, 'num_leaves': 147, 'learning_rate': 0.2514083658321223, 'bagging_fraction': 0.6061695553391381, 'bagging_freq': 2, 'min_child_samples': 22, 'lambda_l1': 1.5212112147976886, 'lambda_l2': 2.6237821581611893}. Best is trial 0 with value: 0.882907722149397.\n",
      "[I 2025-06-20 15:56:57,836] Trial 2 finished with value: 0.8776409556700484 and parameters: {'n_estimators': 186, 'max_depth': 6, 'num_leaves': 100, 'learning_rate': 0.05045321958909213, 'bagging_fraction': 0.6460723242676091, 'bagging_freq': 4, 'min_child_samples': 48, 'lambda_l1': 3.925879806965068, 'lambda_l2': 0.9983689107917987}. Best is trial 0 with value: 0.882907722149397.\n",
      "[I 2025-06-20 15:57:01,256] Trial 3 finished with value: 0.8835844018495596 and parameters: {'n_estimators': 203, 'max_depth': 10, 'num_leaves': 26, 'learning_rate': 0.1861880070514171, 'bagging_fraction': 0.5852620618436457, 'bagging_freq': 1, 'min_child_samples': 96, 'lambda_l1': 4.828160165372797, 'lambda_l2': 4.041986740582305}. Best is trial 3 with value: 0.8835844018495596.\n",
      "[I 2025-06-20 15:57:02,990] Trial 4 finished with value: 0.8803258852205001 and parameters: {'n_estimators': 161, 'max_depth': 4, 'num_leaves': 109, 'learning_rate': 0.13764422318448438, 'bagging_fraction': 0.5610191174223894, 'bagging_freq': 5, 'min_child_samples': 8, 'lambda_l1': 4.546602010393911, 'lambda_l2': 1.2938999080000846}. Best is trial 3 with value: 0.8835844018495596.\n",
      "[I 2025-06-20 15:57:07,544] Trial 5 finished with value: 0.8830677831386691 and parameters: {'n_estimators': 233, 'max_depth': 7, 'num_leaves': 88, 'learning_rate': 0.1685459810095511, 'bagging_fraction': 0.5924272277627636, 'bagging_freq': 10, 'min_child_samples': 79, 'lambda_l1': 4.697494707820946, 'lambda_l2': 4.474136752138244}. Best is trial 3 with value: 0.8835844018495596.\n",
      "[I 2025-06-20 15:57:11,917] Trial 6 finished with value: 0.8835929821103005 and parameters: {'n_estimators': 220, 'max_depth': 14, 'num_leaves': 31, 'learning_rate': 0.0668350301015521, 'bagging_fraction': 0.522613644455269, 'bagging_freq': 4, 'min_child_samples': 42, 'lambda_l1': 1.3567451588694794, 'lambda_l2': 4.143687545759647}. Best is trial 6 with value: 0.8835929821103005.\n",
      "[I 2025-06-20 15:57:14,571] Trial 7 finished with value: 0.8764254954383868 and parameters: {'n_estimators': 171, 'max_depth': 6, 'num_leaves': 91, 'learning_rate': 0.050868025242681164, 'bagging_fraction': 0.9010984903770198, 'bagging_freq': 1, 'min_child_samples': 99, 'lambda_l1': 3.861223846483287, 'lambda_l2': 0.993578407670862}. Best is trial 6 with value: 0.8835929821103005.\n",
      "[I 2025-06-20 15:57:19,994] Trial 8 finished with value: 0.884431233223944 and parameters: {'n_estimators': 101, 'max_depth': 13, 'num_leaves': 112, 'learning_rate': 0.2214120787318863, 'bagging_fraction': 0.8856351733429728, 'bagging_freq': 1, 'min_child_samples': 39, 'lambda_l1': 0.5793452976256486, 'lambda_l2': 4.315517129377968}. Best is trial 8 with value: 0.884431233223944.\n",
      "[I 2025-06-20 15:57:23,737] Trial 9 finished with value: 0.8833781314040188 and parameters: {'n_estimators': 225, 'max_depth': 7, 'num_leaves': 28, 'learning_rate': 0.10018487329754203, 'bagging_fraction': 0.6625916610133735, 'bagging_freq': 8, 'min_child_samples': 66, 'lambda_l1': 4.436063712881633, 'lambda_l2': 2.3610746258097466}. Best is trial 8 with value: 0.884431233223944.\n",
      "[I 2025-06-20 15:57:27,497] Trial 10 finished with value: 0.8874130565733193 and parameters: {'n_estimators': 104, 'max_depth': 12, 'num_leaves': 60, 'learning_rate': 0.2816281384446454, 'bagging_fraction': 0.9896117410993797, 'bagging_freq': 7, 'min_child_samples': 29, 'lambda_l1': 0.05557192411355649, 'lambda_l2': 4.846565363770473}. Best is trial 10 with value: 0.8874130565733193.\n",
      "[I 2025-06-20 15:57:31,035] Trial 11 finished with value: 0.88628004268526 and parameters: {'n_estimators': 101, 'max_depth': 12, 'num_leaves': 57, 'learning_rate': 0.2912060710373591, 'bagging_fraction': 0.994860182233656, 'bagging_freq': 7, 'min_child_samples': 32, 'lambda_l1': 0.05523282377482286, 'lambda_l2': 4.994585968957924}. Best is trial 10 with value: 0.8874130565733193.\n",
      "[I 2025-06-20 15:57:34,520] Trial 12 finished with value: 0.8849717311610485 and parameters: {'n_estimators': 101, 'max_depth': 11, 'num_leaves': 57, 'learning_rate': 0.29964110089448176, 'bagging_fraction': 0.9985702612822334, 'bagging_freq': 7, 'min_child_samples': 26, 'lambda_l1': 0.16792942467235994, 'lambda_l2': 4.960190389535341}. Best is trial 10 with value: 0.8874130565733193.\n",
      "[I 2025-06-20 15:57:42,403] Trial 13 finished with value: 0.8845145698972721 and parameters: {'n_estimators': 300, 'max_depth': 11, 'num_leaves': 61, 'learning_rate': 0.29981510720605, 'bagging_fraction': 0.9928026005220635, 'bagging_freq': 7, 'min_child_samples': 28, 'lambda_l1': 2.4854269680542624, 'lambda_l2': 3.4275230406446715}. Best is trial 10 with value: 0.8874130565733193.\n",
      "[I 2025-06-20 15:57:47,281] Trial 14 finished with value: 0.8818465010945558 and parameters: {'n_estimators': 133, 'max_depth': 12, 'num_leaves': 68, 'learning_rate': 0.2539958194998155, 'bagging_fraction': 0.8173706947302692, 'bagging_freq': 9, 'min_child_samples': 59, 'lambda_l1': 0.9669008196971131, 'lambda_l2': 1.9366627625386021}. Best is trial 10 with value: 0.8874130565733193.\n",
      "[I 2025-06-20 15:57:50,978] Trial 15 finished with value: 0.8882084076073358 and parameters: {'n_estimators': 134, 'max_depth': 9, 'num_leaves': 46, 'learning_rate': 0.25699826796839886, 'bagging_fraction': 0.9295482693351869, 'bagging_freq': 6, 'min_child_samples': 34, 'lambda_l1': 0.026480141238399476, 'lambda_l2': 4.888622851872595}. Best is trial 15 with value: 0.8882084076073358.\n",
      "[I 2025-06-20 15:57:54,577] Trial 16 finished with value: 0.8870625140991072 and parameters: {'n_estimators': 135, 'max_depth': 9, 'num_leaves': 44, 'learning_rate': 0.23690579566949543, 'bagging_fraction': 0.9202685958641561, 'bagging_freq': 6, 'min_child_samples': 17, 'lambda_l1': 2.211909590506497, 'lambda_l2': 0.06589607190461777}. Best is trial 15 with value: 0.8882084076073358.\n",
      "[I 2025-06-20 15:57:59,258] Trial 17 finished with value: 0.8864468930993155 and parameters: {'n_estimators': 135, 'max_depth': 9, 'num_leaves': 76, 'learning_rate': 0.20930282830544056, 'bagging_fraction': 0.7537458820696782, 'bagging_freq': 5, 'min_child_samples': 53, 'lambda_l1': 3.0975884463541163, 'lambda_l2': 3.3561848367527602}. Best is trial 15 with value: 0.8882084076073358.\n",
      "[I 2025-06-20 15:58:02,857] Trial 18 finished with value: 0.8857626312820601 and parameters: {'n_estimators': 149, 'max_depth': 8, 'num_leaves': 44, 'learning_rate': 0.13549622724234256, 'bagging_fraction': 0.8020792747505997, 'bagging_freq': 9, 'min_child_samples': 67, 'lambda_l1': 1.6467960616791526, 'lambda_l2': 3.887391960802947}. Best is trial 15 with value: 0.8882084076073358.\n",
      "[I 2025-06-20 15:58:06,310] Trial 19 finished with value: 0.8870256844047528 and parameters: {'n_estimators': 121, 'max_depth': 10, 'num_leaves': 46, 'learning_rate': 0.2731617864403236, 'bagging_fraction': 0.9379824215611893, 'bagging_freq': 6, 'min_child_samples': 36, 'lambda_l1': 0.7412854357258117, 'lambda_l2': 4.63484076703423}. Best is trial 15 with value: 0.8882084076073358.\n",
      "[I 2025-06-20 15:58:16,476] Trial 20 finished with value: 0.8811247332902351 and parameters: {'n_estimators': 264, 'max_depth': 15, 'num_leaves': 72, 'learning_rate': 0.2085609097830895, 'bagging_fraction': 0.838998185523952, 'bagging_freq': 4, 'min_child_samples': 16, 'lambda_l1': 0.4018986725330798, 'lambda_l2': 3.5835953820045923}. Best is trial 15 with value: 0.8882084076073358.\n",
      "[I 2025-06-20 15:58:19,684] Trial 21 finished with value: 0.8876613626323702 and parameters: {'n_estimators': 122, 'max_depth': 9, 'num_leaves': 43, 'learning_rate': 0.24313145857008372, 'bagging_fraction': 0.9428642525143134, 'bagging_freq': 6, 'min_child_samples': 17, 'lambda_l1': 2.1973100311822993, 'lambda_l2': 0.06275099683960121}. Best is trial 15 with value: 0.8882084076073358.\n",
      "[I 2025-06-20 15:58:22,582] Trial 22 finished with value: 0.8891589860097374 and parameters: {'n_estimators': 120, 'max_depth': 8, 'num_leaves': 39, 'learning_rate': 0.264161796307846, 'bagging_fraction': 0.9497391782729339, 'bagging_freq': 8, 'min_child_samples': 20, 'lambda_l1': 3.106452018417596, 'lambda_l2': 0.3532155717102894}. Best is trial 22 with value: 0.8891589860097374.\n",
      "[I 2025-06-20 15:58:25,936] Trial 23 finished with value: 0.867002335381246 and parameters: {'n_estimators': 152, 'max_depth': 8, 'num_leaves': 37, 'learning_rate': 0.015310537446248385, 'bagging_fraction': 0.9400131173613442, 'bagging_freq': 8, 'min_child_samples': 5, 'lambda_l1': 3.0483124122983787, 'lambda_l2': 0.16710432561417876}. Best is trial 22 with value: 0.8891589860097374.\n",
      "[I 2025-06-20 15:58:27,796] Trial 24 finished with value: 0.8868106876541832 and parameters: {'n_estimators': 122, 'max_depth': 5, 'num_leaves': 21, 'learning_rate': 0.25931364755723285, 'bagging_fraction': 0.8663018626620574, 'bagging_freq': 8, 'min_child_samples': 20, 'lambda_l1': 3.2976465208635553, 'lambda_l2': 0.7262220292035089}. Best is trial 22 with value: 0.8891589860097374.\n",
      "[I 2025-06-20 15:58:31,030] Trial 25 finished with value: 0.8877722186326695 and parameters: {'n_estimators': 119, 'max_depth': 8, 'num_leaves': 49, 'learning_rate': 0.2302226426760645, 'bagging_fraction': 0.9513459181095547, 'bagging_freq': 6, 'min_child_samples': 43, 'lambda_l1': 2.0977969252893147, 'lambda_l2': 1.6320815130462527}. Best is trial 22 with value: 0.8891589860097374.\n",
      "[I 2025-06-20 15:58:34,429] Trial 26 finished with value: 0.8866388760102211 and parameters: {'n_estimators': 149, 'max_depth': 7, 'num_leaves': 50, 'learning_rate': 0.22702831910153182, 'bagging_fraction': 0.7722382673781224, 'bagging_freq': 10, 'min_child_samples': 47, 'lambda_l1': 2.72225054592676, 'lambda_l2': 1.7888021795170952}. Best is trial 22 with value: 0.8891589860097374.\n",
      "[I 2025-06-20 15:58:38,134] Trial 27 finished with value: 0.8864069357748404 and parameters: {'n_estimators': 119, 'max_depth': 8, 'num_leaves': 78, 'learning_rate': 0.18929900090253907, 'bagging_fraction': 0.8640126937833033, 'bagging_freq': 5, 'min_child_samples': 36, 'lambda_l1': 3.7092293792888005, 'lambda_l2': 1.5729668192512958}. Best is trial 22 with value: 0.8891589860097374.\n",
      "[I 2025-06-20 15:58:41,874] Trial 28 finished with value: 0.8844422576086579 and parameters: {'n_estimators': 189, 'max_depth': 10, 'num_leaves': 32, 'learning_rate': 0.26735853896748984, 'bagging_fraction': 0.9562413024579108, 'bagging_freq': 9, 'min_child_samples': 56, 'lambda_l1': 1.9047235715872375, 'lambda_l2': 0.5704995379407778}. Best is trial 22 with value: 0.8891589860097374.\n",
      "[I 2025-06-20 15:58:45,063] Trial 29 finished with value: 0.8821757455300687 and parameters: {'n_estimators': 168, 'max_depth': 6, 'num_leaves': 126, 'learning_rate': 0.20551971856134146, 'bagging_fraction': 0.691369756982184, 'bagging_freq': 3, 'min_child_samples': 44, 'lambda_l1': 1.1472139650353363, 'lambda_l2': 2.848808463512673}. Best is trial 22 with value: 0.8891589860097374.\n",
      "[I 2025-06-20 15:58:48,195] Trial 30 finished with value: 0.8854828191603588 and parameters: {'n_estimators': 140, 'max_depth': 8, 'num_leaves': 37, 'learning_rate': 0.169023318690513, 'bagging_fraction': 0.7137981509777913, 'bagging_freq': 6, 'min_child_samples': 11, 'lambda_l1': 2.613182726507664, 'lambda_l2': 2.2485130422452873}. Best is trial 22 with value: 0.8891589860097374.\n",
      "[I 2025-06-20 15:58:51,553] Trial 31 finished with value: 0.886753313610793 and parameters: {'n_estimators': 118, 'max_depth': 9, 'num_leaves': 49, 'learning_rate': 0.24082875384886354, 'bagging_fraction': 0.9588781058083107, 'bagging_freq': 6, 'min_child_samples': 14, 'lambda_l1': 2.094018721635992, 'lambda_l2': 0.3679718282560009}. Best is trial 22 with value: 0.8891589860097374.\n",
      "[I 2025-06-20 15:58:54,404] Trial 32 finished with value: 0.8876393354817725 and parameters: {'n_estimators': 112, 'max_depth': 9, 'num_leaves': 39, 'learning_rate': 0.24548438621192112, 'bagging_fraction': 0.9116291991511032, 'bagging_freq': 5, 'min_child_samples': 24, 'lambda_l1': 3.4630744967950777, 'lambda_l2': 0.7388023392297526}. Best is trial 22 with value: 0.8891589860097374.\n",
      "[I 2025-06-20 15:58:57,620] Trial 33 finished with value: 0.885947783130338 and parameters: {'n_estimators': 128, 'max_depth': 7, 'num_leaves': 67, 'learning_rate': 0.27504162509117736, 'bagging_fraction': 0.881760212321065, 'bagging_freq': 7, 'min_child_samples': 33, 'lambda_l1': 4.0639016505416325, 'lambda_l2': 1.1886475106266288}. Best is trial 22 with value: 0.8891589860097374.\n",
      "[I 2025-06-20 15:59:00,041] Trial 34 finished with value: 0.8853312227481874 and parameters: {'n_estimators': 158, 'max_depth': 10, 'num_leaves': 20, 'learning_rate': 0.2282185503871646, 'bagging_fraction': 0.9527979513972851, 'bagging_freq': 8, 'min_child_samples': 22, 'lambda_l1': 1.7521409369542646, 'lambda_l2': 0.009782687196080386}. Best is trial 22 with value: 0.8891589860097374.\n",
      "[I 2025-06-20 15:59:03,004] Trial 35 finished with value: 0.8876711844297157 and parameters: {'n_estimators': 185, 'max_depth': 5, 'num_leaves': 53, 'learning_rate': 0.26027450199410695, 'bagging_fraction': 0.8468922462785523, 'bagging_freq': 3, 'min_child_samples': 11, 'lambda_l1': 2.4120162090771187, 'lambda_l2': 0.4589376988979868}. Best is trial 22 with value: 0.8891589860097374.\n",
      "[I 2025-06-20 15:59:04,722] Trial 36 finished with value: 0.8851965240598393 and parameters: {'n_estimators': 206, 'max_depth': 3, 'num_leaves': 148, 'learning_rate': 0.2565049853999255, 'bagging_fraction': 0.8414800189055169, 'bagging_freq': 2, 'min_child_samples': 10, 'lambda_l1': 1.4288322730414076, 'lambda_l2': 2.663400681861603}. Best is trial 22 with value: 0.8891589860097374.\n",
      "[I 2025-06-20 15:59:07,473] Trial 37 finished with value: 0.8867830023919174 and parameters: {'n_estimators': 187, 'max_depth': 5, 'num_leaves': 132, 'learning_rate': 0.19352197074477498, 'bagging_fraction': 0.7878857442081849, 'bagging_freq': 3, 'min_child_samples': 49, 'lambda_l1': 2.862223825474412, 'lambda_l2': 1.4200274102183221}. Best is trial 22 with value: 0.8891589860097374.\n",
      "[I 2025-06-20 15:59:09,157] Trial 38 finished with value: 0.8803201696728211 and parameters: {'n_estimators': 144, 'max_depth': 4, 'num_leaves': 52, 'learning_rate': 0.13211098253961218, 'bagging_fraction': 0.9102546196973033, 'bagging_freq': 3, 'min_child_samples': 40, 'lambda_l1': 3.375588687302149, 'lambda_l2': 0.9904613209408033}. Best is trial 22 with value: 0.8891589860097374.\n",
      "[I 2025-06-20 15:59:13,969] Trial 39 finished with value: 0.8846406418004911 and parameters: {'n_estimators': 244, 'max_depth': 6, 'num_leaves': 98, 'learning_rate': 0.2851686203933787, 'bagging_fraction': 0.8473305532083977, 'bagging_freq': 4, 'min_child_samples': 22, 'lambda_l1': 2.5196379932634057, 'lambda_l2': 0.4405647057049318}. Best is trial 22 with value: 0.8891589860097374.\n",
      "[I 2025-06-20 15:59:16,841] Trial 40 finished with value: 0.8881333644676775 and parameters: {'n_estimators': 174, 'max_depth': 5, 'num_leaves': 83, 'learning_rate': 0.2646401067908147, 'bagging_fraction': 0.9727403270663277, 'bagging_freq': 2, 'min_child_samples': 5, 'lambda_l1': 1.2166370129244453, 'lambda_l2': 2.081574431260362}. Best is trial 22 with value: 0.8891589860097374.\n",
      "[I 2025-06-20 15:59:19,707] Trial 41 finished with value: 0.8877989230860633 and parameters: {'n_estimators': 179, 'max_depth': 5, 'num_leaves': 65, 'learning_rate': 0.2587993678885872, 'bagging_fraction': 0.9678859635778104, 'bagging_freq': 2, 'min_child_samples': 7, 'lambda_l1': 0.7940823350190899, 'lambda_l2': 2.062306334084023}. Best is trial 22 with value: 0.8891589860097374.\n",
      "[I 2025-06-20 15:59:21,649] Trial 42 finished with value: 0.8856748422027925 and parameters: {'n_estimators': 164, 'max_depth': 4, 'num_leaves': 83, 'learning_rate': 0.27373889106508387, 'bagging_fraction': 0.97239533787193, 'bagging_freq': 2, 'min_child_samples': 5, 'lambda_l1': 0.8718011833320919, 'lambda_l2': 2.0627214470527697}. Best is trial 22 with value: 0.8891589860097374.\n",
      "[I 2025-06-20 15:59:26,016] Trial 43 finished with value: 0.8861220760163471 and parameters: {'n_estimators': 210, 'max_depth': 6, 'num_leaves': 66, 'learning_rate': 0.2335306917039205, 'bagging_fraction': 0.925704295340634, 'bagging_freq': 1, 'min_child_samples': 5, 'lambda_l1': 0.484896775254591, 'lambda_l2': 2.493016501874794}. Best is trial 22 with value: 0.8891589860097374.\n",
      "[I 2025-06-20 15:59:27,529] Trial 44 finished with value: 0.879481272994628 and parameters: {'n_estimators': 178, 'max_depth': 3, 'num_leaves': 99, 'learning_rate': 0.2507949107473943, 'bagging_fraction': 0.9717369305435886, 'bagging_freq': 4, 'min_child_samples': 87, 'lambda_l1': 1.2174012574093123, 'lambda_l2': 3.1172254701074364}. Best is trial 22 with value: 0.8891589860097374.\n",
      "[I 2025-06-20 15:59:30,472] Trial 45 finished with value: 0.8852211919315112 and parameters: {'n_estimators': 196, 'max_depth': 5, 'num_leaves': 81, 'learning_rate': 0.2214392821920784, 'bagging_fraction': 0.8823858232136221, 'bagging_freq': 2, 'min_child_samples': 30, 'lambda_l1': 0.2522810192351501, 'lambda_l2': 1.7044361253719307}. Best is trial 22 with value: 0.8891589860097374.\n",
      "[I 2025-06-20 15:59:35,271] Trial 46 finished with value: 0.8858559959482187 and parameters: {'n_estimators': 158, 'max_depth': 7, 'num_leaves': 91, 'learning_rate': 0.2912873872607073, 'bagging_fraction': 0.9759655969654144, 'bagging_freq': 3, 'min_child_samples': 14, 'lambda_l1': 1.084257144052003, 'lambda_l2': 2.163528698208425}. Best is trial 22 with value: 0.8891589860097374.\n",
      "[I 2025-06-20 15:59:36,687] Trial 47 finished with value: 0.8799360794237495 and parameters: {'n_estimators': 109, 'max_depth': 4, 'num_leaves': 59, 'learning_rate': 0.17330795351489794, 'bagging_fraction': 0.8977140884193465, 'bagging_freq': 1, 'min_child_samples': 19, 'lambda_l1': 0.7594778207785523, 'lambda_l2': 2.710885669532521}. Best is trial 22 with value: 0.8891589860097374.\n",
      "[I 2025-06-20 15:59:39,845] Trial 48 finished with value: 0.8880152744561917 and parameters: {'n_estimators': 172, 'max_depth': 6, 'num_leaves': 32, 'learning_rate': 0.11715516140744794, 'bagging_fraction': 0.9262950013798823, 'bagging_freq': 7, 'min_child_samples': 26, 'lambda_l1': 0.3074709857242244, 'lambda_l2': 2.4140182063581426}. Best is trial 22 with value: 0.8891589860097374.\n",
      "[I 2025-06-20 15:59:42,916] Trial 49 finished with value: 0.8857232881408633 and parameters: {'n_estimators': 177, 'max_depth': 6, 'num_leaves': 31, 'learning_rate': 0.10560278810638807, 'bagging_fraction': 0.9795290616754831, 'bagging_freq': 7, 'min_child_samples': 26, 'lambda_l1': 0.6309532274415286, 'lambda_l2': 3.040643479332841}. Best is trial 22 with value: 0.8891589860097374.\n"
     ]
    }
   ],
   "source": [
    "best_lgb_params_global = hypertune_lgb(X_global_train, y_global_train, oversample=True)"
   ]
  },
  {
   "cell_type": "code",
   "execution_count": 40,
   "id": "9069fea1",
   "metadata": {},
   "outputs": [],
   "source": [
    "# Fit LightGBM modelodel\n",
    "lgb_model_global = LGBMClassifier(**best_lgb_params_global)"
   ]
  },
  {
   "cell_type": "markdown",
   "id": "a9b3855d",
   "metadata": {},
   "source": [
    "# Stacking\n",
    "- Stacking XGBoost, LightGBM and Random Forest together.\n",
    "- Use Logistic Regression as the final estimator."
   ]
  },
  {
   "cell_type": "markdown",
   "id": "355fff59",
   "metadata": {},
   "source": [
    "## Stacking for 'Is Domestic Ultimate'"
   ]
  },
  {
   "cell_type": "code",
   "execution_count": 41,
   "id": "376baffd",
   "metadata": {},
   "outputs": [
    {
     "name": "stdout",
     "output_type": "stream",
     "text": [
      "              precision    recall  f1-score   support\n",
      "\n",
      "           0       0.94      0.90      0.92      2908\n",
      "           1       0.91      0.95      0.93      2929\n",
      "\n",
      "    accuracy                           0.92      5837\n",
      "   macro avg       0.92      0.92      0.92      5837\n",
      "weighted avg       0.92      0.92      0.92      5837\n",
      "\n"
     ]
    }
   ],
   "source": [
    "from sklearn.ensemble import StackingClassifier\n",
    "from sklearn.metrics import classification_report\n",
    "\n",
    "\n",
    "cv = StratifiedKFold(n_splits=5, shuffle=True, random_state=42)\n",
    "stack_model_dom = StackingClassifier(\n",
    "    estimators=[('rf', rf_model_dom), ('xgb', xgb_model_dom), ('lgb', lgb_model_dom)],  # type: ignore\n",
    "    final_estimator=LogisticRegression(),\n",
    "    cv=cv,\n",
    "    passthrough=False\n",
    ")\n",
    "\n",
    "stack_model_dom.fit(X_dom_train, y_dom_train)\n",
    "stack_pred_dom = stack_model_dom.predict(X_dom_test)\n",
    "\n",
    "# Evaluate model\n",
    "report = classification_report(y_dom_test, stack_pred_dom)  # type: ignore\n",
    "print(report)"
   ]
  },
  {
   "cell_type": "markdown",
   "id": "3995ad09",
   "metadata": {},
   "source": [
    "## Stacking for 'Is Global Ultimate'"
   ]
  },
  {
   "cell_type": "code",
   "execution_count": 42,
   "id": "8c213ee2",
   "metadata": {},
   "outputs": [
    {
     "name": "stdout",
     "output_type": "stream",
     "text": [
      "              precision    recall  f1-score   support\n",
      "\n",
      "           0       0.97      0.95      0.96      4314\n",
      "           1       0.87      0.91      0.89      1523\n",
      "\n",
      "    accuracy                           0.94      5837\n",
      "   macro avg       0.92      0.93      0.92      5837\n",
      "weighted avg       0.94      0.94      0.94      5837\n",
      "\n"
     ]
    }
   ],
   "source": [
    "from sklearn.ensemble import StackingClassifier\n",
    "from sklearn.metrics import classification_report\n",
    "\n",
    "\n",
    "cv = StratifiedKFold(n_splits=5, shuffle=True, random_state=42)\n",
    "stack_model_global = StackingClassifier(\n",
    "    estimators=[('rf', rf_model_global), ('xgb', xgb_model_global), ('lgb', lgb_model_global)],  # type: ignore\n",
    "    final_estimator=LogisticRegression(),\n",
    "    cv=cv,\n",
    "    passthrough=False\n",
    ")\n",
    "\n",
    "smote = SMOTE(sampling_strategy=\"auto\", random_state=42)\n",
    "smote_data = smote.fit_resample(X_global_train, y_global_train)\n",
    "X_global_train_resampled = smote_data[0]\n",
    "y_global_train_resampled = smote_data[1]\n",
    "\n",
    "stack_model_global.fit(X_global_train_resampled, y_global_train_resampled)\n",
    "stack_pred_global = stack_model_global.predict(X_global_test)\n",
    "\n",
    "# Evaluate model\n",
    "report = classification_report(y_global_test, stack_pred_global)  # type: ignore\n",
    "print(report)"
   ]
  }
 ],
 "metadata": {
  "kernelspec": {
   "display_name": ".venv",
   "language": "python",
   "name": "python3"
  },
  "language_info": {
   "codemirror_mode": {
    "name": "ipython",
    "version": 3
   },
   "file_extension": ".py",
   "mimetype": "text/x-python",
   "name": "python",
   "nbconvert_exporter": "python",
   "pygments_lexer": "ipython3",
   "version": "3.13.5"
  }
 },
 "nbformat": 4,
 "nbformat_minor": 5
}
